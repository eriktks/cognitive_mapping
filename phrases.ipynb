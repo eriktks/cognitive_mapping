{
 "cells": [
  {
   "cell_type": "markdown",
   "id": "02b36f46-d6bc-4581-899a-fa8d26fcd390",
   "metadata": {},
   "source": [
    "# Phrases\n",
    "\n",
    "Process the phrases that appear in a relation."
   ]
  },
  {
   "cell_type": "code",
   "execution_count": 135,
   "id": "90d0a2ff-aa89-462a-b714-22f7dd45f738",
   "metadata": {},
   "outputs": [],
   "source": [
    "import copy\n",
    "import json\n",
    "import pandas as pd"
   ]
  },
  {
   "cell_type": "markdown",
   "id": "0331f1bd-85e7-417d-b5e7-a656ae6c4e96",
   "metadata": {},
   "source": [
    "## 1. Read the data"
   ]
  },
  {
   "cell_type": "code",
   "execution_count": 6,
   "id": "264cfc81-f029-4b36-a957-c2ca1fd1c43c",
   "metadata": {},
   "outputs": [],
   "source": [
    "DATA_FILE = \"../../data/femke.jsonl\""
   ]
  },
  {
   "cell_type": "code",
   "execution_count": 163,
   "id": "775c6f98-a64a-4c47-949b-abbf60870e73",
   "metadata": {},
   "outputs": [],
   "source": [
    "json_data=[]\n",
    "infile = open(DATA_FILE, \"r\")\n",
    "for line in infile:\n",
    "    json_data.append(json.loads(line))\n",
    "infile.close()"
   ]
  },
  {
   "cell_type": "markdown",
   "id": "ff2eb4bd-67f3-47c6-a524-4630aee9ae4e",
   "metadata": {},
   "source": [
    "## 2. Give an example of the data"
   ]
  },
  {
   "cell_type": "code",
   "execution_count": 142,
   "id": "a0d2e1f8-82cf-4e04-8c53-f01548c25616",
   "metadata": {},
   "outputs": [
    {
     "data": {
      "text/plain": [
       "{'id': 6660,\n",
       " 'data': 'Today I want to send a clear message to the people of this great country, of Greece. I know that many people feel without hope. Many are making extremely difficult sacrifices. And many people ask why they should do more. I understand those concerns. And I agree that some of the efforts seem unfair. But I ask people to recognise the other alternatives which will be much more difficult for Greece and will affect even more the most vulnerable in the Greek society. So this is why it is the right approach to ask Greece to reform, to increase its competitiveness to have a viable future, irrespective of the crisis. You, in Greece, with our support, need to rebuild your country, your structures, your administration, your economy to increase the competitiveness of Greece. And the best hope of a return to growth and job creation is inside the euro area. Staying in the euro is the best chance to avoid worse hardship and difficulties to the Greek people, namely for those in a more vulnerable position',\n",
       " 'label': [[734, 772, 'Content_Concept_2'],\n",
       "  [731, 733, 'Content_Relation_Explanation'],\n",
       "  [616, 678, 'Content_Concept_1']],\n",
       " 'source_id': 3487,\n",
       " 'speech_id': 536,\n",
       " 'paragraph_id': '1-2',\n",
       " 'missing concept 1': 'you in Greece, with out support, you need to rebuild your country'}"
      ]
     },
     "execution_count": 142,
     "metadata": {},
     "output_type": "execute_result"
    }
   ],
   "source": [
    "json_data[0]"
   ]
  },
  {
   "cell_type": "markdown",
   "id": "dd2828f6-6246-475b-abb0-a4a2df26caf7",
   "metadata": {},
   "source": [
    "## 3. Count the frequency of the labels in each data item"
   ]
  },
  {
   "cell_type": "code",
   "execution_count": 31,
   "id": "e3b6a32b-980b-4ec7-9efe-2a3f88bcf594",
   "metadata": {},
   "outputs": [
    {
     "name": "stdout",
     "output_type": "stream",
     "text": [
      "{'1 1 1': 1400, '2 1 1': 230, '1 1 2': 136, '2 1 2': 24, '1 2 1': 2, '1 0 0': 3, '1 1 0': 5, '0 1 1': 5, '3 1 1': 30, '1 1 3': 13, '2 1 0': 3, '4 1 1': 4, '0 1 3': 1, '3 1 2': 3, '2 1 3': 3, '5 1 1': 1, '1 1 4': 1, '4 1 2': 3}\n"
     ]
    }
   ],
   "source": [
    "def get_patterns(json_data):\n",
    "    base_cases = []\n",
    "    results = {}\n",
    "    for data in json_data:\n",
    "        key = [0, 0, 0]\n",
    "        for label in data[\"label\"]:\n",
    "            if label[2] == 'Content_Concept_1':\n",
    "                key[0] += 1\n",
    "            elif label[2] == 'Content_Relation_Explanation':\n",
    "                key[1] += 1\n",
    "            elif label[2] == 'Content_Concept_2':\n",
    "                key[2] += 1\n",
    "            else:\n",
    "                print(\"cannot happen\")\n",
    "        for i in range(0, len(key)):\n",
    "            key[i] = str(key[i])\n",
    "        results_key = \" \".join(key)\n",
    "        if not results_key in results:\n",
    "            results[results_key] = 1\n",
    "        else:\n",
    "            results[results_key] += 1\n",
    "        if results_key == \"1 1 1\":\n",
    "             base_cases.append(data)\n",
    "    return [results, base_cases]\n",
    "\n",
    "results, base_cases = get_patterns(json_data)\n",
    "print(results)"
   ]
  },
  {
   "cell_type": "markdown",
   "id": "f5dc8213-d58d-4600-ab5f-4ea454ea275d",
   "metadata": {},
   "source": [
    "Some data items have more than two content concepts because of split phrases."
   ]
  },
  {
   "cell_type": "markdown",
   "id": "cf504fc9-f8bd-4545-81b4-04e57197b647",
   "metadata": {},
   "source": [
    "## 4. Convert base cases (1,1,1) to table"
   ]
  },
  {
   "cell_type": "code",
   "execution_count": 32,
   "id": "666fbd9d-a75c-4d69-8072-0b5a23565557",
   "metadata": {},
   "outputs": [
    {
     "data": {
      "text/plain": [
       "1400"
      ]
     },
     "execution_count": 32,
     "metadata": {},
     "output_type": "execute_result"
    }
   ],
   "source": [
    "len(base_cases)"
   ]
  },
  {
   "cell_type": "code",
   "execution_count": 33,
   "id": "d49fae2c-8bce-4508-a1b2-946ddfede36a",
   "metadata": {},
   "outputs": [
    {
     "data": {
      "text/plain": [
       "{'id': 6660,\n",
       " 'data': 'Today I want to send a clear message to the people of this great country, of Greece. I know that many people feel without hope. Many are making extremely difficult sacrifices. And many people ask why they should do more. I understand those concerns. And I agree that some of the efforts seem unfair. But I ask people to recognise the other alternatives which will be much more difficult for Greece and will affect even more the most vulnerable in the Greek society. So this is why it is the right approach to ask Greece to reform, to increase its competitiveness to have a viable future, irrespective of the crisis. You, in Greece, with our support, need to rebuild your country, your structures, your administration, your economy to increase the competitiveness of Greece. And the best hope of a return to growth and job creation is inside the euro area. Staying in the euro is the best chance to avoid worse hardship and difficulties to the Greek people, namely for those in a more vulnerable position',\n",
       " 'label': [[734, 772, 'Content_Concept_2'],\n",
       "  [731, 733, 'Content_Relation_Explanation'],\n",
       "  [616, 678, 'Content_Concept_1']],\n",
       " 'source_id': 3487,\n",
       " 'speech_id': 536,\n",
       " 'paragraph_id': '1-2',\n",
       " 'missing concept 1': 'you in Greece, with out support, you need to rebuild your country'}"
      ]
     },
     "execution_count": 33,
     "metadata": {},
     "output_type": "execute_result"
    }
   ],
   "source": [
    "base_cases[0]"
   ]
  },
  {
   "cell_type": "code",
   "execution_count": 34,
   "id": "317d0cc7-d5fd-48fc-8b72-27a3c5ce77b0",
   "metadata": {},
   "outputs": [],
   "source": [
    "table = []\n",
    "for data_in in base_cases:\n",
    "    data_out = [data_in[\"data\"], \"\", \"\", \"\"]\n",
    "    for label_data in data_in[\"label\"]:\n",
    "        data_out_id = -1\n",
    "        if label_data[2] == 'Content_Concept_1':\n",
    "            data_out_id = 1\n",
    "        elif label_data[2] == 'Content_Relation_Explanation':\n",
    "            data_out_id = 2\n",
    "        elif label_data[2] == 'Content_Concept_2':\n",
    "            data_out_id = 3\n",
    "        else:\n",
    "            print(f\"unexpected label data: {label_data}\")\n",
    "        if data_out[data_out_id] != \"\":\n",
    "            print(\"duplicate data in label_data: {data_in['label']}\")\n",
    "        data_out[data_out_id] = data_in[\"data\"][label_data[0]:label_data[1]]\n",
    "    table.append(data_out)"
   ]
  },
  {
   "cell_type": "code",
   "execution_count": 35,
   "id": "f27dbd16-6532-420b-b33a-17a7a4385321",
   "metadata": {},
   "outputs": [
    {
     "data": {
      "text/plain": [
       "['Today I want to send a clear message to the people of this great country, of Greece. I know that many people feel without hope. Many are making extremely difficult sacrifices. And many people ask why they should do more. I understand those concerns. And I agree that some of the efforts seem unfair. But I ask people to recognise the other alternatives which will be much more difficult for Greece and will affect even more the most vulnerable in the Greek society. So this is why it is the right approach to ask Greece to reform, to increase its competitiveness to have a viable future, irrespective of the crisis. You, in Greece, with our support, need to rebuild your country, your structures, your administration, your economy to increase the competitiveness of Greece. And the best hope of a return to growth and job creation is inside the euro area. Staying in the euro is the best chance to avoid worse hardship and difficulties to the Greek people, namely for those in a more vulnerable position',\n",
       " 'You, in Greece, with our support, need to rebuild your country',\n",
       " 'to',\n",
       " 'increase the competitiveness of Greece']"
      ]
     },
     "execution_count": 35,
     "metadata": {},
     "output_type": "execute_result"
    }
   ],
   "source": [
    "table[0]"
   ]
  },
  {
   "cell_type": "code",
   "execution_count": 36,
   "id": "90435022-4734-43e4-b66f-24f229187589",
   "metadata": {},
   "outputs": [
    {
     "data": {
      "text/html": [
       "<div>\n",
       "<style scoped>\n",
       "    .dataframe tbody tr th:only-of-type {\n",
       "        vertical-align: middle;\n",
       "    }\n",
       "\n",
       "    .dataframe tbody tr th {\n",
       "        vertical-align: top;\n",
       "    }\n",
       "\n",
       "    .dataframe thead th {\n",
       "        text-align: right;\n",
       "    }\n",
       "</style>\n",
       "<table border=\"1\" class=\"dataframe\">\n",
       "  <thead>\n",
       "    <tr style=\"text-align: right;\">\n",
       "      <th></th>\n",
       "      <th>Paragraph</th>\n",
       "      <th>Content_Concept_1</th>\n",
       "      <th>Content_Relation_Explanation</th>\n",
       "      <th>Content_Concept_2</th>\n",
       "    </tr>\n",
       "  </thead>\n",
       "  <tbody>\n",
       "    <tr>\n",
       "      <th>0</th>\n",
       "      <td>Today I want to send a clear message to the pe...</td>\n",
       "      <td>You, in Greece, with our support, need to rebu...</td>\n",
       "      <td>to</td>\n",
       "      <td>increase the competitiveness of Greece</td>\n",
       "    </tr>\n",
       "    <tr>\n",
       "      <th>1</th>\n",
       "      <td>Today I want to send a clear message to the pe...</td>\n",
       "      <td>You, in Greece, with our support, need to rebu...</td>\n",
       "      <td>And the best hope of a</td>\n",
       "      <td>return to growth</td>\n",
       "    </tr>\n",
       "    <tr>\n",
       "      <th>2</th>\n",
       "      <td>To conclude, let me say a few words on the eur...</td>\n",
       "      <td>We have taken important, fundamental decisions</td>\n",
       "      <td>to safeguard</td>\n",
       "      <td>the stability of the euro area</td>\n",
       "    </tr>\n",
       "    <tr>\n",
       "      <th>3</th>\n",
       "      <td>To conclude, let me say a few words on the eur...</td>\n",
       "      <td>We need sustained efforts and determination</td>\n",
       "      <td>As we said there will not be</td>\n",
       "      <td>magic solutions</td>\n",
       "    </tr>\n",
       "    <tr>\n",
       "      <th>4</th>\n",
       "      <td>Giving to the ECB the ultimate responsibility ...</td>\n",
       "      <td>confidence between the banks</td>\n",
       "      <td>and in this way</td>\n",
       "      <td>increase the financial stability in the euro area</td>\n",
       "    </tr>\n",
       "    <tr>\n",
       "      <th>...</th>\n",
       "      <td>...</td>\n",
       "      <td>...</td>\n",
       "      <td>...</td>\n",
       "      <td>...</td>\n",
       "    </tr>\n",
       "    <tr>\n",
       "      <th>1395</th>\n",
       "      <td>But today I want to focus on our economic prio...</td>\n",
       "      <td>cut business taxes</td>\n",
       "      <td>You've got to</td>\n",
       "      <td>succeed</td>\n",
       "    </tr>\n",
       "    <tr>\n",
       "      <th>1396</th>\n",
       "      <td>But today I want to focus on our economic prio...</td>\n",
       "      <td>tackle the bloat in welfare</td>\n",
       "      <td>You've got to</td>\n",
       "      <td>succeed</td>\n",
       "    </tr>\n",
       "    <tr>\n",
       "      <th>1397</th>\n",
       "      <td>But today I want to focus on our economic prio...</td>\n",
       "      <td>make sure your schools and your universities a...</td>\n",
       "      <td>and crucially you've got to</td>\n",
       "      <td>succeed</td>\n",
       "    </tr>\n",
       "    <tr>\n",
       "      <th>1398</th>\n",
       "      <td>Now yesterday I gave a speech setting out the ...</td>\n",
       "      <td>When you have a single currency</td>\n",
       "      <td>you move inexorably towards</td>\n",
       "      <td>a banking union</td>\n",
       "    </tr>\n",
       "    <tr>\n",
       "      <th>1399</th>\n",
       "      <td>Now yesterday I gave a speech setting out the ...</td>\n",
       "      <td>When you have a single currency</td>\n",
       "      <td>you move inexorably towards</td>\n",
       "      <td>forms of fiscal union</td>\n",
       "    </tr>\n",
       "  </tbody>\n",
       "</table>\n",
       "<p>1400 rows × 4 columns</p>\n",
       "</div>"
      ],
      "text/plain": [
       "                                              Paragraph  \\\n",
       "0     Today I want to send a clear message to the pe...   \n",
       "1     Today I want to send a clear message to the pe...   \n",
       "2     To conclude, let me say a few words on the eur...   \n",
       "3     To conclude, let me say a few words on the eur...   \n",
       "4     Giving to the ECB the ultimate responsibility ...   \n",
       "...                                                 ...   \n",
       "1395  But today I want to focus on our economic prio...   \n",
       "1396  But today I want to focus on our economic prio...   \n",
       "1397  But today I want to focus on our economic prio...   \n",
       "1398  Now yesterday I gave a speech setting out the ...   \n",
       "1399  Now yesterday I gave a speech setting out the ...   \n",
       "\n",
       "                                      Content_Concept_1  \\\n",
       "0     You, in Greece, with our support, need to rebu...   \n",
       "1     You, in Greece, with our support, need to rebu...   \n",
       "2        We have taken important, fundamental decisions   \n",
       "3           We need sustained efforts and determination   \n",
       "4                          confidence between the banks   \n",
       "...                                                 ...   \n",
       "1395                                 cut business taxes   \n",
       "1396                        tackle the bloat in welfare   \n",
       "1397  make sure your schools and your universities a...   \n",
       "1398                    When you have a single currency   \n",
       "1399                    When you have a single currency   \n",
       "\n",
       "      Content_Relation_Explanation  \\\n",
       "0                               to   \n",
       "1           And the best hope of a   \n",
       "2                     to safeguard   \n",
       "3     As we said there will not be   \n",
       "4                  and in this way   \n",
       "...                            ...   \n",
       "1395                 You've got to   \n",
       "1396                 You've got to   \n",
       "1397   and crucially you've got to   \n",
       "1398   you move inexorably towards   \n",
       "1399   you move inexorably towards   \n",
       "\n",
       "                                      Content_Concept_2  \n",
       "0                increase the competitiveness of Greece  \n",
       "1                                      return to growth  \n",
       "2                        the stability of the euro area  \n",
       "3                                       magic solutions  \n",
       "4     increase the financial stability in the euro area  \n",
       "...                                                 ...  \n",
       "1395                                            succeed  \n",
       "1396                                            succeed  \n",
       "1397                                            succeed  \n",
       "1398                                    a banking union  \n",
       "1399                              forms of fiscal union  \n",
       "\n",
       "[1400 rows x 4 columns]"
      ]
     },
     "execution_count": 36,
     "metadata": {},
     "output_type": "execute_result"
    }
   ],
   "source": [
    "pd.DataFrame(table, columns=[\"Paragraph\", \"Content_Concept_1\", \"Content_Relation_Explanation\", \"Content_Concept_2\"])"
   ]
  },
  {
   "cell_type": "markdown",
   "id": "03e5de83-1ea6-4ee7-b72d-0da9a58df4a4",
   "metadata": {},
   "source": [
    "## 5. Combine all data of duplicate paragraps"
   ]
  },
  {
   "cell_type": "code",
   "execution_count": 173,
   "id": "bdc106bb-6da3-430c-ae11-550527b930d4",
   "metadata": {},
   "outputs": [],
   "source": [
    "combined_data = {}\n",
    "for data in json_data:\n",
    "    key = f\"{data['source_id']} {data['speech_id']} {data['paragraph_id']}\"\n",
    "    if key not in combined_data:\n",
    "        combined_data[key] = copy.deepcopy(data)\n",
    "    else:\n",
    "        if len(data[\"data\"]) != len(combined_data[key][\"data\"]):\n",
    "            print(\"cannot happen\")\n",
    "        for label_data in data[\"label\"]:\n",
    "            if label_data not in combined_data[key][\"label\"]:\n",
    "                combined_data[key][\"label\"].append(label_data)\n",
    "                if combined_data[key][\"label\"][-1][1] > len(combined_data[key][\"data\"]):\n",
    "                    combined_data[key][\"label\"][-1][1] = len(combined_data[key][\"data\"])\n",
    "\n",
    "for key in combined_data:\n",
    "    for label_data in combined_data[key][\"label\"]:\n",
    "        label_data.append(combined_data[key][\"data\"][label_data[0]:label_data[1]])"
   ]
  },
  {
   "cell_type": "code",
   "execution_count": 139,
   "id": "098760d4-a38b-4ba8-8150-c87ab4b5dde6",
   "metadata": {},
   "outputs": [
    {
     "data": {
      "text/plain": [
       "526"
      ]
     },
     "execution_count": 139,
     "metadata": {},
     "output_type": "execute_result"
    }
   ],
   "source": [
    "len(combined_data)"
   ]
  },
  {
   "cell_type": "code",
   "execution_count": 140,
   "id": "5ca54a8b-7175-4588-a109-b1b9b4affb52",
   "metadata": {},
   "outputs": [
    {
     "name": "stdout",
     "output_type": "stream",
     "text": [
      "{'5 2 4': 3, '2 2 2': 52, '1 1 1': 95, '3 2 3': 10, '3 2 2': 24, '5 3 3': 3, '5 2 2': 6, '5 4 6': 5, '4 3 3': 5, '1 2 2': 5, '8 2 4': 1, '2 3 3': 1, '8 5 8': 1, '2 1 1': 30, '1 1 2': 22, '3 3 3': 15, '2 1 2': 8, '9 5 6': 1, '3 3 4': 8, '3 1 2': 5, '2 2 6': 4, '4 2 2': 11, '3 1 1': 12, '4 2 3': 8, '8 3 4': 2, '6 4 4': 3, '2 2 4': 5, '4 1 1': 5, '5 1 1': 4, '14 6 7': 1, '13 4 4': 1, '3 4 4': 2, '1 1 3': 7, '6 2 2': 5, '7 5 5': 2, '4 3 4': 7, '7 4 4': 2, '5 1 2': 1, '2 3 4': 2, '6 4 5': 1, '4 4 4': 5, '3 5 8': 1, '1 3 4': 1, '2 2 3': 9, '6 5 5': 2, '8 5 5': 1, '4 2 1': 2, '7 1 2': 1, '1 1 4': 3, '3 2 5': 2, '6 3 4': 2, '8 3 9': 2, '3 3 5': 1, '6 4 6': 4, '4 2 4': 5, '4 4 5': 1, '10 9 11': 1, '15 11 16': 1, '11 5 6': 1, '1 1 5': 3, '10 3 4': 1, '1 1 8': 1, '8 3 11': 1, '1 2 3': 2, '14 5 9': 1, '3 2 4': 2, '7 5 6': 1, '4 5 6': 1, '7 2 2': 2, '9 4 6': 2, '6 1 1': 2, '4 3 2': 1, '9 4 11': 1, '4 1 3': 3, '2 1 12': 1, '3 1 4': 2, '11 4 6': 1, '3 5 7': 1, '6 3 5': 1, '2 1 5': 1, '4 4 7': 1, '2 2 5': 2, '2 3 5': 2, '11 3 4': 1, '1 2 5': 1, '5 4 4': 3, '5 2 10': 1, '11 7 9': 2, '8 5 7': 1, '4 2 5': 2, '2 1 8': 1, '14 8 14': 1, '14 3 8': 1, '9 7 14': 1, '7 6 8': 1, '10 1 1': 1, '6 5 4': 1, '2 3 9': 1, '5 5 4': 1, '9 5 13': 1, '6 2 6': 1, '6 3 3': 2, '4 1 2': 3, '6 1 3': 1, '6 3 2': 1, '2 4 4': 1, '3 1 3': 2, '10 7 8': 1, '5 3 6': 1, '6 2 5': 1, '5 5 5': 1, '7 3 6': 1, '5 2 6': 1, '15 3 8': 1, '2 1 3': 2, '12 4 6': 1, '5 4 7': 1, '1 2 6': 1, '4 4 6': 1, '4 2 6': 1, '5 5 7': 1, '7 6 10': 1, '14 2 3': 1, '7 5 13': 1, '3 3 2': 1, '11 5 11': 1, '5 3 7': 2, '1 3 3': 1, '5 3 4': 1, '4 2 9': 1, '9 3 3': 1, '7 2 5': 1, '6 2 3': 1}\n"
     ]
    }
   ],
   "source": [
    "results, base_cases = get_patterns(list(combined_data.values()))\n",
    "print(results)"
   ]
  },
  {
   "cell_type": "code",
   "execution_count": 141,
   "id": "01e8e0e8-9aed-4cd4-95f1-27b677aba6a1",
   "metadata": {},
   "outputs": [
    {
     "data": {
      "text/plain": [
       "{'id': 6660,\n",
       " 'data': 'Today I want to send a clear message to the people of this great country, of Greece. I know that many people feel without hope. Many are making extremely difficult sacrifices. And many people ask why they should do more. I understand those concerns. And I agree that some of the efforts seem unfair. But I ask people to recognise the other alternatives which will be much more difficult for Greece and will affect even more the most vulnerable in the Greek society. So this is why it is the right approach to ask Greece to reform, to increase its competitiveness to have a viable future, irrespective of the crisis. You, in Greece, with our support, need to rebuild your country, your structures, your administration, your economy to increase the competitiveness of Greece. And the best hope of a return to growth and job creation is inside the euro area. Staying in the euro is the best chance to avoid worse hardship and difficulties to the Greek people, namely for those in a more vulnerable position',\n",
       " 'label': [[734,\n",
       "   772,\n",
       "   'Content_Concept_2',\n",
       "   'increase the competitiveness of Greece'],\n",
       "  [731, 733, 'Content_Relation_Explanation', 'to'],\n",
       "  [616,\n",
       "   678,\n",
       "   'Content_Concept_1',\n",
       "   'You, in Greece, with our support, need to rebuild your country'],\n",
       "  [616,\n",
       "   665,\n",
       "   'Content_Concept_1',\n",
       "   'You, in Greece, with our support, need to rebuild'],\n",
       "  [680, 695, 'Content_Concept_1', 'your structures'],\n",
       "  [697, 716, 'Content_Concept_1', 'your administration'],\n",
       "  [718, 730, 'Content_Concept_1', 'your economy'],\n",
       "  [774, 796, 'Content_Relation_Explanation', 'And the best hope of a'],\n",
       "  [797, 813, 'Content_Concept_2', 'return to growth'],\n",
       "  [797, 806, 'Content_Concept_2', 'return to'],\n",
       "  [818, 830, 'Content_Concept_2', 'job creation']],\n",
       " 'source_id': 3487,\n",
       " 'speech_id': 536,\n",
       " 'paragraph_id': '1-2',\n",
       " 'missing concept 1': 'you in Greece, with out support, you need to rebuild your country'}"
      ]
     },
     "execution_count": 141,
     "metadata": {},
     "output_type": "execute_result"
    }
   ],
   "source": [
    "combined_data[list(combined_data.keys())[0]]"
   ]
  },
  {
   "cell_type": "markdown",
   "id": "cf3ad6c2-7207-4ed8-871c-bc58c6a63fb7",
   "metadata": {},
   "source": [
    "## 6. Make character labels\n",
    "\n",
    "Several tokens have more than one label. We use the following labeling scheme:\n",
    "\n",
    "* 1: Content_Concept_1\n",
    "* 2: Content_Concept_2\n",
    "* 3: both Content_Concept_1 and Content_Concept_2\n",
    "* E: Content_Relation_Explanation\n",
    "* F: both Content_Relation_Explanation and Content_Concept_1\n",
    "* G: both Content_Relation_Explanation and Content_Concept_2\n",
    "* \\*: all three labels: Content_Relation_Explanation and Content_Concept_1 and Content_Concept_2\n",
    "* .: no label"
   ]
  },
  {
   "cell_type": "code",
   "execution_count": 192,
   "id": "59ba21f5-31fb-4a11-88a6-1bc31f517bc6",
   "metadata": {},
   "outputs": [],
   "source": [
    "class Label_Clash:\n",
    "    def __init__(self):\n",
    "        self.data = {}\n",
    "        \n",
    "    def add(self, key):\n",
    "        if key not in self.data:\n",
    "            self.data[key] = 1\n",
    "        else:\n",
    "            self.data[key] += 1\n",
    "            \n",
    "    def print(self):\n",
    "        print(self.data)"
   ]
  },
  {
   "cell_type": "code",
   "execution_count": 195,
   "id": "200a302c-6e67-4e8c-af05-eb55bd33b55c",
   "metadata": {},
   "outputs": [],
   "source": [
    "label_clash = Label_Clash()\n",
    "for key in combined_data:\n",
    "    combined_data[key]['labels'] = len(combined_data[key][\"data\"])*[\".\"]\n",
    "    for label in combined_data[key][\"label\"]:\n",
    "        for i in range(label[0], label[1]):\n",
    "            if label[2] == \"Content_Concept_1\":\n",
    "                if combined_data[key]['labels'][i] != \".\":\n",
    "                    combined_data[key]['labels'][i] = \"1\"\n",
    "                elif combined_data[key]['labels'][i] != \"1\":\n",
    "                    combined_data[key]['labels'][i] = \"1\"\n",
    "                elif combined_data[key]['labels'][i] != \"E\":\n",
    "                    combined_data[key]['labels'][i] = \"F\"\n",
    "                elif combined_data[key]['labels'][i] != \"2\":\n",
    "                    combined_data[key]['labels'][i] = \"3\"\n",
    "                elif combined_data[key]['labels'][i] != \"3\":\n",
    "                    combined_data[key]['labels'][i] = \"3\"\n",
    "                elif combined_data[key]['labels'][i] != \"F\":\n",
    "                    combined_data[key]['labels'][i] = \"F\"\n",
    "                elif combined_data[key]['labels'][i] != \"G\":\n",
    "                    combined_data[key]['labels'][i] = \"*\"\n",
    "                else:\n",
    "                    print(\"cannot happen\")\n",
    "            elif label[2] == \"Content_Relation_Explanation\":\n",
    "                if combined_data[key]['labels'][i] != \".\":\n",
    "                    combined_data[key]['labels'][i] = \"E\"\n",
    "                elif combined_data[key]['labels'][i] != \"1\":\n",
    "                    combined_data[key]['labels'][i] = \"F\"\n",
    "                elif combined_data[key]['labels'][i] != \"E\":\n",
    "                    combined_data[key]['labels'][i] = \"E\"\n",
    "                elif combined_data[key]['labels'][i] != \"2\":\n",
    "                    combined_data[key]['labels'][i] = \"G\"\n",
    "                elif combined_data[key]['labels'][i] != \"3\":\n",
    "                    combined_data[key]['labels'][i] = \"*\"\n",
    "                elif combined_data[key]['labels'][i] != \"F\":\n",
    "                    combined_data[key]['labels'][i] = \"F\"\n",
    "                elif combined_data[key]['labels'][i] != \"G\":\n",
    "                    combined_data[key]['labels'][i] = \"G\"\n",
    "                else:\n",
    "                    print(\"cannot happen\")\n",
    "            elif label[2] == \"Content_Concept_2\":\n",
    "                if combined_data[key]['labels'][i] != \".\":\n",
    "                    combined_data[key]['labels'][i] = \"2\"\n",
    "                elif combined_data[key]['labels'][i] != \"1\":\n",
    "                    combined_data[key]['labels'][i] = \"3\"\n",
    "                elif combined_data[key]['labels'][i] != \"E\":\n",
    "                    combined_data[key]['labels'][i] = \"G\"\n",
    "                elif combined_data[key]['labels'][i] != \"2\":\n",
    "                    combined_data[key]['labels'][i] = \"2\"\n",
    "                elif combined_data[key]['labels'][i] != \"3\":\n",
    "                    combined_data[key]['labels'][i] = \"3\"\n",
    "                elif combined_data[key]['labels'][i] != \"F\":\n",
    "                    combined_data[key]['labels'][i] = \"*\"\n",
    "                elif combined_data[key]['labels'][i] != \"G\":\n",
    "                    combined_data[key]['labels'][i] = \"G\"\n",
    "                else:\n",
    "                    print(\"cannot happen\")\n",
    "            else:\n",
    "                print(f\"unknown label: {label}\")"
   ]
  },
  {
   "cell_type": "code",
   "execution_count": 210,
   "id": "9608b557-2475-4ca6-9522-e2d93a288e97",
   "metadata": {},
   "outputs": [
    {
     "data": {
      "text/plain": [
       "'........................................................................................................................................................................................................................................................................................................................................................................................................................................................................................................................................................................................................................................11111111111111111111111111111111111111111111111111111111111111..111111111111111..1111111111111111111..111111111111.FF.33333333333333333333333333333333333333..EEEEEEEEEEEEEEEEEEEEEE.2222222222222222.....222222222222.......................................................................................................'"
      ]
     },
     "execution_count": 210,
     "metadata": {},
     "output_type": "execute_result"
    }
   ],
   "source": [
    "(\"\".join(combined_data[list(combined_data.keys())[0]][\"labels\"]))[:933]"
   ]
  },
  {
   "cell_type": "markdown",
   "id": "0c859119-b183-4698-8aed-165502f9300b",
   "metadata": {},
   "source": [
    "## 7. Machine learning"
   ]
  },
  {
   "cell_type": "code",
   "execution_count": 1,
   "id": "b824b9a5-209a-4369-a592-77e13aba964e",
   "metadata": {},
   "outputs": [
    {
     "name": "stderr",
     "output_type": "stream",
     "text": [
      "Some weights of the model checkpoint at roberta-base were not used when initializing RobertaForTokenClassification: ['lm_head.decoder.weight', 'lm_head.layer_norm.bias', 'lm_head.dense.weight', 'lm_head.dense.bias', 'lm_head.bias', 'lm_head.layer_norm.weight']\n",
      "- This IS expected if you are initializing RobertaForTokenClassification from the checkpoint of a model trained on another task or with another architecture (e.g. initializing a BertForSequenceClassification model from a BertForPreTraining model).\n",
      "- This IS NOT expected if you are initializing RobertaForTokenClassification from the checkpoint of a model that you expect to be exactly identical (initializing a BertForSequenceClassification model from a BertForSequenceClassification model).\n",
      "Some weights of RobertaForTokenClassification were not initialized from the model checkpoint at roberta-base and are newly initialized: ['classifier.bias', 'classifier.weight']\n",
      "You should probably TRAIN this model on a down-stream task to be able to use it for predictions and inference.\n"
     ]
    }
   ],
   "source": [
    "from transformers import RobertaTokenizer, RobertaForTokenClassification\n",
    "import torch\n",
    "\n",
    "tokenizer = RobertaTokenizer.from_pretrained('roberta-base')\n",
    "model = RobertaForTokenClassification.from_pretrained('roberta-base')\n",
    "\n",
    "inputs = tokenizer(\"Hello, my dog is cute\", return_tensors=\"pt\")\n",
    "labels = torch.tensor([1] * inputs[\"input_ids\"].size(1)).unsqueeze(0)  # Batch size 1\n",
    "\n",
    "outputs = model(**inputs, labels=labels)\n",
    "loss = outputs.loss\n",
    "logits = outputs.logits"
   ]
  },
  {
   "cell_type": "code",
   "execution_count": 5,
   "id": "b9220030-a445-4db1-8c3e-642527ccf10e",
   "metadata": {},
   "outputs": [
    {
     "data": {
      "text/plain": [
       "TokenClassifierOutput(loss=tensor(0.6889, grad_fn=<NllLossBackward>), logits=tensor([[[ 0.0486, -0.2147],\n",
       "         [-0.0511,  0.0683],\n",
       "         [-0.0463,  0.2299],\n",
       "         [-0.0694, -0.0103],\n",
       "         [ 0.0008, -0.0916],\n",
       "         [-0.1262,  0.2167],\n",
       "         [ 0.1081,  0.1149],\n",
       "         [ 0.0721, -0.2160]]], grad_fn=<AddBackward0>), hidden_states=None, attentions=None)"
      ]
     },
     "execution_count": 5,
     "metadata": {},
     "output_type": "execute_result"
    }
   ],
   "source": [
    "outputs"
   ]
  },
  {
   "cell_type": "code",
   "execution_count": null,
   "id": "14e36416-422c-45c8-8ca6-fbb0ddca545a",
   "metadata": {},
   "outputs": [],
   "source": []
  }
 ],
 "metadata": {
  "kernelspec": {
   "display_name": "transformers",
   "language": "python",
   "name": "transformers"
  },
  "language_info": {
   "codemirror_mode": {
    "name": "ipython",
    "version": 3
   },
   "file_extension": ".py",
   "mimetype": "text/x-python",
   "name": "python",
   "nbconvert_exporter": "python",
   "pygments_lexer": "ipython3",
   "version": "3.7.3"
  }
 },
 "nbformat": 4,
 "nbformat_minor": 5
}
