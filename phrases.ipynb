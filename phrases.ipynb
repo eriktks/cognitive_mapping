{
 "cells": [
  {
   "cell_type": "markdown",
   "id": "02b36f46-d6bc-4581-899a-fa8d26fcd390",
   "metadata": {},
   "source": [
    "# Phrases\n",
    "\n",
    "Process the phrases that appear in a relation."
   ]
  },
  {
   "cell_type": "markdown",
   "id": "87745cd5-ba73-4c6e-817c-cf7abe66c4d5",
   "metadata": {},
   "source": [
    "## 1. Preprocess data"
   ]
  },
  {
   "cell_type": "code",
   "execution_count": 1,
   "id": "b307c014-0a0f-44a2-a083-5011c983deae",
   "metadata": {},
   "outputs": [],
   "source": [
    "import copy\n",
    "import json\n",
    "import pandas as pd\n",
    "import re"
   ]
  },
  {
   "cell_type": "code",
   "execution_count": 2,
   "id": "3907cad9-e789-4588-b225-41d745ae4450",
   "metadata": {},
   "outputs": [],
   "source": [
    "def read_data(file_name):\n",
    "    json_data = []\n",
    "    infile = open(file_name, \"r\")\n",
    "    for line in infile:\n",
    "        json_data.append(json.loads(line))\n",
    "    infile.close()\n",
    "    \n",
    "    return json_data"
   ]
  },
  {
   "cell_type": "code",
   "execution_count": 3,
   "id": "f711240e-3b96-4e9c-a21b-71aa96af40dc",
   "metadata": {},
   "outputs": [],
   "source": [
    "def combine_data(json_data):\n",
    "    combined_data = {}\n",
    "    for data in json_data:\n",
    "        key = f\"{data['source_id']} {data['speech_id']} {data['paragraph_id']}\"\n",
    "        if key not in combined_data:\n",
    "            combined_data[key] = copy.deepcopy(data)\n",
    "        else:\n",
    "            if len(data[\"data\"]) != len(combined_data[key][\"data\"]):\n",
    "                print(\"cannot happen\")\n",
    "            for label_data in data[\"label\"]:\n",
    "                if label_data not in combined_data[key][\"label\"]:\n",
    "                    combined_data[key][\"label\"].append(label_data)\n",
    "                    if combined_data[key][\"label\"][-1][1] > len(combined_data[key][\"data\"]):\n",
    "                        combined_data[key][\"label\"][-1][1] = len(combined_data[key][\"data\"])\n",
    "    for key in combined_data:\n",
    "        for label_data in combined_data[key][\"label\"]:\n",
    "            label_data.append(combined_data[key][\"data\"][label_data[0]:label_data[1]])\n",
    "    return combined_data"
   ]
  },
  {
   "cell_type": "code",
   "execution_count": 4,
   "id": "d68826be-6bfa-4e32-82d2-e42fea2e900d",
   "metadata": {},
   "outputs": [],
   "source": [
    "def tokenize(combined_data):\n",
    "    for data_key in combined_data:\n",
    "        paragraph = combined_data[data_key][\"data\"]\n",
    "        tokens = {}\n",
    "        token_id = -1\n",
    "        for i in range(0, len(paragraph)):\n",
    "            if token_id < 0 and paragraph[i] == \" \":\n",
    "                next\n",
    "            elif token_id < 0:\n",
    "                token_id = i\n",
    "                tokens[token_id] = paragraph[i]\n",
    "            elif paragraph[i] == \" \":\n",
    "                token_id = -1\n",
    "            elif re.search(\"[.,?!]\", paragraph[i]):\n",
    "                tokens[i] = paragraph[i]\n",
    "            else:\n",
    "                tokens[token_id] += paragraph[i]\n",
    "        labels = {}\n",
    "        for label_key in tokens:\n",
    "            labels[label_key] = \"O\"\n",
    "        for label in combined_data[data_key][\"label\"]:\n",
    "            if label[2] == 'Content_Concept_1' or label[2] == 'Content_Concept_2':\n",
    "                for label_key in labels:\n",
    "                    if label_key >= label[0] and label_key < label[1]:\n",
    "                        labels[label_key] = \"C\"\n",
    "            elif label[2] == 'Content_Relation_Explanation':\n",
    "                for label_key in labels:\n",
    "                    if label_key >= label[0] and label_key < label[1]:\n",
    "                        labels[label_key] = \"E\"\n",
    "        combined_data[data_key][\"tokens\"] = [ (tokens[label_key], labels[label_key]) for label_key in labels ]\n",
    "    return combined_data"
   ]
  },
  {
   "cell_type": "code",
   "execution_count": 5,
   "id": "21f29991-6b7b-4d6d-966d-1d697cdeb832",
   "metadata": {},
   "outputs": [],
   "source": [
    "json_data = read_data(\"../data/femke-20211012.jsonl\")\n",
    "combined_data = combine_data(json_data)\n",
    "combined_data = tokenize(combined_data)"
   ]
  },
  {
   "cell_type": "markdown",
   "id": "94bc3033-246e-454b-b049-94b99fb7563e",
   "metadata": {},
   "source": [
    "## 2. Visualize data"
   ]
  },
  {
   "cell_type": "code",
   "execution_count": 6,
   "id": "6d08c00e-b699-433b-9736-1872a4904c8e",
   "metadata": {},
   "outputs": [],
   "source": [
    "def make_ids(labels, text):\n",
    "    ids = {}\n",
    "    for label_data in labels:\n",
    "        while text[label_data[0]] in \" .,?!:;\":\n",
    "            label_data[0] += 1\n",
    "        while text[label_data[1]-1] in \" .,?!:;\":\n",
    "            label_data[1] -= 1\n",
    "        if label_data[0] in ids or label_data[1] in ids:\n",
    "            print(f\"overlapping relation parts! {data_item['label']}\")\n",
    "        ids[label_data[0]] = { \"type\": \"start\", \"label\": label_data[2] }\n",
    "        ids[label_data[1]] = { \"type\":\"end\", \"label\": label_data[2] }\n",
    "    return ids "
   ]
  },
  {
   "cell_type": "code",
   "execution_count": 7,
   "id": "e73a0756-7bed-4c36-8d35-0258f09e60a6",
   "metadata": {},
   "outputs": [],
   "source": [
    "def add_colors_to_text(text, ids):\n",
    "    for key in sorted(ids.keys(), reverse=True):\n",
    "        if ids[key][\"type\"] == \"end\":\n",
    "            text = text[:key+1] + \"\\x1b[m\" + text[key+1:]\n",
    "        else:\n",
    "            if ids[key][\"label\"] == \"Content_Concept_1\":\n",
    "                color_code = 1\n",
    "            elif ids[key][\"label\"] == \"Content_Concept_2\":\n",
    "                color_code = 4\n",
    "            elif ids[key][\"label\"] == \"Content_Relation_Explanation\":\n",
    "                color_code = 0\n",
    "            else:\n",
    "                color_code = 7\n",
    "                print(f\"unknown relation part label! ({ids[key]['label']})\")\n",
    "            text = text[:key] + f\"\\x1b[1;3{color_code};47m\" + text[key:]\n",
    "    return text    "
   ]
  },
  {
   "cell_type": "code",
   "execution_count": 8,
   "id": "7a1cbea1-1331-49ae-93c3-b835d8746257",
   "metadata": {},
   "outputs": [],
   "source": [
    "def visualize(json_data, i):\n",
    "    text = json_data[i-1][\"data\"]\n",
    "    ids = make_ids(json_data[i-1]['label'], text)\n",
    "    text = add_colors_to_text(text, ids)\n",
    "    print(text + \"\\n\")"
   ]
  },
  {
   "cell_type": "code",
   "execution_count": 9,
   "id": "58e0575c-81f4-4a2b-80e2-d63336b509db",
   "metadata": {},
   "outputs": [
    {
     "name": "stdout",
     "output_type": "stream",
     "text": [
      "Today I want to send a clear message to the people of this great country, of Greece. I know that many people feel without hope. Many are making extremely difficult sacrifices. And many people ask why they should do more. I understand those concerns. And I agree that some of the efforts seem unfair. But I ask people to recognise the other alternatives which will be much more difficult for Greece and will affect even more the most vulnerable in the Greek society. So this is why it is the right approach to ask Greece to reform, to increase its competitiveness to have a viable future, irrespective of the crisis. \u001b[1;31;47mYou, in Greece, with our support, need to rebuild your country,\u001b[m your structures, your administration, your economy \u001b[1;30;47mto \u001b[m\u001b[1;34;47mincrease the competitiveness of Greece.\u001b[m And the best hope of a return to growth and job creation is inside the euro area. Staying in the euro is the best chance to avoid worse hardship and difficulties to the Greek people, namely for those in a more vulnerable position\n",
      "\n",
      "To conclude, let me say a few words on the euro area more generally. \u001b[1;31;47mWe have taken important, fundamental decisions \u001b[mover the last couple of months \u001b[1;30;47mto safeguard \u001b[m\u001b[1;34;47mthe stability of the euro area,\u001b[m and indeed we are now in the phase of implementation. A number of governments have embarked on a path of reform and fiscal consolidation that was unthinkable only very recently, and they have taken important decisions and I encourage them to keep this determination. These reforms are now being implemented and this effort must continue with credibility, with consistency, with coherence over time. As we said there will not be magic solutions. We need sustained efforts and determination. At the same time, the existing financial backstops are being used as necessary. Most recently, the financial assistance to the recapitalisation of Spanish banks has been agreed and is ready for implementation.\n",
      "\n",
      "Giving to the ECB the ultimate responsibility for supervision of banks in the euro area will decisively contribute to increase \u001b[1;31;47mconfidence between the banks \u001b[m\u001b[1;30;47mand in this way \u001b[m\u001b[1;34;47mincrease the financial stability in the euro area.\u001b[m The euro area governments and the European institutions, including naturally the European Commission and the ECB, will do whatever is necessary to secure the financial stability of the euro area.\n",
      "\n"
     ]
    }
   ],
   "source": [
    "MAX_PARAGRAPHS = 3\n",
    "\n",
    "seen = {}\n",
    "for i in range(1, len(json_data)+1):\n",
    "    data_item = json_data[i - 1]\n",
    "    if str(data_item[\"source_id\"]) + \" \" + str(data_item[\"speech_id\"]) in seen:\n",
    "        continue\n",
    "    visualize(json_data, i)\n",
    "    seen[ str(data_item[\"source_id\"]) + \" \" + str(data_item[\"speech_id\"]) ] = True\n",
    "    if MAX_PARAGRAPHS > 0 and len(seen) >= MAX_PARAGRAPHS:\n",
    "        break"
   ]
  },
  {
   "cell_type": "code",
   "execution_count": 10,
   "id": "682ed38e-6c3c-48dc-a51d-2723e49363ca",
   "metadata": {},
   "outputs": [
    {
     "name": "stdout",
     "output_type": "stream",
     "text": [
      "Before EMU, the current euro area countries followed different economic strategies. Between 1970 and 1999, unit labour costs in Germany, the Netherlands en Austria grew by a factor of 2.5 to 3. During these 28 years prior to EMU, unit labour costs grew by a factor of 12 in Italy, 14 in Spain, 35 in Portugal and 55 in Greece. By regularly \u001b[1;34;47mdevaluing \u001b[mtheir currencies, these countries were able to restore competitiveness. But \u001b[1;30;47mafter \u001b[m\u001b[1;31;47mthe launch of EMU,\u001b[m \u001b[1;34;47mthis policy option was no longer available,\u001b[m of course.\n",
      "\n"
     ]
    }
   ],
   "source": [
    "visualize(json_data, 1397)"
   ]
  },
  {
   "cell_type": "markdown",
   "id": "aebe7f1c-2f9e-42d8-b720-15e145c674e5",
   "metadata": {},
   "source": [
    "## 3. Check for duplicate candidate phrases\n",
    "\n",
    "Difficult cases:\n",
    "* 22 (This)\n",
    "* 363 (ex)\n",
    "* 988 (:)\n",
    "* 993 (:)"
   ]
  },
  {
   "cell_type": "code",
   "execution_count": 11,
   "id": "a36ee038-2b8a-4502-9a9a-27e6ff96c175",
   "metadata": {},
   "outputs": [
    {
     "name": "stdout",
     "output_type": "stream",
     "text": [
      "1 to \n",
      "2 to \n",
      "3 to \n",
      "4 to \n",
      "31 markets \n",
      "35 in \n",
      "49 Eurosystem \n",
      "60 the crisis \n",
      "99 to ensure \n",
      "102 growth \n",
      "103 growth \n",
      "104 growth \n",
      "105 growth \n",
      "106 growth \n",
      "107 reforms.\n",
      "108 reforms.\n",
      "109 reforms.\n",
      "112  it \n",
      "123 to make \n",
      "124 to make \n",
      "126 to \n",
      "127 to \n",
      "146 For \n",
      "155 strengthening \n",
      "157 strengthening \n",
      "158 to \n",
      "160 that \n",
      "161 to bring \n",
      "161  We \n",
      "162 to bring \n",
      "163 that \n",
      "176 that \n",
      "177 that \n",
      "182 we are capable of \n",
      "182 taking decisions.\n",
      "209 we need to \n",
      "210 we need to \n",
      "211 we need to \n",
      "218 Member States \n",
      "219 Member States \n",
      "246 to \n",
      "247 requires \n",
      "247 Peace \n",
      "248 requires \n",
      "249 requires \n",
      "249 Peace \n",
      "250 requires \n",
      "251 requires \n",
      "252 requires \n",
      "278 crisis \n",
      "279 crisis \n",
      "289 monetary policy.\n",
      "290 monetary policy.\n",
      "291 monetary policy.\n",
      "306 banks \n",
      "307 through \n",
      "308 monetary policy \n",
      "313 monetary policy \n",
      "315 we need to \n",
      "316 to \n",
      "318 growth \n",
      "319 growth \n",
      "320 growth \n",
      "321  growth \n",
      "322 reduce \n",
      "323 reduce \n",
      "330 based on \n",
      "331 based on \n",
      "333 fair \n",
      "335 no \n",
      "335 wage cuts \n",
      "335 package.\n",
      "336 no \n",
      "336 wage cuts \n",
      "336 package.\n",
      "338 growth \n",
      "341 package \n",
      "351 so \n",
      "352 so \n",
      "354 by \n",
      "355 by \n",
      "359 growth \n",
      "361 to \n",
      "365 to \n",
      "375 Our economies \n",
      "381 wage competitiveness \n",
      "414 is key for \n",
      "415 It is key \n",
      "416 is key for \n",
      "447  high \n",
      "449 of \n",
      "450 of \n",
      "503 monetary \n",
      "539 co-ordination \n",
      "540 to \n",
      "540 co-ordination \n",
      "541  to \n",
      "541 co-ordination \n",
      "542  to \n",
      "542 co-ordination \n",
      "543 will enable us \n",
      "544 will enable us \n",
      "553  2009 recession \n",
      "554 affected \n",
      "560 2009 recession \n",
      "567 This \n",
      "569 expansionary \n",
      "570 expansionary \n",
      "571 expansionary \n",
      "572 expansionary \n",
      "573 expansionary \n",
      "587 Britain \n",
      "588 Britain \n",
      "593 to \n",
      "594 to \n",
      "610  to b\n",
      "628 to \n",
      "629 to \n",
      "629 realistic,\n",
      "630 to \n",
      "631 to \n",
      "631 structural reforms \n",
      "632 to \n",
      "634 realistic,\n",
      "636 structural reforms \n",
      "638 reforms \n",
      "640 reforms \n",
      "652 To \n",
      "653 To \n",
      "662 through \n",
      "682 through \n",
      "683 through \n",
      "700 by \n",
      "701 by \n",
      "702 by \n",
      "704  euro area \n",
      "711 rules \n",
      "712 rules \n",
      "726 encourage \n",
      "734 risk \n",
      "745 Stability and Growth \n",
      "756 Through \n",
      "757 Through \n",
      "758 Through \n",
      "759 Through \n",
      "760 Through \n",
      "761 Through \n",
      "762 Through \n",
      "763 Through \n",
      "766 single currency,\n",
      "768 single currency,\n",
      "802 will be achieved through \n",
      "803 will be achieved through \n",
      "803 tax \n",
      "809 and \n",
      "810 Normalisation of interest rates \n",
      "832 and not \n",
      "840 in line with \n",
      "842 business \n",
      "843 business \n",
      "855  parent banks \n",
      "862 with \n",
      "864 with \n",
      "866 with \n",
      "911 public trust \n",
      "912 politics.\n",
      "912 public trust \n",
      "913 public trust \n",
      "918 financial \n",
      "938 financial crisis \n",
      "941 euro \n",
      "942 euro \n",
      "945 euro \n",
      "950 lower interest rates \n",
      "952  lower interest rates \n",
      "954 led \n",
      "966 by \n",
      "967 by \n",
      "977 to \n",
      "995 What will become of \n",
      "999 We \n",
      "999 by \n",
      "1006 debt.\n",
      "1009 idleness \n",
      "1010 idleness \n",
      "1011 , \n",
      "1012 Idleness \n",
      "1023 fiscal \n",
      "1023  policy \n",
      "1024  fiscal \n",
      "1027 in \n",
      "1027 discretionary fiscal \n",
      "1028 sound public finances \n",
      "1029 credibility \n",
      "1029 only sound public finances \n",
      "1030 credibility \n",
      "1033 prolongation \n",
      "1034 a prolongation \n",
      "1036 prolongation \n",
      "1049 to \n",
      "1061 as \n",
      "1073 common currency \n",
      "1088 by \n",
      "1089  It \n",
      "1090 if \n",
      "1097 to \n",
      "1103 to \n",
      "1104 to \n",
      "1105 to \n",
      "1106 to \n",
      "1107 to \n",
      "1108 to \n",
      "1109 to \n",
      "1110 to \n",
      "1111 to \n",
      "1126 collateral \n",
      "1126 risk \n",
      "1140 unemployment \n",
      "1143 unemployment \n",
      "1151 As \n",
      "1152 This \n",
      "1156 Transparency \n",
      "1157 accountability \n",
      "1158 Transparency \n",
      "1159 accountability \n",
      "1175 To \n",
      "1176 To \n",
      "1177 To \n",
      "1178 To \n",
      "1189  People \n",
      "1197 to \n",
      "1198 to \n",
      "1199 to \n",
      "1200 to \n",
      "1202 for \n",
      "1203 for \n",
      "1208 for \n",
      "1209 It is what \n",
      "1210 Europe \n",
      "1220 because \n",
      "1222  to \n",
      "1226 thanks to \n",
      "1234 with \n",
      "1235 with \n",
      "1236 with \n",
      "1237 with \n",
      "1244 This \n",
      "1278 Danish \n",
      "1286 that \n",
      "1291 we acted to \n",
      "1291 remove \n",
      "1294 Those fears \n",
      "1295 by \n",
      "1300 We act \n",
      "1301  We act t\n",
      "1319 with \n",
      "1320 with \n",
      "1321 with \n",
      "1322 with \n",
      "1340 moving towards \n",
      "1341 moving towards \n",
      "1371 for \n",
      "1391 the crisis.\n",
      "1392 causes \n",
      "1392 the crisis.\n",
      "1393 causes \n",
      "1393 the crisis.\n",
      "1396 By \n",
      "1400 By \n",
      "1402 current account balances \n",
      "1403 current account balances \n",
      "1405  this w\n",
      "1408 a stable monetary union \n",
      "1413 their \n",
      "1418 Eurobonds \n",
      "1419 Eurobonds \n",
      "1420 they c\n",
      "1421 If \n",
      "1422 If \n",
      "1423 if \n",
      "1435 is \n",
      "1436 unemployment \n",
      "1441 the euro \n",
      "1442 sovereign debt crisis \n",
      "1448 caused \n",
      "1449 caused \n",
      "1453 caused \n",
      "1456 This \n",
      "1462 fiscal policy \n",
      "1474 banking union \n",
      "1475 banking union \n",
      "1476 banking union \n",
      "1481  would \n",
      "1481 For \n",
      "1484 By \n",
      "1488 independence.\n",
      "1491  ECB's unconventional monetary policy \n",
      "1542  policy.\n",
      "1544 policy.\n",
      "1545 of \n",
      "1547 policy.\n",
      "1549 price stability.\n",
      "1549 success \n",
      "1559 the crisis \n",
      "1581 when \n",
      "1583 Recent developments within EMU \n",
      "1584 recent developments within EMU \n",
      "1596 currency \n",
      "1599 dialogue \n",
      "1600 dialogue \n",
      "1601 dialogue \n",
      "1632 to \n",
      "1642 does not \n",
      "1643  it \n",
      "1643 does not \n",
      "1645  that.\n",
      "1647 to \n",
      "1649 to \n",
      "1670 to \n",
      "1696 structural reforms \n",
      "1697 structural reforms \n",
      "1701 structural reforms \n",
      "1702 structural reforms \n",
      "1711 financial stability.\n",
      "1720 to \n",
      "1725 to \n",
      "1726 to \n",
      "1727 structural reforms \n",
      "1727 growth.\n",
      "1728 growth.\n",
      "1729 growth.\n",
      "1742 to \n",
      "1746 to \n",
      "1755  investment.\n",
      "1756 Because \n",
      "1775 financial crisis \n",
      "1778 euro \n",
      "1779 euro \n",
      "1779 euro \n",
      "1782 euro \n",
      "1787 lower interest rates \n",
      "1789  lower interest rates \n",
      "1791 led \n",
      "1803 by \n",
      "1804 by \n",
      "1820 to \n",
      "1850 at \n",
      "1850 European \n",
      "1854 would be \n",
      "1855 on \n",
      "1856  on \n",
      "1857  it \n",
      "1858  it \n",
      "1859 if \n",
      "1860 You've got to \n",
      "1860 succeed \n",
      "1861 You've got to \n",
      "1861 succeed \n",
      "1862 You've got to \n",
      "1862 succeed \n",
      "1863 succeed \n"
     ]
    }
   ],
   "source": [
    "counter = 0\n",
    "for data_item in json_data:\n",
    "    counter += 1\n",
    "    text = data_item[\"data\"]\n",
    "    for label_data in data_item['label']:\n",
    "        phrase = text[label_data[0]:label_data[1]+1]\n",
    "        for i in range(0, len(text)-len(phrase)):\n",
    "            if text[i:i+len(phrase)].lower() == phrase.lower() and i != label_data[0]:\n",
    "                print(counter, phrase)\n",
    "                break"
   ]
  },
  {
   "cell_type": "markdown",
   "id": "4ec5244e-0302-43eb-8269-ebaa448f37b4",
   "metadata": {},
   "source": [
    "## 4. Find relations within one sentence\n",
    "\n",
    "We want to use only local relations (within a single sentence) for training to make the rate of out-of-relation words smaller."
   ]
  },
  {
   "cell_type": "code",
   "execution_count": 12,
   "id": "810b97b7-e54d-4772-921a-1c1e0bff610f",
   "metadata": {},
   "outputs": [],
   "source": [
    "def sort_labels(labels):\n",
    "    was_sorted = True\n",
    "    for i in range(0, len(labels)-1):\n",
    "        if labels[i][0] > labels[i+1][0]:\n",
    "            labels[i], labels[i+1] = labels[i+1], labels[i]\n",
    "            was_sorted = False\n",
    "    if was_sorted: \n",
    "        return labels\n",
    "    else:\n",
    "        return sort_labels(labels)"
   ]
  },
  {
   "cell_type": "markdown",
   "id": "90e04635-7bdf-412c-810c-14da412d122a",
   "metadata": {},
   "source": [
    "Resolved overlapping labels on 20211012"
   ]
  },
  {
   "cell_type": "code",
   "execution_count": 18,
   "id": "afd51715-705f-4458-893d-9c504ba20a7b",
   "metadata": {},
   "outputs": [
    {
     "name": "stdout",
     "output_type": "stream",
     "text": [
      "no overlapping labels found\n"
     ]
    }
   ],
   "source": [
    "def find_overlapping_labels(json_data):\n",
    "    overlapping_labels_found = 0\n",
    "    for j in range(0, len(json_data)):\n",
    "        data_item = json_data[j]\n",
    "        labels = sort_labels(data_item['label'])\n",
    "        for i in range(0,len(labels)-1):\n",
    "            if labels[i][1] > labels[i+1][0]:\n",
    "                print(f\"overlapping labels in item {j+1}\")\n",
    "                overlapping_labels_found += 1\n",
    "    if overlapping_labels_found == 0:\n",
    "        print(\"no overlapping labels found\")\n",
    "                \n",
    "find_overlapping_labels(json_data)"
   ]
  },
  {
   "cell_type": "code",
   "execution_count": 42,
   "id": "a01102fc-f6bc-4989-8440-7b4e9be2123c",
   "metadata": {},
   "outputs": [],
   "source": [
    "SENTENCE_BOUNDARY = '[!?.]'\n",
    "\n",
    "def get_sentence_boundaries(text, sorted_labels):\n",
    "    start = sorted_labels[0][0]\n",
    "    while start-2 >= 0 and not re.search(SENTENCE_BOUNDARY, json_data[j]['data'][start-2]):\n",
    "        start -= 1\n",
    "    end = sorted_labels[-1][1]\n",
    "    while end-1 < len(json_data[j][\"data\"]) and not re.search(SENTENCE_BOUNDARY, json_data[j]['data'][end-1]):\n",
    "        end += 1\n",
    "    return(start, end)"
   ]
  },
  {
   "cell_type": "code",
   "execution_count": 57,
   "id": "b4562e21-d96a-4901-b6e3-3ee8be10c36e",
   "metadata": {},
   "outputs": [
    {
     "name": "stdout",
     "output_type": "stream",
     "text": [
      "found: 1138\n"
     ]
    }
   ],
   "source": [
    "one_sentence_data = []\n",
    "for j in range(0, len(json_data)):\n",
    "    sorted_labels = sort_labels(json_data[j][\"label\"])\n",
    "    if len(set([x[2] for x in sorted_labels])) < 3:\n",
    "        continue\n",
    "    relation_in_one_sentence = True\n",
    "    for i in range(sorted_labels[0][0], sorted_labels[-1][1]):\n",
    "        if re.search(SENTENCE_BOUNDARY, json_data[j]['data'][i]):\n",
    "            relation_in_one_sentence = False\n",
    "            break\n",
    "    if relation_in_one_sentence:\n",
    "        start, end = get_sentence_boundaries(json_data[j][\"data\"], sorted_labels)\n",
    "        data_copy = copy.deepcopy(json_data[j])\n",
    "        data_copy[\"data\"] = json_data[j][\"data\"][start:end]\n",
    "        for label in data_copy[\"label\"]:\n",
    "            label[0] -= start\n",
    "            label[1] -= start\n",
    "        one_sentence_data.append(data_copy)\n",
    "       \n",
    "print(f\"found: {len(one_sentence_data)}\")"
   ]
  },
  {
   "cell_type": "code",
   "execution_count": 61,
   "id": "9218553d-8b92-4236-b9a2-5b43c9ab2473",
   "metadata": {},
   "outputs": [
    {
     "name": "stdout",
     "output_type": "stream",
     "text": [
      "\u001b[1;31;47mYou, in Greece, with our support, need to rebuild your country,\u001b[m your structures, your administration, your economy \u001b[1;30;47mto \u001b[m\u001b[1;34;47mincrease the competitiveness of Greece.\u001b[m\n",
      "\n"
     ]
    }
   ],
   "source": [
    "visualize(one_sentence_data, 1)"
   ]
  },
  {
   "cell_type": "code",
   "execution_count": 73,
   "id": "5e7d4eb2-02d7-4d28-a8b1-b9114bcbd1c8",
   "metadata": {},
   "outputs": [],
   "source": [
    "combined_data = tokenize({i: one_sentence_data[i] for i in range(0, len(one_sentence_data))})"
   ]
  },
  {
   "cell_type": "markdown",
   "id": "0d978fad-397e-4d27-a408-2d471270ab5b",
   "metadata": {},
   "source": [
    "## 5. Summarize data"
   ]
  },
  {
   "cell_type": "code",
   "execution_count": 7,
   "id": "1ad66c70-3a0a-4c61-b16d-e55499d1afb3",
   "metadata": {},
   "outputs": [],
   "source": [
    "def summarize_data(json_data):\n",
    "    summarized_data = []\n",
    "    for data in json_data:\n",
    "        summarized_data.append({})\n",
    "        for label_data in data[\"label\"]:\n",
    "            label = label_data[2]\n",
    "            phrase = data[\"data\"][label_data[0]:label_data[1]]\n",
    "            if label in summarized_data[-1]:\n",
    "                summarized_data[-1][label] += \" \" + phrase\n",
    "            else:\n",
    "                summarized_data[-1][label] = phrase\n",
    "    return summarized_data"
   ]
  },
  {
   "cell_type": "code",
   "execution_count": 64,
   "id": "542c170c-7f77-4349-a615-8ad52e72913a",
   "metadata": {},
   "outputs": [],
   "source": [
    "summarized_data = summarize_data(json_data)"
   ]
  },
  {
   "cell_type": "code",
   "execution_count": 68,
   "id": "1e434859-6916-4640-9e69-3582e246cefb",
   "metadata": {},
   "outputs": [
    {
     "name": "stdout",
     "output_type": "stream",
     "text": [
      "skipping: {'Content_Concept_1': 'consolidation of public finances'}\n",
      "skipping: {'Content_Concept_1': 'structural reforms'}\n",
      "skipping: {'Content_Concept_1': 'better rules at the European level.'}\n",
      "skipping: {'Content_Concept_1': 'learn from our mistakes', 'Content_Relation_Explanation': 'we need to'}\n",
      "skipping: {'Content_Relation_Explanation': 'severely restrained', 'Content_Concept_2': \"the EU's ability to act\"}\n",
      "skipping: {'Content_Relation_Explanation': 'has not been compromised', 'Content_Concept_2': 'solidarity'}\n",
      "skipping: {'Content_Concept_1': 'caring', 'Content_Relation_Explanation': 'requires'}\n",
      "skipping: {'Content_Concept_1': 'perseverance', 'Content_Relation_Explanation': 'requires'}\n",
      "skipping: {'Content_Relation_Explanation': 'safeguard', 'Content_Concept_2': ' sound public finances'}\n",
      "skipping: {'Content_Relation_Explanation': 'contributed to severe losses', 'Content_Concept_2': 'of price competitiveness'}\n",
      "skipping: {'Content_Concept_1': 'devaluations', 'Content_Relation_Explanation': 'at the cost of'}\n",
      "skipping: {'Content_Concept_1': 'currency union', 'Content_Relation_Explanation': 'main advantage of'}\n",
      "skipping: {'Content_Relation_Explanation': 'lead to', 'Content_Concept_1': \" Ireland's crisis  struck hard in mid-2008\"}\n",
      "skipping: {'Content_Relation_Explanation': 'resulted in', 'Content_Concept_2': 'significant tensions among EMS currencies At that time, the EMS had been exposed to a massive flight primarily into the D-Mark  crisis of the European Monetary System (EMS) '}\n",
      "skipping: {'Content_Relation_Explanation': 'without', 'Content_Concept_1': ' pan-European initiatives to solve the sovereign debt crisis euro area sovereign debt crisis could very well have taken a far more dramatic path'}\n",
      "skipping: {'Content_Relation_Explanation': 'also facilitate', 'Content_Concept_2': 'meeting the convergence criteria'}\n",
      "skipping: {'Content_Concept_1': 'Budgetary stability improved access to more and cheaper credit', 'Content_Relation_Explanation': 'Its clearest benefit'}\n"
     ]
    }
   ],
   "source": [
    "summarized_dict = {}\n",
    "for i in range(0, len(summarized_data)):\n",
    "    try:\n",
    "        summarized_dict[i] = { \"data\": \" \".join([summarized_data[i]['Content_Concept_1'], summarized_data[i]['Content_Relation_Explanation'], summarized_data[i]['Content_Concept_2']]),\n",
    "                               \"label\": [ [0, \n",
    "                                           len(summarized_data[i]['Content_Concept_1']), 'Content_Concept_1'],\n",
    "                                          [len(summarized_data[i]['Content_Concept_1']) + 1, \n",
    "                                           len(summarized_data[i]['Content_Concept_1']) + len(summarized_data[i]['Content_Relation_Explanation']) + 1, 'Content_Relation_Explanation'],\n",
    "                                          [len(summarized_data[i]['Content_Concept_1']) + len(summarized_data[i]['Content_Relation_Explanation']) + 2, \n",
    "                                           len(summarized_data[i]['Content_Concept_1']) + len(summarized_data[i]['Content_Relation_Explanation']) + \n",
    "                                           len(summarized_data[i]['Content_Concept_2']) + 2, 'Content_Concept_2'],\n",
    "                                        ]\n",
    "                             }\n",
    "    except:\n",
    "        print(f\"skipping: {summarized_data[i]}\")"
   ]
  },
  {
   "cell_type": "code",
   "execution_count": 69,
   "id": "8ba2466f-4316-4e41-ba23-91f7407c1f4d",
   "metadata": {},
   "outputs": [],
   "source": [
    "combined_data = tokenize(summarized_dict)"
   ]
  },
  {
   "cell_type": "markdown",
   "id": "b47a3bc7-e53d-4952-a737-e3d369483e2d",
   "metadata": {},
   "source": [
    "## 7. Roberta Named Entity Recogntion by Erik Novak\n",
    "\n",
    "Source: https://www.kaggle.com/eriknovak/pytorch-roberta-named-entity-recognition"
   ]
  },
  {
   "cell_type": "code",
   "execution_count": 62,
   "id": "50cf9b5c-a08a-4780-8924-aa491434685f",
   "metadata": {},
   "outputs": [
    {
     "name": "stdout",
     "output_type": "stream",
     "text": [
      "Requirement already satisfied: datasets in /home/erikt/anaconda3/envs/python37/lib/python3.7/site-packages (1.6.2)\n",
      "Requirement already satisfied: fsspec in /home/erikt/anaconda3/envs/python37/lib/python3.7/site-packages (from datasets) (0.5.2)\n",
      "Requirement already satisfied: xxhash in /home/erikt/anaconda3/envs/python37/lib/python3.7/site-packages (from datasets) (2.0.2)\n",
      "Requirement already satisfied: tqdm<4.50.0,>=4.27 in /home/erikt/anaconda3/envs/python37/lib/python3.7/site-packages (from datasets) (4.49.0)\n",
      "Requirement already satisfied: packaging in /home/erikt/anaconda3/envs/python37/lib/python3.7/site-packages (from datasets) (19.2)\n",
      "Requirement already satisfied: huggingface-hub<0.1.0 in /home/erikt/anaconda3/envs/python37/lib/python3.7/site-packages (from datasets) (0.0.8)\n",
      "Requirement already satisfied: importlib-metadata in /home/erikt/anaconda3/envs/python37/lib/python3.7/site-packages (from datasets) (2.1.1)\n",
      "Requirement already satisfied: multiprocess in /home/erikt/anaconda3/envs/python37/lib/python3.7/site-packages (from datasets) (0.70.11.1)\n",
      "Requirement already satisfied: numpy>=1.17 in /home/erikt/anaconda3/envs/python37/lib/python3.7/site-packages (from datasets) (1.19.5)\n",
      "Requirement already satisfied: requests>=2.19.0 in /home/erikt/anaconda3/envs/python37/lib/python3.7/site-packages (from datasets) (2.25.1)\n",
      "Requirement already satisfied: pyarrow>=1.0.0<4.0.0 in /home/erikt/anaconda3/envs/python37/lib/python3.7/site-packages (from datasets) (4.0.0)\n",
      "Requirement already satisfied: dill in /home/erikt/anaconda3/envs/python37/lib/python3.7/site-packages (from datasets) (0.3.3)\n",
      "Requirement already satisfied: pandas in /home/erikt/anaconda3/envs/python37/lib/python3.7/site-packages (from datasets) (0.25.1)\n",
      "Requirement already satisfied: filelock in /home/erikt/anaconda3/envs/python37/lib/python3.7/site-packages (from huggingface-hub<0.1.0->datasets) (3.0.10)\n",
      "Requirement already satisfied: urllib3<1.27,>=1.21.1 in /home/erikt/anaconda3/envs/python37/lib/python3.7/site-packages (from requests>=2.19.0->datasets) (1.26.5)\n",
      "Requirement already satisfied: idna<3,>=2.5 in /home/erikt/anaconda3/envs/python37/lib/python3.7/site-packages (from requests>=2.19.0->datasets) (2.8)\n",
      "Requirement already satisfied: certifi>=2017.4.17 in /home/erikt/anaconda3/envs/python37/lib/python3.7/site-packages (from requests>=2.19.0->datasets) (2020.12.5)\n",
      "Requirement already satisfied: chardet<5,>=3.0.2 in /home/erikt/anaconda3/envs/python37/lib/python3.7/site-packages (from requests>=2.19.0->datasets) (3.0.4)\n",
      "Requirement already satisfied: zipp>=0.5 in /home/erikt/anaconda3/envs/python37/lib/python3.7/site-packages (from importlib-metadata->datasets) (0.6.0)\n",
      "Requirement already satisfied: more-itertools in /home/erikt/anaconda3/envs/python37/lib/python3.7/site-packages (from zipp>=0.5->importlib-metadata->datasets) (7.2.0)\n",
      "Requirement already satisfied: six in /home/erikt/anaconda3/envs/python37/lib/python3.7/site-packages (from packaging->datasets) (1.15.0)\n",
      "Requirement already satisfied: pyparsing>=2.0.2 in /home/erikt/anaconda3/envs/python37/lib/python3.7/site-packages (from packaging->datasets) (2.4.2)\n",
      "Requirement already satisfied: pytz>=2017.2 in /home/erikt/anaconda3/envs/python37/lib/python3.7/site-packages (from pandas->datasets) (2019.3)\n",
      "Requirement already satisfied: python-dateutil>=2.6.1 in /home/erikt/anaconda3/envs/python37/lib/python3.7/site-packages (from pandas->datasets) (2.8.0)\n",
      "\u001b[33mWARNING: You are using pip version 21.2.4; however, version 21.3 is available.\n",
      "You should consider upgrading via the '/home/erikt/anaconda3/envs/python37/bin/python -m pip install --upgrade pip' command.\u001b[0m\n"
     ]
    }
   ],
   "source": [
    "import sys\n",
    "!{sys.executable} -m pip install datasets"
   ]
  },
  {
   "cell_type": "code",
   "execution_count": 63,
   "id": "3cffe178-f721-44c2-8643-09d58ded85fc",
   "metadata": {},
   "outputs": [],
   "source": [
    "import matplotlib.pyplot as plt\n",
    "import numpy as np\n",
    "import torch\n",
    "import torch.nn as nn\n",
    "import torch.optim as optim\n",
    "from transformers import RobertaForTokenClassification, RobertaTokenizer\n",
    "from datasets import load_dataset, Dataset, DatasetDict, Features, Value\n",
    "from datasets.features import Sequence, ClassLabel\n",
    "# HACK for transformers kernel: in ~/projects/filterbubble/transformers/venv3/lib/python3.7/site-packages/datasets/load.py replaced line 284: huggingface_hub.hf_api.DatasetInfo by \"\"\n",
    "import tqdm"
   ]
  },
  {
   "cell_type": "code",
   "execution_count": 64,
   "id": "b49eb570-ed9e-426f-89f6-d6ac64591f7d",
   "metadata": {},
   "outputs": [],
   "source": [
    "tqdmn = tqdm.notebook.tqdm\n",
    "roberta_version = 'roberta-base'\n",
    "tokenizer = RobertaTokenizer.from_pretrained(roberta_version)"
   ]
  },
  {
   "cell_type": "code",
   "execution_count": 65,
   "id": "7666cb36-3f38-45b1-9bd1-616bf218b277",
   "metadata": {},
   "outputs": [],
   "source": [
    "def make_project_data(combined_data):\n",
    "    project_data = { 'id': [], 'tokens': [], 'ner_tags': [] }\n",
    "    ner_tag_ids = {}\n",
    "    for key in combined_data:\n",
    "        tokens = []\n",
    "        ner_tags = []\n",
    "        for i in range(0, len(combined_data[key]['tokens'])):\n",
    "            if combined_data[key]['tokens'][i][1] not in ner_tag_ids:\n",
    "                ner_tag_ids[combined_data[key]['tokens'][i][1]] =  len(ner_tag_ids)\n",
    "            tokens.append(combined_data[key]['tokens'][i][0])\n",
    "            ner_tags.append(ner_tag_ids[combined_data[key]['tokens'][i][1]])\n",
    "        project_data['id'].append(str(len(project_data['id'])))\n",
    "        project_data['tokens'].append(tokens)\n",
    "        project_data['ner_tags'].append(ner_tags)\n",
    "    return project_data, ner_tag_ids"
   ]
  },
  {
   "cell_type": "code",
   "execution_count": 66,
   "id": "5ecff18d-367f-4ade-9c49-3f6d27b5b4ee",
   "metadata": {},
   "outputs": [],
   "source": [
    "def add_encodings(example):\n",
    "    encodings = tokenizer(example['tokens'], truncation=True, padding='max_length', is_split_into_words=True)\n",
    "    labels = example['ner_tags'] + [0] * (tokenizer.model_max_length - len(example['ner_tags']))\n",
    "    return { **encodings, 'labels': labels }"
   ]
  },
  {
   "cell_type": "code",
   "execution_count": 67,
   "id": "f92f5f13-9396-4716-bd64-f277a1e532aa",
   "metadata": {},
   "outputs": [],
   "source": [
    "def convert_project_data(project_data, ner_tag_ids):\n",
    "    features_id = Value('string')\n",
    "    features_tokens = Sequence(Value('string'))\n",
    "    features_ner_tags = Sequence(ClassLabel(names=list(ner_tag_ids.keys())))\n",
    "    features = Features({\"id\": features_id, \"tokens\": features_tokens, \"ner_tags\": features_ner_tags })\n",
    "    project_data_converted = DatasetDict({ \"train\": Dataset.from_dict(project_data, features=features)} )\n",
    "    num_labels = project_data_converted[\"train\"].features['ner_tags'].feature.num_classes\n",
    "    project_data_converted = project_data_converted.map(add_encodings)\n",
    "    return project_data_converted, num_labels"
   ]
  },
  {
   "cell_type": "code",
   "execution_count": 74,
   "id": "d83745a3-cbe2-4432-91b7-7567097aa6de",
   "metadata": {},
   "outputs": [
    {
     "data": {
      "application/vnd.jupyter.widget-view+json": {
       "model_id": "be4ab0d4b5db4a79ba6f7011d1eab14b",
       "version_major": 2,
       "version_minor": 0
      },
      "text/plain": [
       "HBox(children=(FloatProgress(value=0.0, max=1138.0), HTML(value='')))"
      ]
     },
     "metadata": {},
     "output_type": "display_data"
    },
    {
     "name": "stdout",
     "output_type": "stream",
     "text": [
      "\n"
     ]
    }
   ],
   "source": [
    "project_data, ner_tag_ids = make_project_data(combined_data)\n",
    "project_data_converted, num_labels = convert_project_data(project_data, ner_tag_ids)\n",
    "project_data_converted.set_format(type='torch', columns=['input_ids', 'attention_mask', 'labels'])"
   ]
  },
  {
   "cell_type": "code",
   "execution_count": 75,
   "id": "f3402bd4-b22b-4f6e-bea0-0b61de8e0ada",
   "metadata": {},
   "outputs": [],
   "source": [
    "labels = project_data_converted['train'].features['ner_tags'].feature\n",
    "label2id = { k: labels.str2int(k) for k in labels.names }\n",
    "id2label = { v: k for k, v in label2id.items() }"
   ]
  },
  {
   "cell_type": "code",
   "execution_count": 76,
   "id": "3ed992d6-7366-4fb0-af27-31a6ab5f6a15",
   "metadata": {},
   "outputs": [
    {
     "name": "stderr",
     "output_type": "stream",
     "text": [
      "Some weights of the model checkpoint at roberta-base were not used when initializing RobertaForTokenClassification: ['lm_head.bias', 'lm_head.dense.weight', 'lm_head.dense.bias', 'lm_head.layer_norm.weight', 'lm_head.layer_norm.bias', 'lm_head.decoder.weight']\n",
      "- This IS expected if you are initializing RobertaForTokenClassification from the checkpoint of a model trained on another task or with another architecture (e.g. initializing a BertForSequenceClassification model from a BertForPreTraining model).\n",
      "- This IS NOT expected if you are initializing RobertaForTokenClassification from the checkpoint of a model that you expect to be exactly identical (initializing a BertForSequenceClassification model from a BertForSequenceClassification model).\n",
      "Some weights of RobertaForTokenClassification were not initialized from the model checkpoint at roberta-base and are newly initialized: ['classifier.weight', 'classifier.bias']\n",
      "You should probably TRAIN this model on a down-stream task to be able to use it for predictions and inference.\n"
     ]
    }
   ],
   "source": [
    "model = RobertaForTokenClassification.from_pretrained(roberta_version, num_labels=num_labels)\n",
    "model.config.id2label = id2label\n",
    "model.config.label2id = label2id\n",
    "device = torch.device(\"cuda\" if torch.cuda.is_available() else \"cpu\")\n",
    "model.train().to(device)\n",
    "optimizer = optim.AdamW(params=model.parameters(), lr=1e-5)\n",
    "n_epochs = 3\n",
    "train_data = torch.utils.data.DataLoader(project_data_converted['train'], batch_size=4)"
   ]
  },
  {
   "cell_type": "code",
   "execution_count": 77,
   "id": "94489e12-fcac-4a58-99b8-eca8a12ff1a7",
   "metadata": {},
   "outputs": [],
   "source": [
    "def train(train_data, model, device, optimizer, n_epochs):\n",
    "    train_loss = []\n",
    "    for epoch in tqdmn(range(n_epochs)):\n",
    "        current_loss = 0\n",
    "        for i, batch in enumerate(tqdmn(train_data)):\n",
    "            batch = { k: v.to(device) for k, v in batch.items() }\n",
    "            outputs = model(**batch)\n",
    "            loss = outputs[0]\n",
    "            loss.backward()\n",
    "            current_loss += loss.item()\n",
    "            if i % 8 == 0 and i > 0:\n",
    "                optimizer.step()\n",
    "                optimizer.zero_grad()\n",
    "                train_loss.append(current_loss / 32)\n",
    "                current_loss = 0\n",
    "        optimizer.step()\n",
    "        optimizer.zero_grad()\n",
    "    return train_loss"
   ]
  },
  {
   "cell_type": "code",
   "execution_count": 78,
   "id": "8be668b0-ea6a-4deb-91cc-e223fe0b24ec",
   "metadata": {},
   "outputs": [
    {
     "data": {
      "application/vnd.jupyter.widget-view+json": {
       "model_id": "245df2d50fcb4acdb1e0ca86975475bd",
       "version_major": 2,
       "version_minor": 0
      },
      "text/plain": [
       "HBox(children=(FloatProgress(value=0.0, max=3.0), HTML(value='')))"
      ]
     },
     "metadata": {},
     "output_type": "display_data"
    },
    {
     "data": {
      "application/vnd.jupyter.widget-view+json": {
       "model_id": "eb6efeae45f5484884e24c9e35b80613",
       "version_major": 2,
       "version_minor": 0
      },
      "text/plain": [
       "HBox(children=(FloatProgress(value=0.0, max=285.0), HTML(value='')))"
      ]
     },
     "metadata": {},
     "output_type": "display_data"
    },
    {
     "name": "stdout",
     "output_type": "stream",
     "text": [
      "\n"
     ]
    },
    {
     "data": {
      "application/vnd.jupyter.widget-view+json": {
       "model_id": "8e6cc52dd59648f0997f2f4bd67431bf",
       "version_major": 2,
       "version_minor": 0
      },
      "text/plain": [
       "HBox(children=(FloatProgress(value=0.0, max=285.0), HTML(value='')))"
      ]
     },
     "metadata": {},
     "output_type": "display_data"
    },
    {
     "name": "stdout",
     "output_type": "stream",
     "text": [
      "\n"
     ]
    },
    {
     "data": {
      "application/vnd.jupyter.widget-view+json": {
       "model_id": "373162c20ed64783b8ba0dbda7214440",
       "version_major": 2,
       "version_minor": 0
      },
      "text/plain": [
       "HBox(children=(FloatProgress(value=0.0, max=285.0), HTML(value='')))"
      ]
     },
     "metadata": {},
     "output_type": "display_data"
    },
    {
     "name": "stdout",
     "output_type": "stream",
     "text": [
      "\n",
      "\n"
     ]
    }
   ],
   "source": [
    "train_loss = train(train_data, model, device, optimizer, n_epochs)"
   ]
  },
  {
   "cell_type": "code",
   "execution_count": 79,
   "id": "dbed7128-a980-4189-9f16-1a4c232081a4",
   "metadata": {},
   "outputs": [
    {
     "data": {
      "image/png": "[encoded data removed]",
      "text/plain": [
       "<Figure size 720x288 with 1 Axes>"
      ]
     },
     "metadata": {
      "needs_background": "light"
     },
     "output_type": "display_data"
    }
   ],
   "source": [
    "fig, ax = plt.subplots(figsize=(10, 4))\n",
    "ax.plot(train_loss)\n",
    "ax.set_ylabel('Loss')\n",
    "ax.set_xlabel(f'Iterations ({n_epochs}*{len(combined_data)}/32 = {n_epochs*int(len(combined_data)/32)})')\n",
    "fig.tight_layout()\n",
    "plt.show()"
   ]
  },
  {
   "cell_type": "code",
   "execution_count": 80,
   "id": "269a63a6-c7e3-460e-9043-4f6ece68626c",
   "metadata": {},
   "outputs": [],
   "source": [
    "model = model.eval()\n",
    "test_data = torch.utils.data.DataLoader(project_data_converted['train'], batch_size=4)"
   ]
  },
  {
   "cell_type": "code",
   "execution_count": 81,
   "id": "fc842306-cc61-402c-aed1-54c65e530545",
   "metadata": {},
   "outputs": [],
   "source": [
    "def validate(test_data, model, device, num_labels):\n",
    "    confusion = torch.zeros(num_labels, num_labels)\n",
    "    found = 0\n",
    "    missed = 0\n",
    "    wrong = 0\n",
    "    for i, batch in enumerate(tqdmn(test_data)):\n",
    "        with torch.no_grad():\n",
    "            batch = { k: v.to(device) for k, v in batch.items() }\n",
    "            outputs = model(**batch)\n",
    "        s_lengths = batch['attention_mask'].sum(dim=1)\n",
    "        for idx, length in enumerate(s_lengths):\n",
    "            true_values = batch['labels'][idx][:length]\n",
    "            pred_values = torch.argmax(outputs[1], dim=2)[idx][:length]\n",
    "            for true, pred in zip(true_values, pred_values):\n",
    "                confusion[true.item()][pred.item()] += 1\n",
    "                if true.item() > 0:\n",
    "                    if pred.item() > 0:\n",
    "                        found += 1\n",
    "                    else: \n",
    "                        missed += 1\n",
    "                elif pred.item() > 0:\n",
    "                    wrong += 1\n",
    "    return confusion, found, missed, wrong"
   ]
  },
  {
   "cell_type": "code",
   "execution_count": 82,
   "id": "ddd7f53b-e687-42e2-8477-eda6ef53e476",
   "metadata": {},
   "outputs": [
    {
     "data": {
      "application/vnd.jupyter.widget-view+json": {
       "model_id": "d9aba42286a54c89b5f0321c1c35f5a5",
       "version_major": 2,
       "version_minor": 0
      },
      "text/plain": [
       "HBox(children=(FloatProgress(value=0.0, max=285.0), HTML(value='')))"
      ]
     },
     "metadata": {},
     "output_type": "display_data"
    },
    {
     "name": "stdout",
     "output_type": "stream",
     "text": [
      "\n"
     ]
    }
   ],
   "source": [
    "confusion, found, missed, wrong = validate(test_data, model, device, num_labels)"
   ]
  },
  {
   "cell_type": "code",
   "execution_count": 83,
   "id": "fc6c00af-8dd7-4aef-ba58-d227e613d102",
   "metadata": {},
   "outputs": [
    {
     "name": "stdout",
     "output_type": "stream",
     "text": [
      "precision: 0.784732519676058; recall: 0.9008150839634685\n"
     ]
    }
   ],
   "source": [
    "if found + wrong == 0:\n",
    "    precision = 0.0\n",
    "else:\n",
    "    precision = found / (found + wrong)\n",
    "recall = found / (found + missed)\n",
    "\n",
    "print(f\"precision: {precision}; recall: {recall}\")"
   ]
  },
  {
   "cell_type": "code",
   "execution_count": 84,
   "id": "0f1968c6-cb1f-47a0-9c6e-2057803854be",
   "metadata": {},
   "outputs": [],
   "source": [
    "for i in range(num_labels):\n",
    "    confusion[i] = confusion[i] / confusion[i].sum()"
   ]
  },
  {
   "cell_type": "code",
   "execution_count": 85,
   "id": "104842d7-ed8c-46a5-b6f6-3120f66d0d7a",
   "metadata": {},
   "outputs": [
    {
     "data": {
      "image/png": "[encoded data removed]",
      "text/plain": [
       "<Figure size 720x720 with 1 Axes>"
      ]
     },
     "metadata": {
      "needs_background": "light"
     },
     "output_type": "display_data"
    }
   ],
   "source": [
    "fig, ax = plt.subplots(figsize=(10, 10))\n",
    "ax.matshow(confusion.numpy())\n",
    "\n",
    "labels = list(label2id.keys())\n",
    "ids = np.arange(len(labels))\n",
    "\n",
    "ax.set_ylabel('True Labels', fontsize='x-large')\n",
    "ax.set_xlabel('Pred Labels', fontsize='x-large')\n",
    "\n",
    "ax.set_xticks(ids)\n",
    "ax.set_xticklabels(labels)\n",
    "\n",
    "ax.set_yticks(ids)\n",
    "ax.set_yticklabels(labels)\n",
    "\n",
    "fig.tight_layout()\n",
    "plt.show()"
   ]
  },
  {
   "cell_type": "code",
   "execution_count": 86,
   "id": "51ca3de7-b29a-41b0-91fb-fc65961c7472",
   "metadata": {},
   "outputs": [
    {
     "data": {
      "text/plain": [
       "array([[0.49038008, 0.49483562, 0.01478431],\n",
       "       [0.09358539, 0.8953027 , 0.01111191],\n",
       "       [0.15400918, 0.541858  , 0.30413282]], dtype=float32)"
      ]
     },
     "execution_count": 86,
     "metadata": {},
     "output_type": "execute_result"
    }
   ],
   "source": [
    "confusion.numpy()"
   ]
  },
  {
   "cell_type": "markdown",
   "id": "a987d779-f033-475c-9ee9-1bc4c9c01f37",
   "metadata": {},
   "source": [
    "## 6. SemEval-2018 Task 7\n",
    "\n",
    "Sources:\n",
    "\n",
    "* info: https://competitions.codalab.org/competitions/17422#learn_the_details-subtasks\n",
    "* data: https://lipn.univ-paris13.fr/~gabor/semeval2018task7/"
   ]
  },
  {
   "cell_type": "code",
   "execution_count": 1,
   "id": "9bd87ca1-2bf9-4bc0-92d5-64ad801f79f6",
   "metadata": {},
   "outputs": [],
   "source": [
    "import pandas as pd\n",
    "import re\n",
    "import stanza\n",
    "from bs4 import BeautifulSoup"
   ]
  },
  {
   "cell_type": "code",
   "execution_count": 2,
   "id": "ea41dcbc-c1e1-4790-b602-432b5b7311b5",
   "metadata": {},
   "outputs": [],
   "source": [
    "DATA_FILE = \"../semeval.2018/subtask2/1.1.text.xml\""
   ]
  },
  {
   "cell_type": "code",
   "execution_count": 3,
   "id": "fca55e71-85d9-4d51-bf9b-2ed50855bc26",
   "metadata": {},
   "outputs": [],
   "source": [
    "def guess_entity_positions(abstract_tag):\n",
    "    abstract_text = abstract_tag.text\n",
    "    start = 0\n",
    "    entity_positions = []\n",
    "    for entity in abstract_tag.findAll(\"entity\"):\n",
    "        while (start + len(entity.text) < len(abstract_text) and \n",
    "               abstract_text[start:start + len(entity.text)] != entity.text):\n",
    "            start += 1\n",
    "        if start + len(entity.text) < len(abstract_text):\n",
    "            entity_positions.append((start, start + len(entity.text), entity[\"id\"]))\n",
    "            start += 1\n",
    "    return entity_positions"
   ]
  },
  {
   "cell_type": "code",
   "execution_count": 4,
   "id": "150dfdef-86e9-47e9-8eaa-46d9ade9815c",
   "metadata": {},
   "outputs": [],
   "source": [
    "def show_entities(abstract_tag, entity_positions):\n",
    "    entity_positions.reverse()\n",
    "    paragraph = str(abstract_tag.text)\n",
    "    for entity in entity_positions:\n",
    "        paragraph = paragraph[:entity[1]] + \"\\x1b[m\" + paragraph[entity[1]:]\n",
    "        paragraph = paragraph[:entity[0]] + \"\\x1b[1;31;47m\" + paragraph[entity[0]:]\n",
    "    print(paragraph)"
   ]
  },
  {
   "cell_type": "code",
   "execution_count": 5,
   "id": "8985ee86-fe02-44dc-a368-2c574b0582f1",
   "metadata": {},
   "outputs": [
    {
     "name": "stdout",
     "output_type": "stream",
     "text": [
      " \u001b[1;31;47mOral communication\u001b[m is ubiquitous and carries important information yet it is also time consuming to document. Given the development of \u001b[1;31;47mstorage media and networks\u001b[m one could just record and store a \u001b[1;31;47mconversation\u001b[m for documentation. The question is, however, how an interesting information piece would be found in a \u001b[1;31;47mlarge database\u001b[m . Traditional \u001b[1;31;47minformation retrieval techniques\u001b[m use a \u001b[1;31;47mhistogram\u001b[m of \u001b[1;31;47mkeywords\u001b[m as the \u001b[1;31;47mdocument representation\u001b[m but \u001b[1;31;47moral communication\u001b[m may offer additional \u001b[1;31;47mindices\u001b[m such as the time and place of the rejoinder and the attendance. An alternative \u001b[1;31;47mindex\u001b[m could be the activity such as discussing, planning, informing, story-telling, etc. This paper addresses the problem of the \u001b[1;31;47mautomatic detection\u001b[m of those activities in meeting situation and everyday rejoinders. Several extensions of this basic idea are being discussed and/or evaluated: Similar to activities one can define subsets of larger \u001b[1;31;47mdatabase\u001b[m and detect those automatically which is shown on a large \u001b[1;31;47mdatabase\u001b[m of \u001b[1;31;47mTV shows\u001b[m . \u001b[1;31;47mEmotions\u001b[m and other \u001b[1;31;47mindices\u001b[m such as the \u001b[1;31;47mdominance distribution of speakers\u001b[m might be available on the \u001b[1;31;47msurface\u001b[m and could be used directly. Despite the small size of the \u001b[1;31;47mdatabases\u001b[m used some results about the effectiveness of these \u001b[1;31;47mindices\u001b[m can be obtained. \n"
     ]
    }
   ],
   "source": [
    "infile = open(DATA_FILE, 'r')\n",
    " \n",
    "xml_data = infile.read()\n",
    "soup = BeautifulSoup(xml_data, 'lxml')\n",
    "for text_tag in soup.findAll(\"text\"):\n",
    "    for abstract_tag in text_tag.findAll(\"abstract\"):\n",
    "        entity_positions = guess_entity_positions(abstract_tag)\n",
    "        show_entities(abstract_tag, entity_positions)\n",
    "    break\n",
    "\n",
    "infile.close()"
   ]
  },
  {
   "cell_type": "code",
   "execution_count": 6,
   "id": "f3dc50b7-afd6-4e1c-833c-708246252135",
   "metadata": {},
   "outputs": [],
   "source": [
    "infile = open(\"../semeval.2018/subtask2/1.1.relations.txt\", \"r\")\n",
    "relations = []\n",
    "for line in infile:\n",
    "    parts = re.split(\"[,()]\", line)\n",
    "    if parts[3] == \"\\n\":\n",
    "        parts[3] = \"NORMAL\"\n",
    "    relations.append((parts[1], parts[2], parts[0], parts[3]))\n",
    "infile.close()"
   ]
  },
  {
   "cell_type": "code",
   "execution_count": 7,
   "id": "12ef42c6-1812-482b-baf0-561d766f7c01",
   "metadata": {},
   "outputs": [
    {
     "name": "stderr",
     "output_type": "stream",
     "text": [
      "2021-10-12 15:30:12 INFO: Loading these models for language: en (English):\n",
      "=========================\n",
      "| Processor | Package   |\n",
      "-------------------------\n",
      "| tokenize  | combined  |\n",
      "| pos       | combined  |\n",
      "| lemma     | combined  |\n",
      "| depparse  | combined  |\n",
      "| sentiment | sstplus   |\n",
      "| ner       | ontonotes |\n",
      "=========================\n",
      "\n",
      "2021-10-12 15:30:12 INFO: Use device: cpu\n",
      "2021-10-12 15:30:12 INFO: Loading: tokenize\n",
      "2021-10-12 15:30:12 INFO: Loading: pos\n",
      "2021-10-12 15:30:12 INFO: Loading: lemma\n",
      "2021-10-12 15:30:12 INFO: Loading: depparse\n",
      "2021-10-12 15:30:13 INFO: Loading: sentiment\n",
      "2021-10-12 15:30:13 INFO: Loading: ner\n",
      "2021-10-12 15:30:14 INFO: Done loading processors!\n"
     ]
    }
   ],
   "source": [
    "nlp = stanza.Pipeline('en')"
   ]
  },
  {
   "cell_type": "code",
   "execution_count": 14,
   "id": "512e7762-f1c4-4d30-a4c7-e757520899e5",
   "metadata": {},
   "outputs": [
    {
     "name": "stdout",
     "output_type": "stream",
     "text": [
      "id: 1\tword: You\thead id: 10\thead: need\tdeprel: nsubj\n",
      "id: 2\tword: ,\thead id: 1\thead: You\tdeprel: punct\n",
      "id: 3\tword: in\thead id: 4\thead: Greece\tdeprel: case\n",
      "id: 4\tword: Greece\thead id: 1\thead: You\tdeprel: nmod\n",
      "id: 5\tword: ,\thead id: 10\thead: need\tdeprel: punct\n",
      "id: 6\tword: with\thead id: 8\thead: support\tdeprel: case\n",
      "id: 7\tword: our\thead id: 8\thead: support\tdeprel: nmod:poss\n",
      "id: 8\tword: support\thead id: 10\thead: need\tdeprel: obl\n",
      "id: 9\tword: ,\thead id: 10\thead: need\tdeprel: punct\n",
      "id: 10\tword: need\thead id: 0\thead: root\tdeprel: root\n",
      "id: 11\tword: to\thead id: 12\thead: rebuild\tdeprel: mark\n",
      "id: 12\tword: rebuild\thead id: 10\thead: need\tdeprel: xcomp\n",
      "id: 13\tword: your\thead id: 14\thead: country\tdeprel: nmod:poss\n",
      "id: 14\tword: country\thead id: 12\thead: rebuild\tdeprel: obj\n",
      "id: 15\tword: ,\thead id: 17\thead: structures\tdeprel: punct\n",
      "id: 16\tword: your\thead id: 17\thead: structures\tdeprel: nmod:poss\n",
      "id: 17\tword: structures\thead id: 14\thead: country\tdeprel: conj\n",
      "id: 18\tword: ,\thead id: 20\thead: administration\tdeprel: punct\n",
      "id: 19\tword: your\thead id: 20\thead: administration\tdeprel: nmod:poss\n",
      "id: 20\tword: administration\thead id: 14\thead: country\tdeprel: conj\n",
      "id: 21\tword: ,\thead id: 23\thead: economy\tdeprel: punct\n",
      "id: 22\tword: your\thead id: 23\thead: economy\tdeprel: nmod:poss\n",
      "id: 23\tword: economy\thead id: 14\thead: country\tdeprel: conj\n",
      "id: 24\tword: to\thead id: 25\thead: increase\tdeprel: mark\n",
      "id: 25\tword: increase\thead id: 12\thead: rebuild\tdeprel: advcl\n",
      "id: 26\tword: the\thead id: 27\thead: competitiveness\tdeprel: det\n",
      "id: 27\tword: competitiveness\thead id: 25\thead: increase\tdeprel: obj\n",
      "id: 28\tword: of\thead id: 29\thead: Greece\tdeprel: case\n",
      "id: 29\tword: Greece\thead id: 27\thead: competitiveness\tdeprel: nmod\n",
      "id: 30\tword: .\thead id: 10\thead: need\tdeprel: punct\n"
     ]
    }
   ],
   "source": [
    "sentence = \"You, in Greece, with our support, need to rebuild your country, your structures, your administration, \\\n",
    "            your economy to increase the competitiveness of Greece.\"\n",
    "\n",
    "doc = nlp(sentence)\n",
    "print(*[f'id: {word.id}\\tword: {word.text}\\thead id: {word.head}\\thead: {sent.words[word.head-1].text if word.head > 0 else \"root\"}\\tdeprel: {word.deprel}' for sent in doc.sentences for word in sent.words], sep='\\n')"
   ]
  },
  {
   "cell_type": "markdown",
   "id": "2b441418-6fb2-40cf-a440-9862caaecda6",
   "metadata": {},
   "source": [
    "need - to - increase"
   ]
  },
  {
   "cell_type": "code",
   "execution_count": 15,
   "id": "d3533a6f-9cd7-4119-a74c-b91aa62fcc54",
   "metadata": {},
   "outputs": [
    {
     "name": "stdout",
     "output_type": "stream",
     "text": [
      "id: 1\tword: And\thead id: 17\thead: area\tdeprel: cc\n",
      "id: 2\tword: the\thead id: 4\thead: hope\tdeprel: det\n",
      "id: 3\tword: best\thead id: 4\thead: hope\tdeprel: amod\n",
      "id: 4\tword: hope\thead id: 17\thead: area\tdeprel: nsubj\n",
      "id: 5\tword: of\thead id: 7\thead: return\tdeprel: case\n",
      "id: 6\tword: a\thead id: 7\thead: return\tdeprel: det\n",
      "id: 7\tword: return\thead id: 4\thead: hope\tdeprel: nmod\n",
      "id: 8\tword: to\thead id: 9\thead: growth\tdeprel: case\n",
      "id: 9\tword: growth\thead id: 7\thead: return\tdeprel: nmod\n",
      "id: 10\tword: and\thead id: 12\thead: creation\tdeprel: cc\n",
      "id: 11\tword: job\thead id: 12\thead: creation\tdeprel: compound\n",
      "id: 12\tword: creation\thead id: 9\thead: growth\tdeprel: conj\n",
      "id: 13\tword: is\thead id: 17\thead: area\tdeprel: cop\n",
      "id: 14\tword: inside\thead id: 17\thead: area\tdeprel: case\n",
      "id: 15\tword: the\thead id: 17\thead: area\tdeprel: det\n",
      "id: 16\tword: euro\thead id: 17\thead: area\tdeprel: amod\n",
      "id: 17\tword: area\thead id: 0\thead: root\tdeprel: root\n",
      "id: 18\tword: .\thead id: 17\thead: area\tdeprel: punct\n"
     ]
    }
   ],
   "source": [
    "sentence = \"And the best hope of a return to growth and job creation is inside the euro area.\"\n",
    "doc = nlp(sentence)\n",
    "print(*[f'id: {word.id}\\tword: {word.text}\\thead id: {word.head}\\thead: {sent.words[word.head-1].text if word.head > 0 else \"root\"}\\tdeprel: {word.deprel}' for sent in doc.sentences for word in sent.words], sep='\\n')"
   ]
  },
  {
   "cell_type": "code",
   "execution_count": null,
   "id": "3950774a-0b80-4945-8aa9-d6e1963679eb",
   "metadata": {},
   "outputs": [],
   "source": []
  }
 ],
 "metadata": {
  "kernelspec": {
   "display_name": "python37",
   "language": "python",
   "name": "python37"
  },
  "language_info": {
   "codemirror_mode": {
    "name": "ipython",
    "version": 3
   },
   "file_extension": ".py",
   "mimetype": "text/x-python",
   "name": "python",
   "nbconvert_exporter": "python",
   "pygments_lexer": "ipython3",
   "version": "3.7.3"
  }
 },
 "nbformat": 4,
 "nbformat_minor": 5
}
