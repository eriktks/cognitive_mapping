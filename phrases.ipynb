{
 "cells": [
  {
   "cell_type": "markdown",
   "id": "02b36f46-d6bc-4581-899a-fa8d26fcd390",
   "metadata": {},
   "source": [
    "# Phrases\n",
    "\n",
    "Process the phrases that appear in a relation."
   ]
  },
  {
   "cell_type": "markdown",
   "id": "87745cd5-ba73-4c6e-817c-cf7abe66c4d5",
   "metadata": {},
   "source": [
    "## 1. Preprocess data"
   ]
  },
  {
   "cell_type": "code",
   "execution_count": 1,
   "id": "b307c014-0a0f-44a2-a083-5011c983deae",
   "metadata": {},
   "outputs": [],
   "source": [
    "import copy\n",
    "import json\n",
    "import pandas as pd\n",
    "import re"
   ]
  },
  {
   "cell_type": "code",
   "execution_count": 2,
   "id": "3907cad9-e789-4588-b225-41d745ae4450",
   "metadata": {},
   "outputs": [],
   "source": [
    "def read_data(file_name):\n",
    "    json_data = []\n",
    "    infile = open(file_name, \"r\")\n",
    "    for line in infile:\n",
    "        json_data.append(json.loads(line))\n",
    "    infile.close()"
   ]
  },
  {
   "cell_type": "code",
   "execution_count": 3,
   "id": "f711240e-3b96-4e9c-a21b-71aa96af40dc",
   "metadata": {},
   "outputs": [],
   "source": [
    "def combine_data(json_data):\n",
    "    combined_data = {}\n",
    "    for data in json_data:\n",
    "        key = f\"{data['source_id']} {data['speech_id']} {data['paragraph_id']}\"\n",
    "        if key not in combined_data:\n",
    "            combined_data[key] = copy.deepcopy(data)\n",
    "        else:\n",
    "            if len(data[\"data\"]) != len(combined_data[key][\"data\"]):\n",
    "                print(\"cannot happen\")\n",
    "            for label_data in data[\"label\"]:\n",
    "                if label_data not in combined_data[key][\"label\"]:\n",
    "                    combined_data[key][\"label\"].append(label_data)\n",
    "                    if combined_data[key][\"label\"][-1][1] > len(combined_data[key][\"data\"]):\n",
    "                        combined_data[key][\"label\"][-1][1] = len(combined_data[key][\"data\"])\n",
    "    for key in combined_data:\n",
    "        for label_data in combined_data[key][\"label\"]:\n",
    "            label_data.append(combined_data[key][\"data\"][label_data[0]:label_data[1]])\n",
    "    return combined_data"
   ]
  },
  {
   "cell_type": "code",
   "execution_count": 6,
   "id": "d68826be-6bfa-4e32-82d2-e42fea2e900d",
   "metadata": {},
   "outputs": [],
   "source": [
    "def tokenize(combined_data):\n",
    "    for data_key in combined_data:\n",
    "        paragraph = combined_data[data_key][\"data\"]\n",
    "        tokens = {}\n",
    "        token_id = -1\n",
    "        for i in range(0, len(paragraph)):\n",
    "            if token_id < 0 and paragraph[i] == \" \":\n",
    "                next\n",
    "            elif token_id < 0:\n",
    "                token_id = i\n",
    "                tokens[token_id] = paragraph[i]\n",
    "            elif paragraph[i] == \" \":\n",
    "                token_id = -1\n",
    "            elif re.search(\"[.,?!]\", paragraph[i]):\n",
    "                tokens[i] = paragraph[i]\n",
    "            else:\n",
    "                tokens[token_id] += paragraph[i]\n",
    "        labels = {}\n",
    "        for label_key in tokens:\n",
    "            labels[label_key] = \"O\"\n",
    "        for label in combined_data[data_key][\"label\"]:\n",
    "            if label[2] == 'Content_Relation_Explanation':\n",
    "                first = True\n",
    "                for label_key in labels:\n",
    "                    if label_key >= label[0] and label_key < label[1]:\n",
    "                        if first:\n",
    "                            labels[label_key] = \"B-E\"\n",
    "                            first = False\n",
    "                        else:\n",
    "                            labels[label_key] = \"I-E\"\n",
    "        combined_data[data_key][\"tokens\"] = [ (tokens[label_key], labels[label_key]) for label_key in labels ]\n",
    "    return combined_data"
   ]
  },
  {
   "cell_type": "code",
   "execution_count": 7,
   "id": "21f29991-6b7b-4d6d-966d-1d697cdeb832",
   "metadata": {},
   "outputs": [],
   "source": [
    "json_data = read_data(\"../data/femke.jsonl\")\n",
    "combined_data = combine_data(json_data)\n",
    "combined_data = tokenize(combined_data)"
   ]
  },
  {
   "cell_type": "markdown",
   "id": "b47a3bc7-e53d-4952-a737-e3d369483e2d",
   "metadata": {},
   "source": [
    "## 2. Roberta Named Entity Recogntion by Erik Novak\n",
    "\n",
    "Source: https://www.kaggle.com/eriknovak/pytorch-roberta-named-entity-recognition"
   ]
  },
  {
   "cell_type": "code",
   "execution_count": 8,
   "id": "50cf9b5c-a08a-4780-8924-aa491434685f",
   "metadata": {},
   "outputs": [
    {
     "name": "stdout",
     "output_type": "stream",
     "text": [
      "Requirement already satisfied: datasets in /home/erikt/anaconda3/envs/python37/lib/python3.7/site-packages (1.6.2)\n",
      "Requirement already satisfied: importlib-metadata in /home/erikt/anaconda3/envs/python37/lib/python3.7/site-packages (from datasets) (2.1.1)\n",
      "Requirement already satisfied: pyarrow>=1.0.0<4.0.0 in /home/erikt/anaconda3/envs/python37/lib/python3.7/site-packages (from datasets) (4.0.0)\n",
      "Requirement already satisfied: multiprocess in /home/erikt/anaconda3/envs/python37/lib/python3.7/site-packages (from datasets) (0.70.11.1)\n",
      "Requirement already satisfied: pandas in /home/erikt/anaconda3/envs/python37/lib/python3.7/site-packages (from datasets) (0.25.1)\n",
      "Requirement already satisfied: packaging in /home/erikt/anaconda3/envs/python37/lib/python3.7/site-packages (from datasets) (19.2)\n",
      "Requirement already satisfied: dill in /home/erikt/anaconda3/envs/python37/lib/python3.7/site-packages (from datasets) (0.3.3)\n",
      "Requirement already satisfied: xxhash in /home/erikt/anaconda3/envs/python37/lib/python3.7/site-packages (from datasets) (2.0.2)\n",
      "Requirement already satisfied: tqdm<4.50.0,>=4.27 in /home/erikt/anaconda3/envs/python37/lib/python3.7/site-packages (from datasets) (4.49.0)\n",
      "Requirement already satisfied: fsspec in /home/erikt/anaconda3/envs/python37/lib/python3.7/site-packages (from datasets) (0.5.2)\n",
      "Requirement already satisfied: huggingface-hub<0.1.0 in /home/erikt/anaconda3/envs/python37/lib/python3.7/site-packages (from datasets) (0.0.8)\n",
      "Requirement already satisfied: requests>=2.19.0 in /home/erikt/anaconda3/envs/python37/lib/python3.7/site-packages (from datasets) (2.25.1)\n",
      "Requirement already satisfied: numpy>=1.17 in /home/erikt/anaconda3/envs/python37/lib/python3.7/site-packages (from datasets) (1.19.5)\n",
      "Requirement already satisfied: filelock in /home/erikt/anaconda3/envs/python37/lib/python3.7/site-packages (from huggingface-hub<0.1.0->datasets) (3.0.10)\n",
      "Requirement already satisfied: certifi>=2017.4.17 in /home/erikt/anaconda3/envs/python37/lib/python3.7/site-packages (from requests>=2.19.0->datasets) (2020.12.5)\n",
      "Requirement already satisfied: urllib3<1.27,>=1.21.1 in /home/erikt/anaconda3/envs/python37/lib/python3.7/site-packages (from requests>=2.19.0->datasets) (1.26.5)\n",
      "Requirement already satisfied: idna<3,>=2.5 in /home/erikt/anaconda3/envs/python37/lib/python3.7/site-packages (from requests>=2.19.0->datasets) (2.8)\n",
      "Requirement already satisfied: chardet<5,>=3.0.2 in /home/erikt/anaconda3/envs/python37/lib/python3.7/site-packages (from requests>=2.19.0->datasets) (3.0.4)\n",
      "Requirement already satisfied: zipp>=0.5 in /home/erikt/anaconda3/envs/python37/lib/python3.7/site-packages (from importlib-metadata->datasets) (0.6.0)\n",
      "Requirement already satisfied: more-itertools in /home/erikt/anaconda3/envs/python37/lib/python3.7/site-packages (from zipp>=0.5->importlib-metadata->datasets) (7.2.0)\n",
      "Requirement already satisfied: six in /home/erikt/anaconda3/envs/python37/lib/python3.7/site-packages (from packaging->datasets) (1.15.0)\n",
      "Requirement already satisfied: pyparsing>=2.0.2 in /home/erikt/anaconda3/envs/python37/lib/python3.7/site-packages (from packaging->datasets) (2.4.2)\n",
      "Requirement already satisfied: pytz>=2017.2 in /home/erikt/anaconda3/envs/python37/lib/python3.7/site-packages (from pandas->datasets) (2019.3)\n",
      "Requirement already satisfied: python-dateutil>=2.6.1 in /home/erikt/anaconda3/envs/python37/lib/python3.7/site-packages (from pandas->datasets) (2.8.0)\n"
     ]
    }
   ],
   "source": [
    "import sys\n",
    "!{sys.executable} -m pip install datasets"
   ]
  },
  {
   "cell_type": "code",
   "execution_count": 9,
   "id": "3cffe178-f721-44c2-8643-09d58ded85fc",
   "metadata": {},
   "outputs": [],
   "source": [
    "# visualization libraries\n",
    "import matplotlib.pyplot as plt\n",
    "import numpy as np\n",
    "\n",
    "# pytorch libraries\n",
    "import torch # the main pytorch library\n",
    "import torch.nn as nn # the sub-library containing Softmax, Module and other useful functions\n",
    "import torch.optim as optim # the sub-library containing the common optimizers (SGD, Adam, etc.)\n",
    "\n",
    "# huggingface's transformers library\n",
    "from transformers import RobertaForTokenClassification, RobertaTokenizer\n",
    "\n",
    "# huggingface's datasets library\n",
    "from datasets import load_dataset, Dataset, DatasetDict, Features, Value\n",
    "from datasets.features import Sequence, ClassLabel\n",
    "\n",
    "# HACK for transformers kernel: in ~/projects/filterbubble/transformers/venv3/lib/python3.7/site-packages/datasets/load.py replaced line 284: huggingface_hub.hf_api.DatasetInfo by \"\"\n",
    "\n",
    "# the tqdm library used to show the iteration progress\n",
    "import tqdm\n",
    "tqdmn = tqdm.notebook.tqdm"
   ]
  },
  {
   "cell_type": "code",
   "execution_count": 10,
   "id": "b49eb570-ed9e-426f-89f6-d6ac64591f7d",
   "metadata": {},
   "outputs": [],
   "source": [
    "roberta_version = 'roberta-base'\n",
    "tokenizer = RobertaTokenizer.from_pretrained(roberta_version)"
   ]
  },
  {
   "cell_type": "code",
   "execution_count": 11,
   "id": "d83745a3-cbe2-4432-91b7-7567097aa6de",
   "metadata": {},
   "outputs": [],
   "source": [
    "project_data = { 'id': [], 'tokens': [], 'ner_tags': [] }\n",
    "ner_tag_ids = {}\n",
    "for key in combined_data:\n",
    "    tokens = []\n",
    "    ner_tags = []\n",
    "    for i in range(0, len(combined_data[key]['tokens'])):\n",
    "        if combined_data[key]['tokens'][i][1] not in ner_tag_ids:\n",
    "            ner_tag_ids[combined_data[key]['tokens'][i][1]] =  len(ner_tag_ids)\n",
    "        tokens.append(combined_data[key]['tokens'][i][0])\n",
    "        ner_tags.append(ner_tag_ids[combined_data[key]['tokens'][i][1]])\n",
    "    project_data['id'].append(str(len(project_data['id'])))\n",
    "    project_data['tokens'].append(tokens)\n",
    "    project_data['ner_tags'].append(ner_tags)"
   ]
  },
  {
   "cell_type": "code",
   "execution_count": 12,
   "id": "70b5a8cc-2d28-4e09-b764-23eb29c8b4cb",
   "metadata": {},
   "outputs": [],
   "source": [
    "features_id = Value('string')\n",
    "features_tokens = Sequence(Value('string'))\n",
    "features_ner_tags = Sequence(ClassLabel(names=list(ner_tag_ids.keys())))\n",
    "features = Features({\"id\": features_id, \"tokens\": features_tokens, \"ner_tags\": features_ner_tags })"
   ]
  },
  {
   "cell_type": "code",
   "execution_count": 13,
   "id": "ffe40574-da31-4293-82d0-7c25a4117798",
   "metadata": {},
   "outputs": [],
   "source": [
    "project_data_converted = DatasetDict({ \"train\": Dataset.from_dict(project_data, features=features)} )"
   ]
  },
  {
   "cell_type": "code",
   "execution_count": 14,
   "id": "71c09edb-1fc4-4b76-8825-625556fa17b6",
   "metadata": {},
   "outputs": [],
   "source": [
    "num_labels = project_data_converted[\"train\"].features['ner_tags'].feature.num_classes"
   ]
  },
  {
   "cell_type": "code",
   "execution_count": 15,
   "id": "7e3d7cf8-8912-4637-b925-549c77e17785",
   "metadata": {},
   "outputs": [],
   "source": [
    "def add_encodings(example):\n",
    "    encodings = tokenizer(example['tokens'], truncation=True, padding='max_length', is_split_into_words=True)\n",
    "    labels = example['ner_tags'] + [0] * (tokenizer.model_max_length - len(example['ner_tags']))\n",
    "    return { **encodings, 'labels': labels }"
   ]
  },
  {
   "cell_type": "code",
   "execution_count": 16,
   "id": "66a766d4-23ce-49f4-9cfe-dab56a26564e",
   "metadata": {},
   "outputs": [
    {
     "data": {
      "application/vnd.jupyter.widget-view+json": {
       "model_id": "c5283e8896144e4c978617fbaf66a2fc",
       "version_major": 2,
       "version_minor": 0
      },
      "text/plain": [
       "HBox(children=(FloatProgress(value=0.0, max=526.0), HTML(value='')))"
      ]
     },
     "metadata": {},
     "output_type": "display_data"
    },
    {
     "name": "stdout",
     "output_type": "stream",
     "text": [
      "\n"
     ]
    }
   ],
   "source": [
    "project_data_converted = project_data_converted.map(add_encodings)"
   ]
  },
  {
   "cell_type": "code",
   "execution_count": 17,
   "id": "681078d1-2f72-43b9-aeca-cd51f25f359b",
   "metadata": {},
   "outputs": [],
   "source": [
    "project_data_converted.set_format(type='torch', columns=['input_ids', 'attention_mask', 'labels'])"
   ]
  },
  {
   "cell_type": "code",
   "execution_count": 18,
   "id": "f3402bd4-b22b-4f6e-bea0-0b61de8e0ada",
   "metadata": {},
   "outputs": [],
   "source": [
    "labels = project_data_converted['train'].features['ner_tags'].feature\n",
    "label2id = { k: labels.str2int(k) for k in labels.names }\n",
    "id2label = { v: k for k, v in label2id.items() }"
   ]
  },
  {
   "cell_type": "code",
   "execution_count": 19,
   "id": "3ed992d6-7366-4fb0-af27-31a6ab5f6a15",
   "metadata": {},
   "outputs": [
    {
     "name": "stderr",
     "output_type": "stream",
     "text": [
      "Some weights of the model checkpoint at roberta-base were not used when initializing RobertaForTokenClassification: ['lm_head.bias', 'lm_head.dense.weight', 'lm_head.dense.bias', 'lm_head.layer_norm.weight', 'lm_head.layer_norm.bias', 'lm_head.decoder.weight']\n",
      "- This IS expected if you are initializing RobertaForTokenClassification from the checkpoint of a model trained on another task or with another architecture (e.g. initializing a BertForSequenceClassification model from a BertForPreTraining model).\n",
      "- This IS NOT expected if you are initializing RobertaForTokenClassification from the checkpoint of a model that you expect to be exactly identical (initializing a BertForSequenceClassification model from a BertForSequenceClassification model).\n",
      "Some weights of RobertaForTokenClassification were not initialized from the model checkpoint at roberta-base and are newly initialized: ['classifier.weight', 'classifier.bias']\n",
      "You should probably TRAIN this model on a down-stream task to be able to use it for predictions and inference.\n"
     ]
    }
   ],
   "source": [
    "model = RobertaForTokenClassification.from_pretrained(roberta_version, num_labels=num_labels)\n",
    "model.config.id2label = id2label\n",
    "model.config.label2id = label2id"
   ]
  },
  {
   "cell_type": "code",
   "execution_count": 20,
   "id": "8a4cc0bc-7389-4b9e-8458-60707f90f9c3",
   "metadata": {},
   "outputs": [],
   "source": [
    "device = torch.device(\"cuda\" if torch.cuda.is_available() else \"cpu\")"
   ]
  },
  {
   "cell_type": "code",
   "execution_count": 21,
   "id": "f7e29565-c9c1-403f-8724-dea2d1ac4be6",
   "metadata": {},
   "outputs": [],
   "source": [
    "model.train().to(device)\n",
    "optimizer = optim.AdamW(params=model.parameters(), lr=1e-5)"
   ]
  },
  {
   "cell_type": "code",
   "execution_count": 36,
   "id": "19595576-222c-4826-ba1a-c8025f72a71e",
   "metadata": {},
   "outputs": [],
   "source": [
    "n_epochs = 3\n",
    "train_data = torch.utils.data.DataLoader(project_data_converted['train'], batch_size=4)"
   ]
  },
  {
   "cell_type": "code",
   "execution_count": 37,
   "id": "94489e12-fcac-4a58-99b8-eca8a12ff1a7",
   "metadata": {},
   "outputs": [
    {
     "data": {
      "application/vnd.jupyter.widget-view+json": {
       "model_id": "04502f24e8134cedb06b851c3b5cb05b",
       "version_major": 2,
       "version_minor": 0
      },
      "text/plain": [
       "HBox(children=(FloatProgress(value=0.0, max=3.0), HTML(value='')))"
      ]
     },
     "metadata": {},
     "output_type": "display_data"
    },
    {
     "data": {
      "application/vnd.jupyter.widget-view+json": {
       "model_id": "9c6d1104bb4641fcbbb423d164da0e0e",
       "version_major": 2,
       "version_minor": 0
      },
      "text/plain": [
       "HBox(children=(FloatProgress(value=0.0, max=132.0), HTML(value='')))"
      ]
     },
     "metadata": {},
     "output_type": "display_data"
    },
    {
     "name": "stdout",
     "output_type": "stream",
     "text": [
      "\n"
     ]
    },
    {
     "data": {
      "application/vnd.jupyter.widget-view+json": {
       "model_id": "3edb1a19588c4bbb945cc282d3a3730b",
       "version_major": 2,
       "version_minor": 0
      },
      "text/plain": [
       "HBox(children=(FloatProgress(value=0.0, max=132.0), HTML(value='')))"
      ]
     },
     "metadata": {},
     "output_type": "display_data"
    },
    {
     "name": "stdout",
     "output_type": "stream",
     "text": [
      "\n"
     ]
    },
    {
     "data": {
      "application/vnd.jupyter.widget-view+json": {
       "model_id": "aa1f7713010f4aa2843708f127c76d4d",
       "version_major": 2,
       "version_minor": 0
      },
      "text/plain": [
       "HBox(children=(FloatProgress(value=0.0, max=132.0), HTML(value='')))"
      ]
     },
     "metadata": {},
     "output_type": "display_data"
    },
    {
     "name": "stdout",
     "output_type": "stream",
     "text": [
      "\n",
      "\n"
     ]
    }
   ],
   "source": [
    "train_loss = []\n",
    "for epoch in tqdmn(range(n_epochs)):\n",
    "    current_loss = 0\n",
    "    for i, batch in enumerate(tqdmn(train_data)):\n",
    "        batch = { k: v.to(device) for k, v in batch.items() }\n",
    "        outputs = model(**batch)\n",
    "        loss = outputs[0]\n",
    "        loss.backward()\n",
    "        current_loss += loss.item()\n",
    "        if i % 8 == 0 and i > 0:\n",
    "            optimizer.step()\n",
    "            optimizer.zero_grad()\n",
    "            train_loss.append(current_loss / 32)\n",
    "            current_loss = 0\n",
    "    optimizer.step()\n",
    "    optimizer.zero_grad()"
   ]
  },
  {
   "cell_type": "code",
   "execution_count": 38,
   "id": "dbed7128-a980-4189-9f16-1a4c232081a4",
   "metadata": {},
   "outputs": [
    {
     "data": {
      "image/png": "[encoded data removed]",
      "text/plain": [
       "<Figure size 720x288 with 1 Axes>"
      ]
     },
     "metadata": {
      "needs_background": "light"
     },
     "output_type": "display_data"
    }
   ],
   "source": [
    "fig, ax = plt.subplots(figsize=(10, 4))\n",
    "ax.plot(train_loss)\n",
    "ax.set_ylabel('Loss')\n",
    "ax.set_xlabel('Iterations (32 examples)')\n",
    "fig.tight_layout()\n",
    "plt.show()"
   ]
  },
  {
   "cell_type": "code",
   "execution_count": 39,
   "id": "269a63a6-c7e3-460e-9043-4f6ece68626c",
   "metadata": {},
   "outputs": [],
   "source": [
    "model = model.eval()\n",
    "test_data = torch.utils.data.DataLoader(project_data_converted['train'], batch_size=4)"
   ]
  },
  {
   "cell_type": "code",
   "execution_count": 40,
   "id": "fc842306-cc61-402c-aed1-54c65e530545",
   "metadata": {},
   "outputs": [
    {
     "data": {
      "application/vnd.jupyter.widget-view+json": {
       "model_id": "78e74ff334764831924310812ecd8910",
       "version_major": 2,
       "version_minor": 0
      },
      "text/plain": [
       "HBox(children=(FloatProgress(value=0.0, max=132.0), HTML(value='')))"
      ]
     },
     "metadata": {},
     "output_type": "display_data"
    },
    {
     "name": "stdout",
     "output_type": "stream",
     "text": [
      "\n"
     ]
    }
   ],
   "source": [
    "confusion = torch.zeros(num_labels, num_labels)\n",
    "found = 0\n",
    "missed = 0\n",
    "wrong = 0\n",
    "\n",
    "for i, batch in enumerate(tqdmn(test_data)):\n",
    "    with torch.no_grad():\n",
    "        batch = { k: v.to(device) for k, v in batch.items() }\n",
    "        outputs = model(**batch)\n",
    "            \n",
    "    s_lengths = batch['attention_mask'].sum(dim=1)\n",
    "    for idx, length in enumerate(s_lengths):\n",
    "        true_values = batch['labels'][idx][:length]\n",
    "        pred_values = torch.argmax(outputs[1], dim=2)[idx][:length]\n",
    "        for true, pred in zip(true_values, pred_values):\n",
    "            confusion[true.item()][pred.item()] += 1\n",
    "            if true.item() > 0:\n",
    "                if pred.item() > 0:\n",
    "                    found += 1\n",
    "                else: \n",
    "                    missed += 1\n",
    "            elif pred.item() > 0:\n",
    "                wrong += 1"
   ]
  },
  {
   "cell_type": "code",
   "execution_count": 41,
   "id": "fc6c00af-8dd7-4aef-ba58-d227e613d102",
   "metadata": {},
   "outputs": [
    {
     "name": "stdout",
     "output_type": "stream",
     "text": [
      "precision: 0.0; recall: 0.0\n"
     ]
    }
   ],
   "source": [
    "if found + wrong == 0:\n",
    "    precision = 0.0\n",
    "else:\n",
    "    precision = found / (found + wrong)\n",
    "recall = found / (found + missed)\n",
    "\n",
    "print(f\"precision: {precision}; recall: {recall}\")"
   ]
  },
  {
   "cell_type": "code",
   "execution_count": 42,
   "id": "0f1968c6-cb1f-47a0-9c6e-2057803854be",
   "metadata": {},
   "outputs": [],
   "source": [
    "for i in range(num_labels):\n",
    "    confusion[i] = confusion[i] / confusion[i].sum()"
   ]
  },
  {
   "cell_type": "code",
   "execution_count": 43,
   "id": "104842d7-ed8c-46a5-b6f6-3120f66d0d7a",
   "metadata": {},
   "outputs": [
    {
     "data": {
      "image/png": "[encoded data removed]",
      "text/plain": [
       "<Figure size 720x720 with 1 Axes>"
      ]
     },
     "metadata": {
      "needs_background": "light"
     },
     "output_type": "display_data"
    }
   ],
   "source": [
    "fig, ax = plt.subplots(figsize=(10, 10))\n",
    "ax.matshow(confusion.numpy())\n",
    "\n",
    "labels = list(label2id.keys())\n",
    "ids = np.arange(len(labels))\n",
    "\n",
    "ax.set_ylabel('True Labels', fontsize='x-large')\n",
    "ax.set_xlabel('Pred Labels', fontsize='x-large')\n",
    "\n",
    "ax.set_xticks(ids)\n",
    "ax.set_xticklabels(labels)\n",
    "\n",
    "ax.set_yticks(ids)\n",
    "ax.set_yticklabels(labels)\n",
    "\n",
    "fig.tight_layout()\n",
    "plt.show()"
   ]
  },
  {
   "cell_type": "code",
   "execution_count": 44,
   "id": "51ca3de7-b29a-41b0-91fb-fc65961c7472",
   "metadata": {},
   "outputs": [
    {
     "data": {
      "text/plain": [
       "array([[1., 0., 0.],\n",
       "       [1., 0., 0.],\n",
       "       [1., 0., 0.]], dtype=float32)"
      ]
     },
     "execution_count": 44,
     "metadata": {},
     "output_type": "execute_result"
    }
   ],
   "source": [
    "confusion.numpy()"
   ]
  },
  {
   "cell_type": "code",
   "execution_count": null,
   "id": "4cbb1e04-8682-46bb-958c-6097c9c781c0",
   "metadata": {},
   "outputs": [],
   "source": []
  }
 ],
 "metadata": {
  "kernelspec": {
   "display_name": "python37",
   "language": "python",
   "name": "python37"
  },
  "language_info": {
   "codemirror_mode": {
    "name": "ipython",
    "version": 3
   },
   "file_extension": ".py",
   "mimetype": "text/x-python",
   "name": "python",
   "nbconvert_exporter": "python",
   "pygments_lexer": "ipython3",
   "version": "3.7.3"
  }
 },
 "nbformat": 4,
 "nbformat_minor": 5
}
