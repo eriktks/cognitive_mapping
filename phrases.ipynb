{
 "cells": [
  {
   "cell_type": "markdown",
   "id": "02b36f46-d6bc-4581-899a-fa8d26fcd390",
   "metadata": {},
   "source": [
    "# Phrases\n",
    "\n",
    "Process the phrases that appear in a relation."
   ]
  },
  {
   "cell_type": "markdown",
   "id": "87745cd5-ba73-4c6e-817c-cf7abe66c4d5",
   "metadata": {},
   "source": [
    "## 1. Preprocess data"
   ]
  },
  {
   "cell_type": "code",
   "execution_count": 26,
   "id": "b307c014-0a0f-44a2-a083-5011c983deae",
   "metadata": {},
   "outputs": [],
   "source": [
    "import copy\n",
    "import datetime\n",
    "import json\n",
    "import pandas as pd\n",
    "import re"
   ]
  },
  {
   "cell_type": "code",
   "execution_count": 27,
   "id": "3907cad9-e789-4588-b225-41d745ae4450",
   "metadata": {},
   "outputs": [],
   "source": [
    "def read_data(file_name):\n",
    "    json_data = []\n",
    "    infile = open(file_name, \"r\")\n",
    "    for line in infile:\n",
    "        json_data.append(json.loads(line))\n",
    "    infile.close()\n",
    "    \n",
    "    return json_data"
   ]
  },
  {
   "cell_type": "code",
   "execution_count": 28,
   "id": "f711240e-3b96-4e9c-a21b-71aa96af40dc",
   "metadata": {},
   "outputs": [],
   "source": [
    "def remove_keys(data, keys):\n",
    "    for key in keys:\n",
    "        if key in data:\n",
    "            del(data[key])\n",
    "            \n",
    "\n",
    "def combine_data(json_data):\n",
    "    combined_data = {}\n",
    "    for data in json_data:\n",
    "        key = f\"{data['source_id']} {data['speech_id']} {data['paragraph_id']}\"\n",
    "        if key not in combined_data:\n",
    "            combined_data[key] = copy.deepcopy(data)\n",
    "        else:\n",
    "            if data[\"data\"] != combined_data[key][\"data\"]:\n",
    "                print(\"equal paragraphs (key={key}) contain different texts\")\n",
    "            for label_data in data[\"label\"]:\n",
    "                if label_data not in combined_data[key][\"label\"]:\n",
    "                    combined_data[key][\"label\"].append(label_data)\n",
    "                    if combined_data[key][\"label\"][-1][1] > len(combined_data[key][\"data\"]):\n",
    "                        combined_data[key][\"label\"][-1][1] = len(combined_data[key][\"data\"])\n",
    "        remove_keys(combined_data[key], [\"missing concept 1\", \"missing content relation explanation\", \"missing concept 2\"])\n",
    "    for key in combined_data:\n",
    "        for label_data in combined_data[key][\"label\"]:\n",
    "            label_data.append(combined_data[key][\"data\"][label_data[0]:label_data[1]])\n",
    "    return combined_data"
   ]
  },
  {
   "cell_type": "code",
   "execution_count": 36,
   "id": "d68826be-6bfa-4e32-82d2-e42fea2e900d",
   "metadata": {},
   "outputs": [],
   "source": [
    "def tokenize_paragraph(paragraph):\n",
    "    tokens = {}\n",
    "    token_id = -1\n",
    "    for i in range(0, len(paragraph)):\n",
    "        if token_id < 0 and paragraph[i] == \" \":\n",
    "            next\n",
    "        elif token_id < 0:\n",
    "            token_id = i\n",
    "            tokens[token_id] = paragraph[i]\n",
    "        elif paragraph[i] == \" \":\n",
    "            token_id = -1\n",
    "        elif re.search(\"[.,?!]\", paragraph[i]):\n",
    "            tokens[i] = paragraph[i]\n",
    "        else:\n",
    "            tokens[token_id] += paragraph[i]\n",
    "    return tokens\n",
    "\n",
    "\n",
    "def tokenize_data(combined_data):\n",
    "    for data_key in combined_data:\n",
    "        paragraph = combined_data[data_key][\"data\"]\n",
    "        token = tokenize_paragraph(paragraph)\n",
    "        labels = {}\n",
    "        for label_key in tokens:\n",
    "            labels[label_key] = \"O\"\n",
    "        for label in combined_data[data_key][\"label\"]:\n",
    "            if label[2] == 'Content_Concept_1' or label[2] == 'Content_Concept_2':\n",
    "                for label_key in labels:\n",
    "                    if label_key >= label[0] and label_key < label[1]:\n",
    "                        if labels['label_key'] == \"E\":\n",
    "                            print(\"overwriting label E\")\n",
    "                        labels[label_key] = \"C\"\n",
    "            elif label[2] == 'Content_Relation_Explanation':\n",
    "                for label_key in labels:\n",
    "                    if label_key >= label[0] and label_key < label[1]:\n",
    "                        if labels['label_key'] == \"C\":\n",
    "                            print(\"overwriting label C\")\n",
    "                        labels[label_key] = \"E\"\n",
    "        combined_data[data_key][\"tokens\"] = [ (tokens[label_key], labels[label_key]) for label_key in labels ]\n",
    "    return combined_data"
   ]
  },
  {
   "cell_type": "code",
   "execution_count": 37,
   "id": "21f29991-6b7b-4d6d-966d-1d697cdeb832",
   "metadata": {},
   "outputs": [],
   "source": [
    "json_data = read_data(\"../data/femke-20211012.jsonl\")\n",
    "combined_data = combine_data(json_data)\n",
    "combined_data = tokenize(combined_data)"
   ]
  },
  {
   "cell_type": "code",
   "execution_count": 31,
   "id": "18046a5d-d01f-46f8-b1b3-ad9d58f2896a",
   "metadata": {},
   "outputs": [
    {
     "name": "stdout",
     "output_type": "stream",
     "text": [
      "data sizes: json_data: 1867; combined_data: 526\n"
     ]
    }
   ],
   "source": [
    "print(f\"data sizes: json_data: {len(json_data)}; combined_data: {len(combined_data)}\")"
   ]
  },
  {
   "cell_type": "code",
   "execution_count": 32,
   "id": "2c924ddd-eb58-4134-852e-e47efe477541",
   "metadata": {},
   "outputs": [
    {
     "data": {
      "text/plain": [
       "{'id': 6660,\n",
       " 'data': 'Today I want to send a clear message to the people of this great country, of Greece. I know that many people feel without hope. Many are making extremely difficult sacrifices. And many people ask why they should do more. I understand those concerns. And I agree that some of the efforts seem unfair. But I ask people to recognise the other alternatives which will be much more difficult for Greece and will affect even more the most vulnerable in the Greek society. So this is why it is the right approach to ask Greece to reform, to increase its competitiveness to have a viable future, irrespective of the crisis. You, in Greece, with our support, need to rebuild your country, your structures, your administration, your economy to increase the competitiveness of Greece. And the best hope of a return to growth and job creation is inside the euro area. Staying in the euro is the best chance to avoid worse hardship and difficulties to the Greek people, namely for those in a more vulnerable position',\n",
       " 'label': [[734, 772, 'Content_Concept_2'],\n",
       "  [731, 733, 'Content_Relation_Explanation'],\n",
       "  [616, 678, 'Content_Concept_1']],\n",
       " 'source_id': 3487,\n",
       " 'speech_id': 536,\n",
       " 'paragraph_id': '1-2',\n",
       " 'missing concept 1': 'you in Greece, with out support, you need to rebuild your country'}"
      ]
     },
     "execution_count": 32,
     "metadata": {},
     "output_type": "execute_result"
    }
   ],
   "source": [
    "json_data[0]"
   ]
  },
  {
   "cell_type": "code",
   "execution_count": 33,
   "id": "325d29a0-7561-487c-a8f6-93e5907d7be8",
   "metadata": {},
   "outputs": [
    {
     "data": {
      "text/plain": [
       "{'id': 6660,\n",
       " 'data': 'Today I want to send a clear message to the people of this great country, of Greece. I know that many people feel without hope. Many are making extremely difficult sacrifices. And many people ask why they should do more. I understand those concerns. And I agree that some of the efforts seem unfair. But I ask people to recognise the other alternatives which will be much more difficult for Greece and will affect even more the most vulnerable in the Greek society. So this is why it is the right approach to ask Greece to reform, to increase its competitiveness to have a viable future, irrespective of the crisis. You, in Greece, with our support, need to rebuild your country, your structures, your administration, your economy to increase the competitiveness of Greece. And the best hope of a return to growth and job creation is inside the euro area. Staying in the euro is the best chance to avoid worse hardship and difficulties to the Greek people, namely for those in a more vulnerable position',\n",
       " 'label': [[734,\n",
       "   772,\n",
       "   'Content_Concept_2',\n",
       "   'increase the competitiveness of Greece'],\n",
       "  [731, 733, 'Content_Relation_Explanation', 'to'],\n",
       "  [616,\n",
       "   678,\n",
       "   'Content_Concept_1',\n",
       "   'You, in Greece, with our support, need to rebuild your country'],\n",
       "  [616,\n",
       "   665,\n",
       "   'Content_Concept_1',\n",
       "   'You, in Greece, with our support, need to rebuild'],\n",
       "  [680, 695, 'Content_Concept_1', 'your structures'],\n",
       "  [697, 716, 'Content_Concept_1', 'your administration'],\n",
       "  [718, 730, 'Content_Concept_1', 'your economy'],\n",
       "  [774, 796, 'Content_Relation_Explanation', 'And the best hope of a'],\n",
       "  [797, 813, 'Content_Concept_2', 'return to growth'],\n",
       "  [797, 806, 'Content_Concept_2', 'return to'],\n",
       "  [818, 830, 'Content_Concept_2', 'job creation']],\n",
       " 'source_id': 3487,\n",
       " 'speech_id': 536,\n",
       " 'paragraph_id': '1-2',\n",
       " 'tokens': [('Today', 'O'),\n",
       "  ('I', 'O'),\n",
       "  ('want', 'O'),\n",
       "  ('to', 'O'),\n",
       "  ('send', 'O'),\n",
       "  ('a', 'O'),\n",
       "  ('clear', 'O'),\n",
       "  ('message', 'O'),\n",
       "  ('to', 'O'),\n",
       "  ('the', 'O'),\n",
       "  ('people', 'O'),\n",
       "  ('of', 'O'),\n",
       "  ('this', 'O'),\n",
       "  ('great', 'O'),\n",
       "  ('country', 'O'),\n",
       "  (',', 'O'),\n",
       "  ('of', 'O'),\n",
       "  ('Greece', 'O'),\n",
       "  ('.', 'O'),\n",
       "  ('I', 'O'),\n",
       "  ('know', 'O'),\n",
       "  ('that', 'O'),\n",
       "  ('many', 'O'),\n",
       "  ('people', 'O'),\n",
       "  ('feel', 'O'),\n",
       "  ('without', 'O'),\n",
       "  ('hope', 'O'),\n",
       "  ('.', 'O'),\n",
       "  ('Many', 'O'),\n",
       "  ('are', 'O'),\n",
       "  ('making', 'O'),\n",
       "  ('extremely', 'O'),\n",
       "  ('difficult', 'O'),\n",
       "  ('sacrifices', 'O'),\n",
       "  ('.', 'O'),\n",
       "  ('And', 'O'),\n",
       "  ('many', 'O'),\n",
       "  ('people', 'O'),\n",
       "  ('ask', 'O'),\n",
       "  ('why', 'O'),\n",
       "  ('they', 'O'),\n",
       "  ('should', 'O'),\n",
       "  ('do', 'O'),\n",
       "  ('more', 'O'),\n",
       "  ('.', 'O'),\n",
       "  ('I', 'O'),\n",
       "  ('understand', 'O'),\n",
       "  ('those', 'O'),\n",
       "  ('concerns', 'O'),\n",
       "  ('.', 'O'),\n",
       "  ('And', 'O'),\n",
       "  ('I', 'O'),\n",
       "  ('agree', 'O'),\n",
       "  ('that', 'O'),\n",
       "  ('some', 'O'),\n",
       "  ('of', 'O'),\n",
       "  ('the', 'O'),\n",
       "  ('efforts', 'O'),\n",
       "  ('seem', 'O'),\n",
       "  ('unfair', 'O'),\n",
       "  ('.', 'O'),\n",
       "  ('But', 'O'),\n",
       "  ('I', 'O'),\n",
       "  ('ask', 'O'),\n",
       "  ('people', 'O'),\n",
       "  ('to', 'O'),\n",
       "  ('recognise', 'O'),\n",
       "  ('the', 'O'),\n",
       "  ('other', 'O'),\n",
       "  ('alternatives', 'O'),\n",
       "  ('which', 'O'),\n",
       "  ('will', 'O'),\n",
       "  ('be', 'O'),\n",
       "  ('much', 'O'),\n",
       "  ('more', 'O'),\n",
       "  ('difficult', 'O'),\n",
       "  ('for', 'O'),\n",
       "  ('Greece', 'O'),\n",
       "  ('and', 'O'),\n",
       "  ('will', 'O'),\n",
       "  ('affect', 'O'),\n",
       "  ('even', 'O'),\n",
       "  ('more', 'O'),\n",
       "  ('the', 'O'),\n",
       "  ('most', 'O'),\n",
       "  ('vulnerable', 'O'),\n",
       "  ('in', 'O'),\n",
       "  ('the', 'O'),\n",
       "  ('Greek', 'O'),\n",
       "  ('society', 'O'),\n",
       "  ('.', 'O'),\n",
       "  ('So', 'O'),\n",
       "  ('this', 'O'),\n",
       "  ('is', 'O'),\n",
       "  ('why', 'O'),\n",
       "  ('it', 'O'),\n",
       "  ('is', 'O'),\n",
       "  ('the', 'O'),\n",
       "  ('right', 'O'),\n",
       "  ('approach', 'O'),\n",
       "  ('to', 'O'),\n",
       "  ('ask', 'O'),\n",
       "  ('Greece', 'O'),\n",
       "  ('to', 'O'),\n",
       "  ('reform', 'O'),\n",
       "  (',', 'O'),\n",
       "  ('to', 'O'),\n",
       "  ('increase', 'O'),\n",
       "  ('its', 'O'),\n",
       "  ('competitiveness', 'O'),\n",
       "  ('to', 'O'),\n",
       "  ('have', 'O'),\n",
       "  ('a', 'O'),\n",
       "  ('viable', 'O'),\n",
       "  ('future', 'O'),\n",
       "  (',', 'O'),\n",
       "  ('irrespective', 'O'),\n",
       "  ('of', 'O'),\n",
       "  ('the', 'O'),\n",
       "  ('crisis', 'O'),\n",
       "  ('.', 'O'),\n",
       "  ('You', 'C'),\n",
       "  (',', 'C'),\n",
       "  ('in', 'C'),\n",
       "  ('Greece', 'C'),\n",
       "  (',', 'C'),\n",
       "  ('with', 'C'),\n",
       "  ('our', 'C'),\n",
       "  ('support', 'C'),\n",
       "  (',', 'C'),\n",
       "  ('need', 'C'),\n",
       "  ('to', 'C'),\n",
       "  ('rebuild', 'C'),\n",
       "  ('your', 'C'),\n",
       "  ('country', 'C'),\n",
       "  (',', 'O'),\n",
       "  ('your', 'C'),\n",
       "  ('structures', 'C'),\n",
       "  (',', 'O'),\n",
       "  ('your', 'C'),\n",
       "  ('administration', 'C'),\n",
       "  (',', 'O'),\n",
       "  ('your', 'C'),\n",
       "  ('economy', 'C'),\n",
       "  ('to', 'E'),\n",
       "  ('increase', 'C'),\n",
       "  ('the', 'C'),\n",
       "  ('competitiveness', 'C'),\n",
       "  ('of', 'C'),\n",
       "  ('Greece', 'C'),\n",
       "  ('.', 'O'),\n",
       "  ('And', 'E'),\n",
       "  ('the', 'E'),\n",
       "  ('best', 'E'),\n",
       "  ('hope', 'E'),\n",
       "  ('of', 'E'),\n",
       "  ('a', 'E'),\n",
       "  ('return', 'C'),\n",
       "  ('to', 'C'),\n",
       "  ('growth', 'C'),\n",
       "  ('and', 'O'),\n",
       "  ('job', 'C'),\n",
       "  ('creation', 'C'),\n",
       "  ('is', 'O'),\n",
       "  ('inside', 'O'),\n",
       "  ('the', 'O'),\n",
       "  ('euro', 'O'),\n",
       "  ('area', 'O'),\n",
       "  ('.', 'O'),\n",
       "  ('Staying', 'O'),\n",
       "  ('in', 'O'),\n",
       "  ('the', 'O'),\n",
       "  ('euro', 'O'),\n",
       "  ('is', 'O'),\n",
       "  ('the', 'O'),\n",
       "  ('best', 'O'),\n",
       "  ('chance', 'O'),\n",
       "  ('to', 'O'),\n",
       "  ('avoid', 'O'),\n",
       "  ('worse', 'O'),\n",
       "  ('hardship', 'O'),\n",
       "  ('and', 'O'),\n",
       "  ('difficulties', 'O'),\n",
       "  ('to', 'O'),\n",
       "  ('the', 'O'),\n",
       "  ('Greek', 'O'),\n",
       "  ('people', 'O'),\n",
       "  (',', 'O'),\n",
       "  ('namely', 'O'),\n",
       "  ('for', 'O'),\n",
       "  ('those', 'O'),\n",
       "  ('in', 'O'),\n",
       "  ('a', 'O'),\n",
       "  ('more', 'O'),\n",
       "  ('vulnerable', 'O'),\n",
       "  ('position', 'O')]}"
      ]
     },
     "execution_count": 33,
     "metadata": {},
     "output_type": "execute_result"
    }
   ],
   "source": [
    "combined_data[list(combined_data.keys())[0]]"
   ]
  },
  {
   "cell_type": "markdown",
   "id": "94bc3033-246e-454b-b049-94b99fb7563e",
   "metadata": {},
   "source": [
    "## 2. Visualize data"
   ]
  },
  {
   "cell_type": "code",
   "execution_count": 38,
   "id": "6d08c00e-b699-433b-9736-1872a4904c8e",
   "metadata": {},
   "outputs": [],
   "source": [
    "def make_ids(labels, text):\n",
    "    ids = {}\n",
    "    for label_data in labels:\n",
    "        while text[label_data[0]] in \" .,?!:;\":\n",
    "            label_data[0] += 1\n",
    "        while text[label_data[1]-1] in \" .,?!:;\":\n",
    "            label_data[1] -= 1\n",
    "        if label_data[0] in ids or label_data[1] in ids:\n",
    "            print(f\"overlapping relation parts! {data_item['label']}\")\n",
    "        ids[label_data[0]] = { \"type\": \"start\", \"label\": label_data[2] }\n",
    "        ids[label_data[1]] = { \"type\":\"end\", \"label\": label_data[2] }\n",
    "    return ids "
   ]
  },
  {
   "cell_type": "code",
   "execution_count": 39,
   "id": "e73a0756-7bed-4c36-8d35-0258f09e60a6",
   "metadata": {},
   "outputs": [],
   "source": [
    "def add_colors_to_text(text, ids):\n",
    "    for key in sorted(ids.keys(), reverse=True):\n",
    "        if ids[key][\"type\"] == \"end\":\n",
    "            text = text[:key+1] + \"\\x1b[m\" + text[key+1:]\n",
    "        else:\n",
    "            if ids[key][\"label\"] == \"Content_Concept_1\":\n",
    "                color_code = 1\n",
    "            elif ids[key][\"label\"] == \"Content_Concept_2\":\n",
    "                color_code = 4\n",
    "            elif ids[key][\"label\"] == \"Content_Relation_Explanation\":\n",
    "                color_code = 0\n",
    "            else:\n",
    "                color_code = 7\n",
    "                print(f\"unknown relation part label! ({ids[key]['label']})\")\n",
    "            text = text[:key] + f\"\\x1b[1;3{color_code};47m\" + text[key:]\n",
    "    return text    "
   ]
  },
  {
   "cell_type": "code",
   "execution_count": 40,
   "id": "7a1cbea1-1331-49ae-93c3-b835d8746257",
   "metadata": {},
   "outputs": [],
   "source": [
    "def visualize(json_data, i):\n",
    "    text = json_data[i-1][\"data\"]\n",
    "    ids = make_ids(json_data[i-1]['label'], text)\n",
    "    text = add_colors_to_text(text, ids)\n",
    "    print(text + \"\\n\")"
   ]
  },
  {
   "cell_type": "code",
   "execution_count": 41,
   "id": "58e0575c-81f4-4a2b-80e2-d63336b509db",
   "metadata": {},
   "outputs": [
    {
     "name": "stdout",
     "output_type": "stream",
     "text": [
      "Today I want to send a clear message to the people of this great country, of Greece. I know that many people feel without hope. Many are making extremely difficult sacrifices. And many people ask why they should do more. I understand those concerns. And I agree that some of the efforts seem unfair. But I ask people to recognise the other alternatives which will be much more difficult for Greece and will affect even more the most vulnerable in the Greek society. So this is why it is the right approach to ask Greece to reform, to increase its competitiveness to have a viable future, irrespective of the crisis. \u001b[1;31;47mYou, in Greece, with our support, need to rebuild your country,\u001b[m your structures, your administration, your economy \u001b[1;30;47mto \u001b[m\u001b[1;34;47mincrease the competitiveness of Greece.\u001b[m And the best hope of a return to growth and job creation is inside the euro area. Staying in the euro is the best chance to avoid worse hardship and difficulties to the Greek people, namely for those in a more vulnerable position\n",
      "\n",
      "To conclude, let me say a few words on the euro area more generally. \u001b[1;31;47mWe have taken important, fundamental decisions \u001b[mover the last couple of months \u001b[1;30;47mto safeguard \u001b[m\u001b[1;34;47mthe stability of the euro area,\u001b[m and indeed we are now in the phase of implementation. A number of governments have embarked on a path of reform and fiscal consolidation that was unthinkable only very recently, and they have taken important decisions and I encourage them to keep this determination. These reforms are now being implemented and this effort must continue with credibility, with consistency, with coherence over time. As we said there will not be magic solutions. We need sustained efforts and determination. At the same time, the existing financial backstops are being used as necessary. Most recently, the financial assistance to the recapitalisation of Spanish banks has been agreed and is ready for implementation.\n",
      "\n",
      "Giving to the ECB the ultimate responsibility for supervision of banks in the euro area will decisively contribute to increase \u001b[1;31;47mconfidence between the banks \u001b[m\u001b[1;30;47mand in this way \u001b[m\u001b[1;34;47mincrease the financial stability in the euro area.\u001b[m The euro area governments and the European institutions, including naturally the European Commission and the ECB, will do whatever is necessary to secure the financial stability of the euro area.\n",
      "\n"
     ]
    }
   ],
   "source": [
    "MAX_PARAGRAPHS = 3\n",
    "\n",
    "seen = {}\n",
    "for i in range(1, len(json_data)+1):\n",
    "    data_item = json_data[i - 1]\n",
    "    if str(data_item[\"source_id\"]) + \" \" + str(data_item[\"speech_id\"]) in seen:\n",
    "        continue\n",
    "    visualize(json_data, i)\n",
    "    seen[ str(data_item[\"source_id\"]) + \" \" + str(data_item[\"speech_id\"]) ] = True\n",
    "    if MAX_PARAGRAPHS > 0 and len(seen) >= MAX_PARAGRAPHS:\n",
    "        break"
   ]
  },
  {
   "cell_type": "code",
   "execution_count": 42,
   "id": "682ed38e-6c3c-48dc-a51d-2723e49363ca",
   "metadata": {},
   "outputs": [
    {
     "name": "stdout",
     "output_type": "stream",
     "text": [
      "Before EMU, the current euro area countries followed different economic strategies. Between 1970 and 1999, unit labour costs in Germany, the Netherlands en Austria grew by a factor of 2.5 to 3. During these 28 years prior to EMU, unit labour costs grew by a factor of 12 in Italy, 14 in Spain, 35 in Portugal and 55 in Greece. By regularly \u001b[1;34;47mdevaluing \u001b[mtheir currencies, these countries were able to restore competitiveness. But \u001b[1;30;47mafter \u001b[m\u001b[1;31;47mthe launch of EMU,\u001b[m \u001b[1;34;47mthis policy option was no longer available,\u001b[m of course.\n",
      "\n"
     ]
    }
   ],
   "source": [
    "visualize(json_data, 1397)"
   ]
  },
  {
   "cell_type": "markdown",
   "id": "aebe7f1c-2f9e-42d8-b720-15e145c674e5",
   "metadata": {},
   "source": [
    "## 3. Check for duplicate candidate phrases\n",
    "\n",
    "The phrases in the text were initially labeled automatically, based on lists of relevant phrases per paragraph. The labels were assigned to the first matching phrase found but when the phrase appeared several times in the paragraph, this choice could have been wrong. Therefore this part of the notebook searches for paragraph with multiple matching relevant phrases. These paragraphs were then manually checked and corrected in the Doccano annotation tool.\n",
    "\n",
    "Difficult cases:\n",
    "* 22 (This)\n",
    "* 363 (ex)\n",
    "* 988 (:)\n",
    "* 993 (:)"
   ]
  },
  {
   "cell_type": "code",
   "execution_count": 11,
   "id": "a36ee038-2b8a-4502-9a9a-27e6ff96c175",
   "metadata": {},
   "outputs": [
    {
     "name": "stdout",
     "output_type": "stream",
     "text": [
      "1 to \n",
      "2 to \n",
      "3 to \n",
      "4 to \n",
      "31 markets \n",
      "35 in \n",
      "49 Eurosystem \n",
      "60 the crisis \n",
      "99 to ensure \n",
      "102 growth \n",
      "103 growth \n",
      "104 growth \n",
      "105 growth \n",
      "106 growth \n",
      "107 reforms.\n",
      "108 reforms.\n",
      "109 reforms.\n",
      "112  it \n",
      "123 to make \n",
      "124 to make \n",
      "126 to \n",
      "127 to \n",
      "146 For \n",
      "155 strengthening \n",
      "157 strengthening \n",
      "158 to \n",
      "160 that \n",
      "161 to bring \n",
      "161  We \n",
      "162 to bring \n",
      "163 that \n",
      "176 that \n",
      "177 that \n",
      "182 we are capable of \n",
      "182 taking decisions.\n",
      "209 we need to \n",
      "210 we need to \n",
      "211 we need to \n",
      "218 Member States \n",
      "219 Member States \n",
      "246 to \n",
      "247 requires \n",
      "247 Peace \n",
      "248 requires \n",
      "249 requires \n",
      "249 Peace \n",
      "250 requires \n",
      "251 requires \n",
      "252 requires \n",
      "278 crisis \n",
      "279 crisis \n",
      "289 monetary policy.\n",
      "290 monetary policy.\n",
      "291 monetary policy.\n",
      "306 banks \n",
      "307 through \n",
      "308 monetary policy \n",
      "313 monetary policy \n",
      "315 we need to \n",
      "316 to \n",
      "318 growth \n",
      "319 growth \n",
      "320 growth \n",
      "321  growth \n",
      "322 reduce \n",
      "323 reduce \n",
      "330 based on \n",
      "331 based on \n",
      "333 fair \n",
      "335 no \n",
      "335 wage cuts \n",
      "335 package.\n",
      "336 no \n",
      "336 wage cuts \n",
      "336 package.\n",
      "338 growth \n",
      "341 package \n",
      "351 so \n",
      "352 so \n",
      "354 by \n",
      "355 by \n",
      "359 growth \n",
      "361 to \n",
      "365 to \n",
      "375 Our economies \n",
      "381 wage competitiveness \n",
      "414 is key for \n",
      "415 It is key \n",
      "416 is key for \n",
      "447  high \n",
      "449 of \n",
      "450 of \n",
      "503 monetary \n",
      "539 co-ordination \n",
      "540 to \n",
      "540 co-ordination \n",
      "541  to \n",
      "541 co-ordination \n",
      "542  to \n",
      "542 co-ordination \n",
      "543 will enable us \n",
      "544 will enable us \n",
      "553  2009 recession \n",
      "554 affected \n",
      "560 2009 recession \n",
      "567 This \n",
      "569 expansionary \n",
      "570 expansionary \n",
      "571 expansionary \n",
      "572 expansionary \n",
      "573 expansionary \n",
      "587 Britain \n",
      "588 Britain \n",
      "593 to \n",
      "594 to \n",
      "610  to b\n",
      "628 to \n",
      "629 to \n",
      "629 realistic,\n",
      "630 to \n",
      "631 to \n",
      "631 structural reforms \n",
      "632 to \n",
      "634 realistic,\n",
      "636 structural reforms \n",
      "638 reforms \n",
      "640 reforms \n",
      "652 To \n",
      "653 To \n",
      "662 through \n",
      "682 through \n",
      "683 through \n",
      "700 by \n",
      "701 by \n",
      "702 by \n",
      "704  euro area \n",
      "711 rules \n",
      "712 rules \n",
      "726 encourage \n",
      "734 risk \n",
      "745 Stability and Growth \n",
      "756 Through \n",
      "757 Through \n",
      "758 Through \n",
      "759 Through \n",
      "760 Through \n",
      "761 Through \n",
      "762 Through \n",
      "763 Through \n",
      "766 single currency,\n",
      "768 single currency,\n",
      "802 will be achieved through \n",
      "803 will be achieved through \n",
      "803 tax \n",
      "809 and \n",
      "810 Normalisation of interest rates \n",
      "832 and not \n",
      "840 in line with \n",
      "842 business \n",
      "843 business \n",
      "855  parent banks \n",
      "862 with \n",
      "864 with \n",
      "866 with \n",
      "911 public trust \n",
      "912 politics.\n",
      "912 public trust \n",
      "913 public trust \n",
      "918 financial \n",
      "938 financial crisis \n",
      "941 euro \n",
      "942 euro \n",
      "945 euro \n",
      "950 lower interest rates \n",
      "952  lower interest rates \n",
      "954 led \n",
      "966 by \n",
      "967 by \n",
      "977 to \n",
      "995 What will become of \n",
      "999 We \n",
      "999 by \n",
      "1006 debt.\n",
      "1009 idleness \n",
      "1010 idleness \n",
      "1011 , \n",
      "1012 Idleness \n",
      "1023 fiscal \n",
      "1023  policy \n",
      "1024  fiscal \n",
      "1027 in \n",
      "1027 discretionary fiscal \n",
      "1028 sound public finances \n",
      "1029 credibility \n",
      "1029 only sound public finances \n",
      "1030 credibility \n",
      "1033 prolongation \n",
      "1034 a prolongation \n",
      "1036 prolongation \n",
      "1049 to \n",
      "1061 as \n",
      "1073 common currency \n",
      "1088 by \n",
      "1089  It \n",
      "1090 if \n",
      "1097 to \n",
      "1103 to \n",
      "1104 to \n",
      "1105 to \n",
      "1106 to \n",
      "1107 to \n",
      "1108 to \n",
      "1109 to \n",
      "1110 to \n",
      "1111 to \n",
      "1126 collateral \n",
      "1126 risk \n",
      "1140 unemployment \n",
      "1143 unemployment \n",
      "1151 As \n",
      "1152 This \n",
      "1156 Transparency \n",
      "1157 accountability \n",
      "1158 Transparency \n",
      "1159 accountability \n",
      "1175 To \n",
      "1176 To \n",
      "1177 To \n",
      "1178 To \n",
      "1189  People \n",
      "1197 to \n",
      "1198 to \n",
      "1199 to \n",
      "1200 to \n",
      "1202 for \n",
      "1203 for \n",
      "1208 for \n",
      "1209 It is what \n",
      "1210 Europe \n",
      "1220 because \n",
      "1222  to \n",
      "1226 thanks to \n",
      "1234 with \n",
      "1235 with \n",
      "1236 with \n",
      "1237 with \n",
      "1244 This \n",
      "1278 Danish \n",
      "1286 that \n",
      "1291 we acted to \n",
      "1291 remove \n",
      "1294 Those fears \n",
      "1295 by \n",
      "1300 We act \n",
      "1301  We act t\n",
      "1319 with \n",
      "1320 with \n",
      "1321 with \n",
      "1322 with \n",
      "1340 moving towards \n",
      "1341 moving towards \n",
      "1371 for \n",
      "1391 the crisis.\n",
      "1392 causes \n",
      "1392 the crisis.\n",
      "1393 causes \n",
      "1393 the crisis.\n",
      "1396 By \n",
      "1400 By \n",
      "1402 current account balances \n",
      "1403 current account balances \n",
      "1405  this w\n",
      "1408 a stable monetary union \n",
      "1413 their \n",
      "1418 Eurobonds \n",
      "1419 Eurobonds \n",
      "1420 they c\n",
      "1421 If \n",
      "1422 If \n",
      "1423 if \n",
      "1435 is \n",
      "1436 unemployment \n",
      "1441 the euro \n",
      "1442 sovereign debt crisis \n",
      "1448 caused \n",
      "1449 caused \n",
      "1453 caused \n",
      "1456 This \n",
      "1462 fiscal policy \n",
      "1474 banking union \n",
      "1475 banking union \n",
      "1476 banking union \n",
      "1481  would \n",
      "1481 For \n",
      "1484 By \n",
      "1488 independence.\n",
      "1491  ECB's unconventional monetary policy \n",
      "1542  policy.\n",
      "1544 policy.\n",
      "1545 of \n",
      "1547 policy.\n",
      "1549 price stability.\n",
      "1549 success \n",
      "1559 the crisis \n",
      "1581 when \n",
      "1583 Recent developments within EMU \n",
      "1584 recent developments within EMU \n",
      "1596 currency \n",
      "1599 dialogue \n",
      "1600 dialogue \n",
      "1601 dialogue \n",
      "1632 to \n",
      "1642 does not \n",
      "1643  it \n",
      "1643 does not \n",
      "1645  that.\n",
      "1647 to \n",
      "1649 to \n",
      "1670 to \n",
      "1696 structural reforms \n",
      "1697 structural reforms \n",
      "1701 structural reforms \n",
      "1702 structural reforms \n",
      "1711 financial stability.\n",
      "1720 to \n",
      "1725 to \n",
      "1726 to \n",
      "1727 structural reforms \n",
      "1727 growth.\n",
      "1728 growth.\n",
      "1729 growth.\n",
      "1742 to \n",
      "1746 to \n",
      "1755  investment.\n",
      "1756 Because \n",
      "1775 financial crisis \n",
      "1778 euro \n",
      "1779 euro \n",
      "1779 euro \n",
      "1782 euro \n",
      "1787 lower interest rates \n",
      "1789  lower interest rates \n",
      "1791 led \n",
      "1803 by \n",
      "1804 by \n",
      "1820 to \n",
      "1850 at \n",
      "1850 European \n",
      "1854 would be \n",
      "1855 on \n",
      "1856  on \n",
      "1857  it \n",
      "1858  it \n",
      "1859 if \n",
      "1860 You've got to \n",
      "1860 succeed \n",
      "1861 You've got to \n",
      "1861 succeed \n",
      "1862 You've got to \n",
      "1862 succeed \n",
      "1863 succeed \n"
     ]
    }
   ],
   "source": [
    "counter = 0\n",
    "for data_item in json_data:\n",
    "    counter += 1\n",
    "    text = data_item[\"data\"]\n",
    "    for label_data in data_item['label']:\n",
    "        phrase = text[label_data[0]:label_data[1]+1]\n",
    "        for i in range(0, len(text)-len(phrase)):\n",
    "            if text[i:i+len(phrase)].lower() == phrase.lower() and i != label_data[0]:\n",
    "                print(counter, phrase)\n",
    "                break"
   ]
  },
  {
   "cell_type": "markdown",
   "id": "4ec5244e-0302-43eb-8269-ebaa448f37b4",
   "metadata": {},
   "source": [
    "## 4. Find relations within one sentence\n",
    "\n",
    "We want to use only local relations (within a single sentence) for training to make the rate of out-of-relation words smaller."
   ]
  },
  {
   "cell_type": "code",
   "execution_count": 43,
   "id": "810b97b7-e54d-4772-921a-1c1e0bff610f",
   "metadata": {},
   "outputs": [],
   "source": [
    "def sort_labels(labels):\n",
    "    was_sorted = True\n",
    "    for i in range(0, len(labels)-1):\n",
    "        if labels[i][0] > labels[i+1][0]:\n",
    "            labels[i], labels[i+1] = labels[i+1], labels[i]\n",
    "            was_sorted = False\n",
    "    if was_sorted: \n",
    "        return labels\n",
    "    else:\n",
    "        return sort_labels(labels)"
   ]
  },
  {
   "cell_type": "markdown",
   "id": "90e04635-7bdf-412c-810c-14da412d122a",
   "metadata": {},
   "source": [
    "This function checks for overlapping labels in the paragraphs (characters being assignedto more than one phrase). The overlapping phrases were manually resolved on 20211012, so no overlapping phrases should be found in the data."
   ]
  },
  {
   "cell_type": "code",
   "execution_count": 44,
   "id": "afd51715-705f-4458-893d-9c504ba20a7b",
   "metadata": {},
   "outputs": [
    {
     "name": "stdout",
     "output_type": "stream",
     "text": [
      "no overlapping labels found\n"
     ]
    }
   ],
   "source": [
    "def find_overlapping_labels(json_data):\n",
    "    overlapping_labels_found = 0\n",
    "    for j in range(0, len(json_data)):\n",
    "        data_item = json_data[j]\n",
    "        labels = sort_labels(data_item['label'])\n",
    "        for i in range(0,len(labels)-1):\n",
    "            if labels[i][1] > labels[i+1][0]:\n",
    "                print(f\"overlapping labels in item {j+1}\")\n",
    "                overlapping_labels_found += 1\n",
    "    if overlapping_labels_found == 0:\n",
    "        print(\"no overlapping labels found\")\n",
    "                \n",
    "find_overlapping_labels(json_data)"
   ]
  },
  {
   "cell_type": "code",
   "execution_count": 45,
   "id": "a01102fc-f6bc-4989-8440-7b4e9be2123c",
   "metadata": {},
   "outputs": [],
   "source": [
    "SENTENCE_BOUNDARY = '[!?.]'\n",
    "\n",
    "def get_sentence_boundaries(text, sorted_labels):\n",
    "    start = sorted_labels[0][0]\n",
    "    while start-2 >= 0 and not re.search(SENTENCE_BOUNDARY, json_data[j]['data'][start-2]):\n",
    "        start -= 1\n",
    "    end = sorted_labels[-1][1]\n",
    "    while end-1 < len(json_data[j][\"data\"]) and not re.search(SENTENCE_BOUNDARY, json_data[j]['data'][end-1]):\n",
    "        end += 1\n",
    "    return(start, end)"
   ]
  },
  {
   "cell_type": "code",
   "execution_count": 46,
   "id": "b4562e21-d96a-4901-b6e3-3ee8be10c36e",
   "metadata": {},
   "outputs": [
    {
     "name": "stdout",
     "output_type": "stream",
     "text": [
      "found: 1138\n"
     ]
    }
   ],
   "source": [
    "one_sentence_data = []\n",
    "for j in range(0, len(json_data)):\n",
    "    sorted_labels = sort_labels(json_data[j][\"label\"])\n",
    "    if len(set([x[2] for x in sorted_labels])) < 3:\n",
    "        continue\n",
    "    relation_in_one_sentence = True\n",
    "    for i in range(sorted_labels[0][0], sorted_labels[-1][1]):\n",
    "        if re.search(SENTENCE_BOUNDARY, json_data[j]['data'][i]):\n",
    "            relation_in_one_sentence = False\n",
    "            break\n",
    "    if relation_in_one_sentence:\n",
    "        start, end = get_sentence_boundaries(json_data[j][\"data\"], sorted_labels)\n",
    "        data_copy = copy.deepcopy(json_data[j])\n",
    "        data_copy[\"data\"] = json_data[j][\"data\"][start:end]\n",
    "        for label in data_copy[\"label\"]:\n",
    "            label[0] -= start\n",
    "            label[1] -= start\n",
    "        one_sentence_data.append(data_copy)\n",
    "       \n",
    "print(f\"found: {len(one_sentence_data)}\")"
   ]
  },
  {
   "cell_type": "code",
   "execution_count": 47,
   "id": "9218553d-8b92-4236-b9a2-5b43c9ab2473",
   "metadata": {},
   "outputs": [
    {
     "name": "stdout",
     "output_type": "stream",
     "text": [
      "\u001b[1;31;47mYou, in Greece, with our support, need to rebuild your country,\u001b[m your structures, your administration, your economy \u001b[1;30;47mto \u001b[m\u001b[1;34;47mincrease the competitiveness of Greece.\u001b[m\n",
      "\n"
     ]
    }
   ],
   "source": [
    "visualize(one_sentence_data, 1)"
   ]
  },
  {
   "cell_type": "code",
   "execution_count": 48,
   "id": "5e7d4eb2-02d7-4d28-a8b1-b9114bcbd1c8",
   "metadata": {},
   "outputs": [],
   "source": [
    "combined_data_all = tokenize({i: one_sentence_data[i] for i in range(0, len(one_sentence_data))})"
   ]
  },
  {
   "cell_type": "code",
   "execution_count": 49,
   "id": "2308ec3c-d58f-4987-85cb-412777d4bf6a",
   "metadata": {},
   "outputs": [
    {
     "name": "stdout",
     "output_type": "stream",
     "text": [
      "437\n"
     ]
    }
   ],
   "source": [
    "def remove_duplicate_paragraphs(combined_data_all):\n",
    "    seen = {}\n",
    "    combined_data = {}\n",
    "    for combined_data_key in combined_data_all:\n",
    "        source_key = \" \".join([str(combined_data_all[combined_data_key][\"source_id\"]), \n",
    "                               str(combined_data_all[combined_data_key][\"speech_id\"]), \n",
    "                               str(combined_data_all[combined_data_key][\"paragraph_id\"])])\n",
    "        if source_key not in seen:\n",
    "            combined_data[combined_data_key] = combined_data_all[combined_data_key]\n",
    "        seen[source_key] = True\n",
    "    print(len(combined_data))"
   ]
  },
  {
   "cell_type": "code",
   "execution_count": null,
   "id": "dbaf86a1-2219-4d11-8f77-e55c2c41d059",
   "metadata": {},
   "outputs": [],
   "source": [
    "remove_duplicate_paragraphs(combined_data_all)"
   ]
  },
  {
   "cell_type": "markdown",
   "id": "b47a3bc7-e53d-4952-a737-e3d369483e2d",
   "metadata": {},
   "source": [
    "## 5. Roberta Named Entity Recogntion by Erik Novak\n",
    "\n",
    "Source: https://www.kaggle.com/eriknovak/pytorch-roberta-named-entity-recognition"
   ]
  },
  {
   "cell_type": "code",
   "execution_count": 50,
   "id": "50cf9b5c-a08a-4780-8924-aa491434685f",
   "metadata": {},
   "outputs": [
    {
     "name": "stdout",
     "output_type": "stream",
     "text": [
      "Requirement already satisfied: datasets in /home/erikt/anaconda3/envs/python37/lib/python3.7/site-packages (1.6.2)\n",
      "Requirement already satisfied: requests>=2.19.0 in /home/erikt/anaconda3/envs/python37/lib/python3.7/site-packages (from datasets) (2.25.1)\n",
      "Requirement already satisfied: pandas in /home/erikt/anaconda3/envs/python37/lib/python3.7/site-packages (from datasets) (0.25.1)\n",
      "Requirement already satisfied: multiprocess in /home/erikt/anaconda3/envs/python37/lib/python3.7/site-packages (from datasets) (0.70.11.1)\n",
      "Requirement already satisfied: tqdm<4.50.0,>=4.27 in /home/erikt/anaconda3/envs/python37/lib/python3.7/site-packages (from datasets) (4.49.0)\n",
      "Requirement already satisfied: huggingface-hub<0.1.0 in /home/erikt/anaconda3/envs/python37/lib/python3.7/site-packages (from datasets) (0.0.8)\n",
      "Requirement already satisfied: packaging in /home/erikt/anaconda3/envs/python37/lib/python3.7/site-packages (from datasets) (19.2)\n",
      "Requirement already satisfied: pyarrow>=1.0.0<4.0.0 in /home/erikt/anaconda3/envs/python37/lib/python3.7/site-packages (from datasets) (4.0.0)\n",
      "Requirement already satisfied: dill in /home/erikt/anaconda3/envs/python37/lib/python3.7/site-packages (from datasets) (0.3.3)\n",
      "Requirement already satisfied: fsspec in /home/erikt/anaconda3/envs/python37/lib/python3.7/site-packages (from datasets) (0.5.2)\n",
      "Requirement already satisfied: importlib-metadata in /home/erikt/.local/lib/python3.7/site-packages (from datasets) (4.8.2)\n",
      "Requirement already satisfied: numpy>=1.17 in /home/erikt/anaconda3/envs/python37/lib/python3.7/site-packages (from datasets) (1.19.5)\n",
      "Requirement already satisfied: xxhash in /home/erikt/anaconda3/envs/python37/lib/python3.7/site-packages (from datasets) (2.0.2)\n",
      "Requirement already satisfied: filelock in /home/erikt/anaconda3/envs/python37/lib/python3.7/site-packages (from huggingface-hub<0.1.0->datasets) (3.0.10)\n",
      "Requirement already satisfied: idna<3,>=2.5 in /home/erikt/anaconda3/envs/python37/lib/python3.7/site-packages (from requests>=2.19.0->datasets) (2.8)\n",
      "Requirement already satisfied: chardet<5,>=3.0.2 in /home/erikt/anaconda3/envs/python37/lib/python3.7/site-packages (from requests>=2.19.0->datasets) (3.0.4)\n",
      "Requirement already satisfied: certifi>=2017.4.17 in /home/erikt/anaconda3/envs/python37/lib/python3.7/site-packages (from requests>=2.19.0->datasets) (2020.12.5)\n",
      "Requirement already satisfied: urllib3<1.27,>=1.21.1 in /home/erikt/anaconda3/envs/python37/lib/python3.7/site-packages (from requests>=2.19.0->datasets) (1.26.5)\n",
      "Requirement already satisfied: typing-extensions>=3.6.4 in /home/erikt/anaconda3/envs/python37/lib/python3.7/site-packages (from importlib-metadata->datasets) (3.7.4.3)\n",
      "Requirement already satisfied: zipp>=0.5 in /home/erikt/.local/lib/python3.7/site-packages (from importlib-metadata->datasets) (3.6.0)\n",
      "Requirement already satisfied: six in /home/erikt/anaconda3/envs/python37/lib/python3.7/site-packages (from packaging->datasets) (1.15.0)\n",
      "Requirement already satisfied: pyparsing>=2.0.2 in /home/erikt/anaconda3/envs/python37/lib/python3.7/site-packages (from packaging->datasets) (2.4.2)\n",
      "Requirement already satisfied: python-dateutil>=2.6.1 in /home/erikt/anaconda3/envs/python37/lib/python3.7/site-packages (from pandas->datasets) (2.8.0)\n",
      "Requirement already satisfied: pytz>=2017.2 in /home/erikt/anaconda3/envs/python37/lib/python3.7/site-packages (from pandas->datasets) (2019.3)\n"
     ]
    }
   ],
   "source": [
    "import sys\n",
    "!{sys.executable} -m pip install datasets"
   ]
  },
  {
   "cell_type": "code",
   "execution_count": 51,
   "id": "3cffe178-f721-44c2-8643-09d58ded85fc",
   "metadata": {},
   "outputs": [
    {
     "name": "stderr",
     "output_type": "stream",
     "text": [
      "2021-11-19 16:28:56.491741: W tensorflow/stream_executor/platform/default/dso_loader.cc:64] Could not load dynamic library 'libcudart.so.11.0'; dlerror: libcudart.so.11.0: cannot open shared object file: No such file or directory\n",
      "2021-11-19 16:28:56.491763: I tensorflow/stream_executor/cuda/cudart_stub.cc:29] Ignore above cudart dlerror if you do not have a GPU set up on your machine.\n"
     ]
    }
   ],
   "source": [
    "import matplotlib.pyplot as plt\n",
    "import numpy as np\n",
    "import torch\n",
    "import torch.nn as nn\n",
    "import torch.optim as optim\n",
    "from transformers import RobertaForTokenClassification, RobertaTokenizer\n",
    "from datasets import load_dataset, Dataset, DatasetDict, Features, Value\n",
    "from datasets.features import Sequence, ClassLabel\n",
    "# HACK for transformers kernel: in ~/projects/filterbubble/transformers/venv3/lib/python3.7/site-packages/datasets/load.py replaced line 284: huggingface_hub.hf_api.DatasetInfo by \"\"\n",
    "import tqdm"
   ]
  },
  {
   "cell_type": "code",
   "execution_count": 52,
   "id": "b49eb570-ed9e-426f-89f6-d6ac64591f7d",
   "metadata": {},
   "outputs": [],
   "source": [
    "tqdmn = tqdm.notebook.tqdm\n",
    "roberta_version = 'roberta-base'\n",
    "tokenizer = RobertaTokenizer.from_pretrained(roberta_version)"
   ]
  },
  {
   "cell_type": "code",
   "execution_count": 53,
   "id": "7666cb36-3f38-45b1-9bd1-616bf218b277",
   "metadata": {},
   "outputs": [],
   "source": [
    "def make_project_data(combined_data):\n",
    "    project_data = { 'id': [], 'tokens': [], 'ner_tags': [] }\n",
    "    ner_tag_ids = { 'O': 0 }\n",
    "    for key in combined_data:\n",
    "        tokens = []\n",
    "        ner_tags = [ 0 ]\n",
    "        for i in range(0, len(combined_data[key]['tokens'])):\n",
    "            if combined_data[key]['tokens'][i][1] not in ner_tag_ids:\n",
    "                ner_tag_ids[combined_data[key]['tokens'][i][1]] =  len(ner_tag_ids)\n",
    "            tokens.append(combined_data[key]['tokens'][i][0])\n",
    "            ner_tags.append(ner_tag_ids[combined_data[key]['tokens'][i][1]])\n",
    "        project_data['id'].append(str(len(project_data['id'])))\n",
    "        project_data['tokens'].append(tokens)\n",
    "        project_data['ner_tags'].append(ner_tags)\n",
    "    return project_data, ner_tag_ids"
   ]
  },
  {
   "cell_type": "code",
   "execution_count": 54,
   "id": "5ecff18d-367f-4ade-9c49-3f6d27b5b4ee",
   "metadata": {},
   "outputs": [],
   "source": [
    "def add_encodings(example):\n",
    "    encodings = tokenizer(example['tokens'], truncation=True, padding='max_length', is_split_into_words=True)\n",
    "    labels = example['ner_tags'] + [0] * (tokenizer.model_max_length - len(example['ner_tags']))\n",
    "    return { **encodings, 'labels': labels }"
   ]
  },
  {
   "cell_type": "code",
   "execution_count": 55,
   "id": "f92f5f13-9396-4716-bd64-f277a1e532aa",
   "metadata": {},
   "outputs": [],
   "source": [
    "def convert_project_data(project_data, ner_tag_ids):\n",
    "    features_id = Value('string')\n",
    "    features_tokens = Sequence(Value('string'))\n",
    "    features_ner_tags = Sequence(ClassLabel(names=list(ner_tag_ids.keys())))\n",
    "    features = Features({\"id\": features_id, \"tokens\": features_tokens, \"ner_tags\": features_ner_tags })\n",
    "    project_data_converted = DatasetDict({ \"train\": Dataset.from_dict(project_data, features=features)} )\n",
    "    num_labels = project_data_converted[\"train\"].features['ner_tags'].feature.num_classes\n",
    "    project_data_converted = project_data_converted.map(add_encodings)\n",
    "    return project_data_converted, num_labels"
   ]
  },
  {
   "cell_type": "code",
   "execution_count": 56,
   "id": "d83745a3-cbe2-4432-91b7-7567097aa6de",
   "metadata": {},
   "outputs": [
    {
     "data": {
      "application/vnd.jupyter.widget-view+json": {
       "model_id": "56f3c913a6c945d7a2926108ec8a309f",
       "version_major": 2,
       "version_minor": 0
      },
      "text/plain": [
       "HBox(children=(FloatProgress(value=0.0, max=437.0), HTML(value='')))"
      ]
     },
     "metadata": {},
     "output_type": "display_data"
    },
    {
     "name": "stdout",
     "output_type": "stream",
     "text": [
      "\n"
     ]
    }
   ],
   "source": [
    "project_data, ner_tag_ids = make_project_data(combined_data)\n",
    "project_data_converted, num_labels = convert_project_data(project_data, ner_tag_ids)\n",
    "project_data_converted.set_format(type='torch', columns=['input_ids', 'attention_mask', 'labels'])"
   ]
  },
  {
   "cell_type": "code",
   "execution_count": 57,
   "id": "f3402bd4-b22b-4f6e-bea0-0b61de8e0ada",
   "metadata": {},
   "outputs": [],
   "source": [
    "labels = project_data_converted['train'].features['ner_tags'].feature\n",
    "label2id = { k: labels.str2int(k) for k in labels.names }\n",
    "id2label = { v: k for k, v in label2id.items() }"
   ]
  },
  {
   "cell_type": "code",
   "execution_count": 61,
   "id": "3ed992d6-7366-4fb0-af27-31a6ab5f6a15",
   "metadata": {},
   "outputs": [
    {
     "name": "stderr",
     "output_type": "stream",
     "text": [
      "Some weights of the model checkpoint at roberta-base were not used when initializing RobertaForTokenClassification: ['lm_head.bias', 'lm_head.dense.weight', 'lm_head.dense.bias', 'lm_head.layer_norm.weight', 'lm_head.layer_norm.bias', 'lm_head.decoder.weight']\n",
      "- This IS expected if you are initializing RobertaForTokenClassification from the checkpoint of a model trained on another task or with another architecture (e.g. initializing a BertForSequenceClassification model from a BertForPreTraining model).\n",
      "- This IS NOT expected if you are initializing RobertaForTokenClassification from the checkpoint of a model that you expect to be exactly identical (initializing a BertForSequenceClassification model from a BertForSequenceClassification model).\n",
      "Some weights of RobertaForTokenClassification were not initialized from the model checkpoint at roberta-base and are newly initialized: ['classifier.weight', 'classifier.bias']\n",
      "You should probably TRAIN this model on a down-stream task to be able to use it for predictions and inference.\n"
     ]
    }
   ],
   "source": [
    "model = RobertaForTokenClassification.from_pretrained(roberta_version, num_labels=num_labels)\n",
    "model.config.id2label = id2label\n",
    "model.config.label2id = label2id\n",
    "device = torch.device(\"cuda\" if torch.cuda.is_available() else \"cpu\")\n",
    "model.train().to(device)\n",
    "optimizer = optim.AdamW(params=model.parameters(), lr=1e-5)\n",
    "n_epochs = 2\n",
    "train_data = torch.utils.data.DataLoader(project_data_converted['train'], batch_size=4)"
   ]
  },
  {
   "cell_type": "code",
   "execution_count": 59,
   "id": "94489e12-fcac-4a58-99b8-eca8a12ff1a7",
   "metadata": {},
   "outputs": [],
   "source": [
    "def train(train_data, model, device, optimizer, n_epochs):\n",
    "    train_loss = []\n",
    "    today = datetime.date.today().strftime(\"%Y%m%d\")\n",
    "    for epoch in tqdmn(range(n_epochs)):\n",
    "        current_loss = 0\n",
    "        for i, batch in enumerate(tqdmn(train_data)):\n",
    "            batch = { k: v.to(device) for k, v in batch.items() }\n",
    "            outputs = model(**batch)\n",
    "            loss = outputs[0]\n",
    "            loss.backward()\n",
    "            current_loss += loss.item()\n",
    "            if i % 8 == 0 and i > 0:\n",
    "                optimizer.step()\n",
    "                optimizer.zero_grad()\n",
    "                train_loss.append(current_loss / 32)\n",
    "                current_loss = 0\n",
    "        optimizer.step()\n",
    "        optimizer.zero_grad()\n",
    "        model.save_pretrained(f\"models/{today}_{epoch}\")\n",
    "    return train_loss"
   ]
  },
  {
   "cell_type": "code",
   "execution_count": 62,
   "id": "8be668b0-ea6a-4deb-91cc-e223fe0b24ec",
   "metadata": {},
   "outputs": [
    {
     "data": {
      "application/vnd.jupyter.widget-view+json": {
       "model_id": "708c973ddccf43d8af0199f0d03a60b6",
       "version_major": 2,
       "version_minor": 0
      },
      "text/plain": [
       "HBox(children=(FloatProgress(value=0.0, max=2.0), HTML(value='')))"
      ]
     },
     "metadata": {},
     "output_type": "display_data"
    },
    {
     "data": {
      "application/vnd.jupyter.widget-view+json": {
       "model_id": "2601ec1699d9464b91e3629a2a0dc7ab",
       "version_major": 2,
       "version_minor": 0
      },
      "text/plain": [
       "HBox(children=(FloatProgress(value=0.0, max=110.0), HTML(value='')))"
      ]
     },
     "metadata": {},
     "output_type": "display_data"
    },
    {
     "name": "stdout",
     "output_type": "stream",
     "text": [
      "\n"
     ]
    },
    {
     "data": {
      "application/vnd.jupyter.widget-view+json": {
       "model_id": "47cba43eeef64bd6bf082e96898ff38c",
       "version_major": 2,
       "version_minor": 0
      },
      "text/plain": [
       "HBox(children=(FloatProgress(value=0.0, max=110.0), HTML(value='')))"
      ]
     },
     "metadata": {},
     "output_type": "display_data"
    },
    {
     "name": "stdout",
     "output_type": "stream",
     "text": [
      "\n",
      "\n"
     ]
    }
   ],
   "source": [
    "train_loss = train(train_data, model, device, optimizer, n_epochs)"
   ]
  },
  {
   "cell_type": "code",
   "execution_count": 63,
   "id": "dbed7128-a980-4189-9f16-1a4c232081a4",
   "metadata": {},
   "outputs": [
    {
     "data": {
      "image/png": "[encoded data removed]",
      "text/plain": [
       "<Figure size 720x288 with 1 Axes>"
      ]
     },
     "metadata": {
      "needs_background": "light"
     },
     "output_type": "display_data"
    }
   ],
   "source": [
    "fig, ax = plt.subplots(figsize=(10, 4))\n",
    "ax.plot(train_loss)\n",
    "ax.set_ylabel('Loss')\n",
    "ax.set_xlabel(f'Iterations ({n_epochs}*{len(combined_data)}/32 = {n_epochs*int(len(combined_data)/32)})')\n",
    "fig.tight_layout()\n",
    "plt.show()"
   ]
  },
  {
   "cell_type": "code",
   "execution_count": 64,
   "id": "269a63a6-c7e3-460e-9043-4f6ece68626c",
   "metadata": {},
   "outputs": [],
   "source": [
    "model = model.eval()\n",
    "test_data = torch.utils.data.DataLoader(project_data_converted['train'], batch_size=4)"
   ]
  },
  {
   "cell_type": "code",
   "execution_count": 65,
   "id": "fc842306-cc61-402c-aed1-54c65e530545",
   "metadata": {},
   "outputs": [],
   "source": [
    "def validate(test_data, model, device, num_labels):\n",
    "    validation_results = []\n",
    "    for i, batch in enumerate(tqdmn(test_data)):\n",
    "        with torch.no_grad():\n",
    "            batch = { k: v.to(device) for k, v in batch.items() }\n",
    "            outputs = model(**batch)\n",
    "        s_lengths = batch['attention_mask'].sum(dim=1)\n",
    "        for idx, length in enumerate(s_lengths):\n",
    "            true_values = batch['labels'][idx][:length]\n",
    "            pred_values = torch.argmax(outputs[1], dim=2)[idx][:length]\n",
    "            for true, pred in zip(true_values, pred_values):\n",
    "                validation_results.append((true.item(), pred.item()))\n",
    "    return validation_results\n",
    "\n",
    "\n",
    "def count_validation_results(validation_results, null_element=0):\n",
    "    confusion = torch.zeros(num_labels, num_labels)\n",
    "    found = 0\n",
    "    missed = 0\n",
    "    wrong = 0\n",
    "    for true, pred in validation_results:\n",
    "        confusion[true][pred] += 1\n",
    "        if true != null_element:\n",
    "            if pred == true:\n",
    "                found += 1\n",
    "            else: \n",
    "                missed += 1\n",
    "        elif pred != null_element:\n",
    "            wrong += 1\n",
    "    return confusion, found, missed, wrong"
   ]
  },
  {
   "cell_type": "code",
   "execution_count": 66,
   "id": "ebd1d710-a7e2-4c9e-a608-5e7e51f60d9e",
   "metadata": {},
   "outputs": [],
   "source": [
    "def read_model(directory):\n",
    "    model = RobertaForTokenClassification.from_pretrained(roberta_version, num_labels=num_labels)\n",
    "    model.config.id2label = id2label\n",
    "    model.config.label2id = label2id\n",
    "    model.train().to(device)\n",
    "    model.from_pretrained(directory)\n",
    "    model = model.eval()\n",
    "    return model\n",
    "\n",
    "#model = read_model(\"models/20211025_0\")\n",
    "#confusion, found, missed, wrong = validate(test_data, model, device, num_labels)"
   ]
  },
  {
   "cell_type": "code",
   "execution_count": 67,
   "id": "81b02ae7-d20b-404e-b5c0-1c766cd6e9da",
   "metadata": {},
   "outputs": [
    {
     "data": {
      "application/vnd.jupyter.widget-view+json": {
       "model_id": "d9d68620bdb34bba8e4691216d81ca8e",
       "version_major": 2,
       "version_minor": 0
      },
      "text/plain": [
       "HBox(children=(FloatProgress(value=0.0, max=110.0), HTML(value='')))"
      ]
     },
     "metadata": {},
     "output_type": "display_data"
    },
    {
     "name": "stdout",
     "output_type": "stream",
     "text": [
      "\n"
     ]
    }
   ],
   "source": [
    "validation_results = validate(test_data, model, device, num_labels)"
   ]
  },
  {
   "cell_type": "code",
   "execution_count": 68,
   "id": "ddd7f53b-e687-42e2-8477-eda6ef53e476",
   "metadata": {},
   "outputs": [],
   "source": [
    "confusion, found, missed, wrong = count_validation_results(validation_results, null_element=0)"
   ]
  },
  {
   "cell_type": "code",
   "execution_count": 73,
   "id": "fc6c00af-8dd7-4aef-ba58-d227e613d102",
   "metadata": {},
   "outputs": [
    {
     "name": "stdout",
     "output_type": "stream",
     "text": [
      "precision: 0.698; recall: 0.212; f1: 0.325\n"
     ]
    }
   ],
   "source": [
    "if found + wrong == 0:\n",
    "    precision = 0.0\n",
    "else:\n",
    "    precision = found / (found + wrong)\n",
    "recall = found / (found + missed)\n",
    "f1 = 2 * precision * recall / (precision + recall)\n",
    "\n",
    "print(f\"precision: {precision:.3f}; recall: {recall:.3f}; f1: {f1:.3f}\")"
   ]
  },
  {
   "cell_type": "code",
   "execution_count": 70,
   "id": "0f1968c6-cb1f-47a0-9c6e-2057803854be",
   "metadata": {},
   "outputs": [],
   "source": [
    "for i in range(num_labels):\n",
    "    confusion[i] = confusion[i] / confusion[i].sum()"
   ]
  },
  {
   "cell_type": "code",
   "execution_count": 71,
   "id": "104842d7-ed8c-46a5-b6f6-3120f66d0d7a",
   "metadata": {},
   "outputs": [
    {
     "data": {
      "image/png": "[encoded data removed]",
      "text/plain": [
       "<Figure size 720x720 with 1 Axes>"
      ]
     },
     "metadata": {
      "needs_background": "light"
     },
     "output_type": "display_data"
    }
   ],
   "source": [
    "fig, ax = plt.subplots(figsize=(10, 10))\n",
    "ax.matshow(confusion.numpy())\n",
    "\n",
    "labels = list(label2id.keys())\n",
    "ids = np.arange(len(labels))\n",
    "\n",
    "ax.set_ylabel('True Labels', fontsize='x-large')\n",
    "ax.set_xlabel('Pred Labels', fontsize='x-large')\n",
    "\n",
    "ax.set_xticks(ids)\n",
    "ax.set_xticklabels(labels)\n",
    "\n",
    "ax.set_yticks(ids)\n",
    "ax.set_yticklabels(labels)\n",
    "\n",
    "fig.tight_layout()\n",
    "plt.show()"
   ]
  },
  {
   "cell_type": "code",
   "execution_count": 72,
   "id": "51ca3de7-b29a-41b0-91fb-fc65961c7472",
   "metadata": {},
   "outputs": [
    {
     "data": {
      "text/plain": [
       "array([[0.9519659 , 0.04803409, 0.        ],\n",
       "       [0.7320216 , 0.26797846, 0.        ],\n",
       "       [0.88987565, 0.11012433, 0.        ]], dtype=float32)"
      ]
     },
     "execution_count": 72,
     "metadata": {},
     "output_type": "execute_result"
    }
   ],
   "source": [
    "confusion.numpy()"
   ]
  },
  {
   "cell_type": "markdown",
   "id": "8cbfe4fa-54eb-4343-8b9c-6febc658198f",
   "metadata": {},
   "source": [
    "## 6. Visualize BERT output\n",
    "\n",
    "Data preferences of the machine learning process:\n",
    "\n",
    "* consistency: similar input requires similar output\n",
    "* use local context: it is easier to pay attention to this than to remote context\n",
    "* process linguistic entities: they can be pre-identified with other tools"
   ]
  },
  {
   "cell_type": "code",
   "execution_count": 74,
   "id": "36003faa-a479-4ebb-b56c-11cf0c356630",
   "metadata": {},
   "outputs": [
    {
     "data": {
      "text/plain": [
       "list"
      ]
     },
     "execution_count": 74,
     "metadata": {},
     "output_type": "execute_result"
    }
   ],
   "source": [
    "type(validation_results)"
   ]
  },
  {
   "cell_type": "code",
   "execution_count": 75,
   "id": "b820bedb-c601-4ab4-b937-1176c8538290",
   "metadata": {},
   "outputs": [
    {
     "data": {
      "text/plain": [
       "15721"
      ]
     },
     "execution_count": 75,
     "metadata": {},
     "output_type": "execute_result"
    }
   ],
   "source": [
    "len(validation_results)"
   ]
  },
  {
   "cell_type": "code",
   "execution_count": null,
   "id": "f95d2a37-9108-4734-b3be-1ca74d3f9351",
   "metadata": {},
   "outputs": [],
   "source": [
    "for project_data_id in range(0, len(project_data_converted[\"train\"])):\n",
    "    "
   ]
  },
  {
   "cell_type": "code",
   "execution_count": 76,
   "id": "aa9edff3-363f-4991-80b4-304f431a4119",
   "metadata": {},
   "outputs": [
    {
     "data": {
      "text/plain": [
       "torch.utils.data.dataloader.DataLoader"
      ]
     },
     "execution_count": 76,
     "metadata": {},
     "output_type": "execute_result"
    }
   ],
   "source": [
    "type(test_data)"
   ]
  },
  {
   "cell_type": "code",
   "execution_count": 77,
   "id": "07ae39be-9f73-4b8b-b3e4-e1ef45e50ce5",
   "metadata": {},
   "outputs": [
    {
     "data": {
      "text/plain": [
       "[(0, 0),\n",
       " (1, 0),\n",
       " (1, 0),\n",
       " (1, 0),\n",
       " (1, 0),\n",
       " (1, 0),\n",
       " (1, 0),\n",
       " (1, 0),\n",
       " (1, 0),\n",
       " (1, 0),\n",
       " (1, 0),\n",
       " (1, 0),\n",
       " (1, 1),\n",
       " (1, 0),\n",
       " (1, 0),\n",
       " (0, 0),\n",
       " (0, 0),\n",
       " (0, 0),\n",
       " (0, 0),\n",
       " (0, 0),\n",
       " (0, 0),\n",
       " (0, 0),\n",
       " (0, 0),\n",
       " (0, 0),\n",
       " (2, 0),\n",
       " (1, 0),\n",
       " (1, 0),\n",
       " (1, 0),\n",
       " (1, 0),\n",
       " (1, 0),\n",
       " (0, 0),\n",
       " (0, 0)]"
      ]
     },
     "execution_count": 77,
     "metadata": {},
     "output_type": "execute_result"
    }
   ],
   "source": [
    "validation_results[0:32]"
   ]
  },
  {
   "cell_type": "code",
   "execution_count": 78,
   "id": "fe290144-66e2-438a-91c3-7bfde76c35b1",
   "metadata": {},
   "outputs": [
    {
     "name": "stdout",
     "output_type": "stream",
     "text": [
      "0 You\n",
      "1 ,\n",
      "1 in\n",
      "1 Greece\n",
      "1 ,\n",
      "1 with\n",
      "1 our\n",
      "1 support\n",
      "1 ,\n",
      "1 need\n",
      "1 to\n",
      "1 rebuild\n",
      "1 your\n",
      "1 country\n",
      "1 ,\n",
      "0 your\n",
      "0 structures\n",
      "0 ,\n",
      "0 your\n",
      "0 administration\n",
      "0 ,\n",
      "0 your\n",
      "0 economy\n",
      "0 to\n",
      "2 increase\n",
      "1 the\n",
      "1 competitiveness\n",
      "1 of\n",
      "1 Greece\n",
      "1 .\n"
     ]
    }
   ],
   "source": [
    "for i in range(0, len(project_data[\"tokens\"][0])):\n",
    "    print(project_data[\"ner_tags\"][0][i], project_data[\"tokens\"][0][i])"
   ]
  },
  {
   "cell_type": "code",
   "execution_count": 82,
   "id": "d87d59a3-f827-4c94-a7cb-a03bfaf94fc3",
   "metadata": {},
   "outputs": [
    {
     "data": {
      "text/plain": [
       "{'attention_mask': tensor([1, 1, 1, 1, 1, 1, 1, 1, 1, 1, 1, 1, 1, 1, 1, 1, 1, 1, 1, 1, 1, 1, 1, 1,\n",
       "         1, 1, 1, 1, 1, 1, 1, 1, 0, 0, 0, 0, 0, 0, 0, 0, 0, 0, 0, 0, 0, 0, 0, 0,\n",
       "         0, 0, 0, 0, 0, 0, 0, 0, 0, 0, 0, 0, 0, 0, 0, 0, 0, 0, 0, 0, 0, 0, 0, 0,\n",
       "         0, 0, 0, 0, 0, 0, 0, 0, 0, 0, 0, 0, 0, 0, 0, 0, 0, 0, 0, 0, 0, 0, 0, 0,\n",
       "         0, 0, 0, 0, 0, 0, 0, 0, 0, 0, 0, 0, 0, 0, 0, 0, 0, 0, 0, 0, 0, 0, 0, 0,\n",
       "         0, 0, 0, 0, 0, 0, 0, 0, 0, 0, 0, 0, 0, 0, 0, 0, 0, 0, 0, 0, 0, 0, 0, 0,\n",
       "         0, 0, 0, 0, 0, 0, 0, 0, 0, 0, 0, 0, 0, 0, 0, 0, 0, 0, 0, 0, 0, 0, 0, 0,\n",
       "         0, 0, 0, 0, 0, 0, 0, 0, 0, 0, 0, 0, 0, 0, 0, 0, 0, 0, 0, 0, 0, 0, 0, 0,\n",
       "         0, 0, 0, 0, 0, 0, 0, 0, 0, 0, 0, 0, 0, 0, 0, 0, 0, 0, 0, 0, 0, 0, 0, 0,\n",
       "         0, 0, 0, 0, 0, 0, 0, 0, 0, 0, 0, 0, 0, 0, 0, 0, 0, 0, 0, 0, 0, 0, 0, 0,\n",
       "         0, 0, 0, 0, 0, 0, 0, 0, 0, 0, 0, 0, 0, 0, 0, 0, 0, 0, 0, 0, 0, 0, 0, 0,\n",
       "         0, 0, 0, 0, 0, 0, 0, 0, 0, 0, 0, 0, 0, 0, 0, 0, 0, 0, 0, 0, 0, 0, 0, 0,\n",
       "         0, 0, 0, 0, 0, 0, 0, 0, 0, 0, 0, 0, 0, 0, 0, 0, 0, 0, 0, 0, 0, 0, 0, 0,\n",
       "         0, 0, 0, 0, 0, 0, 0, 0, 0, 0, 0, 0, 0, 0, 0, 0, 0, 0, 0, 0, 0, 0, 0, 0,\n",
       "         0, 0, 0, 0, 0, 0, 0, 0, 0, 0, 0, 0, 0, 0, 0, 0, 0, 0, 0, 0, 0, 0, 0, 0,\n",
       "         0, 0, 0, 0, 0, 0, 0, 0, 0, 0, 0, 0, 0, 0, 0, 0, 0, 0, 0, 0, 0, 0, 0, 0,\n",
       "         0, 0, 0, 0, 0, 0, 0, 0, 0, 0, 0, 0, 0, 0, 0, 0, 0, 0, 0, 0, 0, 0, 0, 0,\n",
       "         0, 0, 0, 0, 0, 0, 0, 0, 0, 0, 0, 0, 0, 0, 0, 0, 0, 0, 0, 0, 0, 0, 0, 0,\n",
       "         0, 0, 0, 0, 0, 0, 0, 0, 0, 0, 0, 0, 0, 0, 0, 0, 0, 0, 0, 0, 0, 0, 0, 0,\n",
       "         0, 0, 0, 0, 0, 0, 0, 0, 0, 0, 0, 0, 0, 0, 0, 0, 0, 0, 0, 0, 0, 0, 0, 0,\n",
       "         0, 0, 0, 0, 0, 0, 0, 0, 0, 0, 0, 0, 0, 0, 0, 0, 0, 0, 0, 0, 0, 0, 0, 0,\n",
       "         0, 0, 0, 0, 0, 0, 0, 0]),\n",
       " 'input_ids': tensor([    0,   370,  2156,    11,  4644,  2156,    19,    84,   323,  2156,\n",
       "           240,     7,  9648,   110,   247,  2156,   110,  6609,  2156,   110,\n",
       "           942,  2156,   110,   866,     7,   712,     5, 17755,     9,  4644,\n",
       "           479,     2,     1,     1,     1,     1,     1,     1,     1,     1,\n",
       "             1,     1,     1,     1,     1,     1,     1,     1,     1,     1,\n",
       "             1,     1,     1,     1,     1,     1,     1,     1,     1,     1,\n",
       "             1,     1,     1,     1,     1,     1,     1,     1,     1,     1,\n",
       "             1,     1,     1,     1,     1,     1,     1,     1,     1,     1,\n",
       "             1,     1,     1,     1,     1,     1,     1,     1,     1,     1,\n",
       "             1,     1,     1,     1,     1,     1,     1,     1,     1,     1,\n",
       "             1,     1,     1,     1,     1,     1,     1,     1,     1,     1,\n",
       "             1,     1,     1,     1,     1,     1,     1,     1,     1,     1,\n",
       "             1,     1,     1,     1,     1,     1,     1,     1,     1,     1,\n",
       "             1,     1,     1,     1,     1,     1,     1,     1,     1,     1,\n",
       "             1,     1,     1,     1,     1,     1,     1,     1,     1,     1,\n",
       "             1,     1,     1,     1,     1,     1,     1,     1,     1,     1,\n",
       "             1,     1,     1,     1,     1,     1,     1,     1,     1,     1,\n",
       "             1,     1,     1,     1,     1,     1,     1,     1,     1,     1,\n",
       "             1,     1,     1,     1,     1,     1,     1,     1,     1,     1,\n",
       "             1,     1,     1,     1,     1,     1,     1,     1,     1,     1,\n",
       "             1,     1,     1,     1,     1,     1,     1,     1,     1,     1,\n",
       "             1,     1,     1,     1,     1,     1,     1,     1,     1,     1,\n",
       "             1,     1,     1,     1,     1,     1,     1,     1,     1,     1,\n",
       "             1,     1,     1,     1,     1,     1,     1,     1,     1,     1,\n",
       "             1,     1,     1,     1,     1,     1,     1,     1,     1,     1,\n",
       "             1,     1,     1,     1,     1,     1,     1,     1,     1,     1,\n",
       "             1,     1,     1,     1,     1,     1,     1,     1,     1,     1,\n",
       "             1,     1,     1,     1,     1,     1,     1,     1,     1,     1,\n",
       "             1,     1,     1,     1,     1,     1,     1,     1,     1,     1,\n",
       "             1,     1,     1,     1,     1,     1,     1,     1,     1,     1,\n",
       "             1,     1,     1,     1,     1,     1,     1,     1,     1,     1,\n",
       "             1,     1,     1,     1,     1,     1,     1,     1,     1,     1,\n",
       "             1,     1,     1,     1,     1,     1,     1,     1,     1,     1,\n",
       "             1,     1,     1,     1,     1,     1,     1,     1,     1,     1,\n",
       "             1,     1,     1,     1,     1,     1,     1,     1,     1,     1,\n",
       "             1,     1,     1,     1,     1,     1,     1,     1,     1,     1,\n",
       "             1,     1,     1,     1,     1,     1,     1,     1,     1,     1,\n",
       "             1,     1,     1,     1,     1,     1,     1,     1,     1,     1,\n",
       "             1,     1,     1,     1,     1,     1,     1,     1,     1,     1,\n",
       "             1,     1,     1,     1,     1,     1,     1,     1,     1,     1,\n",
       "             1,     1,     1,     1,     1,     1,     1,     1,     1,     1,\n",
       "             1,     1,     1,     1,     1,     1,     1,     1,     1,     1,\n",
       "             1,     1,     1,     1,     1,     1,     1,     1,     1,     1,\n",
       "             1,     1,     1,     1,     1,     1,     1,     1,     1,     1,\n",
       "             1,     1,     1,     1,     1,     1,     1,     1,     1,     1,\n",
       "             1,     1,     1,     1,     1,     1,     1,     1,     1,     1,\n",
       "             1,     1,     1,     1,     1,     1,     1,     1,     1,     1,\n",
       "             1,     1,     1,     1,     1,     1,     1,     1,     1,     1,\n",
       "             1,     1,     1,     1,     1,     1,     1,     1,     1,     1,\n",
       "             1,     1,     1,     1,     1,     1,     1,     1,     1,     1,\n",
       "             1,     1,     1,     1,     1,     1,     1,     1,     1,     1,\n",
       "             1,     1]),\n",
       " 'labels': tensor([0, 1, 1, 1, 1, 1, 1, 1, 1, 1, 1, 1, 1, 1, 1, 0, 0, 0, 0, 0, 0, 0, 0, 0,\n",
       "         2, 1, 1, 1, 1, 1, 0, 0, 0, 0, 0, 0, 0, 0, 0, 0, 0, 0, 0, 0, 0, 0, 0, 0,\n",
       "         0, 0, 0, 0, 0, 0, 0, 0, 0, 0, 0, 0, 0, 0, 0, 0, 0, 0, 0, 0, 0, 0, 0, 0,\n",
       "         0, 0, 0, 0, 0, 0, 0, 0, 0, 0, 0, 0, 0, 0, 0, 0, 0, 0, 0, 0, 0, 0, 0, 0,\n",
       "         0, 0, 0, 0, 0, 0, 0, 0, 0, 0, 0, 0, 0, 0, 0, 0, 0, 0, 0, 0, 0, 0, 0, 0,\n",
       "         0, 0, 0, 0, 0, 0, 0, 0, 0, 0, 0, 0, 0, 0, 0, 0, 0, 0, 0, 0, 0, 0, 0, 0,\n",
       "         0, 0, 0, 0, 0, 0, 0, 0, 0, 0, 0, 0, 0, 0, 0, 0, 0, 0, 0, 0, 0, 0, 0, 0,\n",
       "         0, 0, 0, 0, 0, 0, 0, 0, 0, 0, 0, 0, 0, 0, 0, 0, 0, 0, 0, 0, 0, 0, 0, 0,\n",
       "         0, 0, 0, 0, 0, 0, 0, 0, 0, 0, 0, 0, 0, 0, 0, 0, 0, 0, 0, 0, 0, 0, 0, 0,\n",
       "         0, 0, 0, 0, 0, 0, 0, 0, 0, 0, 0, 0, 0, 0, 0, 0, 0, 0, 0, 0, 0, 0, 0, 0,\n",
       "         0, 0, 0, 0, 0, 0, 0, 0, 0, 0, 0, 0, 0, 0, 0, 0, 0, 0, 0, 0, 0, 0, 0, 0,\n",
       "         0, 0, 0, 0, 0, 0, 0, 0, 0, 0, 0, 0, 0, 0, 0, 0, 0, 0, 0, 0, 0, 0, 0, 0,\n",
       "         0, 0, 0, 0, 0, 0, 0, 0, 0, 0, 0, 0, 0, 0, 0, 0, 0, 0, 0, 0, 0, 0, 0, 0,\n",
       "         0, 0, 0, 0, 0, 0, 0, 0, 0, 0, 0, 0, 0, 0, 0, 0, 0, 0, 0, 0, 0, 0, 0, 0,\n",
       "         0, 0, 0, 0, 0, 0, 0, 0, 0, 0, 0, 0, 0, 0, 0, 0, 0, 0, 0, 0, 0, 0, 0, 0,\n",
       "         0, 0, 0, 0, 0, 0, 0, 0, 0, 0, 0, 0, 0, 0, 0, 0, 0, 0, 0, 0, 0, 0, 0, 0,\n",
       "         0, 0, 0, 0, 0, 0, 0, 0, 0, 0, 0, 0, 0, 0, 0, 0, 0, 0, 0, 0, 0, 0, 0, 0,\n",
       "         0, 0, 0, 0, 0, 0, 0, 0, 0, 0, 0, 0, 0, 0, 0, 0, 0, 0, 0, 0, 0, 0, 0, 0,\n",
       "         0, 0, 0, 0, 0, 0, 0, 0, 0, 0, 0, 0, 0, 0, 0, 0, 0, 0, 0, 0, 0, 0, 0, 0,\n",
       "         0, 0, 0, 0, 0, 0, 0, 0, 0, 0, 0, 0, 0, 0, 0, 0, 0, 0, 0, 0, 0, 0, 0, 0,\n",
       "         0, 0, 0, 0, 0, 0, 0, 0, 0, 0, 0, 0, 0, 0, 0, 0, 0, 0, 0, 0, 0, 0, 0, 0,\n",
       "         0, 0, 0, 0, 0, 0, 0, 0])}"
      ]
     },
     "execution_count": 82,
     "metadata": {},
     "output_type": "execute_result"
    }
   ],
   "source": [
    "project_data_converted[\"train\"][0]"
   ]
  },
  {
   "cell_type": "code",
   "execution_count": 89,
   "id": "4950158b-7de3-4b9a-9b60-420c07d7fb0f",
   "metadata": {},
   "outputs": [
    {
     "name": "stdout",
     "output_type": "stream",
     "text": [
      "0 0 <s>\n",
      "0 1 You\n",
      "0 1 ,\n",
      "0 1 in\n",
      "0 1 Greece\n",
      "0 1 ,\n",
      "0 1 with\n",
      "0 1 our\n",
      "0 1 support\n",
      "0 1 ,\n",
      "0 1 need\n",
      "0 1 to\n",
      "1 1 rebuild\n",
      "0 1 your\n",
      "0 1 country\n",
      "0 0 ,\n",
      "0 0 your\n",
      "0 0 structures\n",
      "0 0 ,\n",
      "0 0 your\n",
      "0 0 administration\n",
      "0 0 ,\n",
      "0 0 your\n",
      "0 0 economy\n",
      "0 2 to\n",
      "0 1 increase\n",
      "0 1 the\n",
      "0 1 competitiveness\n",
      "0 1 of\n",
      "0 1 Greece\n",
      "0 0 .\n",
      "0 0 </s>\n",
      "0 0 <s>\n",
      "0 1 We\n",
      "0 1 have\n",
      "0 1 taken\n",
      "0 1 important\n",
      "0 1 ,\n",
      "0 1 fundamental\n",
      "0 1 decisions\n",
      "0 0 over\n",
      "0 0 the\n",
      "0 0 last\n",
      "0 0 couple\n",
      "0 0 of\n",
      "0 0 months\n",
      "0 2 to\n",
      "1 2 safeguard\n",
      "0 1 the\n",
      "0 1 stability\n",
      "0 1 of\n",
      "0 1 the\n",
      "0 1 euro\n",
      "0 1 area\n",
      "0 0 ,\n",
      "0 0 and\n",
      "0 0 indeed\n",
      "0 0 we\n",
      "0 0 are\n",
      "0 0 now\n",
      "0 0 in\n",
      "0 0 the\n",
      "0 0 phase\n",
      "0 0 of\n",
      "0 0 implementation\n",
      "0 0 .\n",
      "0 0 </s>\n",
      "0 0 <s>\n",
      "0 0 \n",
      "0 0 iving\n",
      "0 0 to\n",
      "0 0 the\n",
      "0 0 ECB\n",
      "0 0 the\n",
      "0 0 ultimate\n",
      "0 0 responsibility\n",
      "0 0 for\n",
      "0 0 supervision\n",
      "0 0 of\n",
      "0 0 banks\n",
      "0 0 in\n",
      "0 0 the\n",
      "0 0 euro\n",
      "0 0 area\n",
      "0 0 will\n",
      "0 0 decisively\n",
      "0 0 contribute\n",
      "0 0 to\n",
      "0 1 increase\n",
      "0 1 confidence\n",
      "0 1 between\n",
      "0 1 the\n",
      "0 2 banks\n",
      "0 2 and\n",
      "0 2 in\n",
      "0 2 this\n",
      "0 1 way\n",
      "0 1 increase\n",
      "0 1 the\n",
      "0 1 financial\n",
      "0 1 stability\n",
      "0 1 in\n",
      "0 1 the\n",
      "0 1 euro\n",
      "0 0 area\n",
      "0 0 .\n",
      "0 0 </s>\n"
     ]
    }
   ],
   "source": [
    "PAD_TOKEN = 1\n",
    "example = project_data_converted[\"train\"][0]\n",
    "validation_results_id = 0\n",
    "\n",
    "for project_data_id in range(0, 3): # len(project_data_converted[\"train\"])):\n",
    "    example = project_data_converted[\"train\"][project_data_id]\n",
    "    for i in range(0, len(example[\"input_ids\"])):\n",
    "        if example[\"input_ids\"][i] != PAD_TOKEN:\n",
    "            token = re.sub(\"^ *\", \"\", tokenizer.decode(example[\"input_ids\"][i:i+1]))\n",
    "            label = example[\"labels\"][i:i+1].item()\n",
    "            print(validation_results[validation_results_id][1], label, token)\n",
    "            validation_results_id += 1"
   ]
  },
  {
   "cell_type": "code",
   "execution_count": null,
   "id": "9a36a320-f6c5-47d5-a3cb-61633587631e",
   "metadata": {},
   "outputs": [],
   "source": []
  }
 ],
 "metadata": {
  "kernelspec": {
   "display_name": "python37",
   "language": "python",
   "name": "python37"
  },
  "language_info": {
   "codemirror_mode": {
    "name": "ipython",
    "version": 3
   },
   "file_extension": ".py",
   "mimetype": "text/x-python",
   "name": "python",
   "nbconvert_exporter": "python",
   "pygments_lexer": "ipython3",
   "version": "3.7.3"
  }
 },
 "nbformat": 4,
 "nbformat_minor": 5
}
