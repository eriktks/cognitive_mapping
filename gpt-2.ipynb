{
 "cells": [
  {
   "cell_type": "markdown",
   "id": "6204e751-adff-4dc7-ba9d-64bc2c1cf63e",
   "metadata": {},
   "source": [
    "# GPT-2\n",
    "\n",
    "Testing package: https://github.com/minimaxir/gpt-2-simple"
   ]
  },
  {
   "cell_type": "code",
   "execution_count": 1,
   "id": "d8d4f361-217b-4dde-9898-4c6019c4e12d",
   "metadata": {},
   "outputs": [],
   "source": [
    "import gpt_2_simple as gpt2\n",
    "import os\n",
    "import requests"
   ]
  },
  {
   "cell_type": "code",
   "execution_count": 2,
   "id": "891ec475-2acf-4d09-8fe7-a1bc0732b803",
   "metadata": {},
   "outputs": [],
   "source": [
    "def download_model(model_name):\n",
    "    if not os.path.isdir(os.path.join(\"models\", model_name)):\n",
    "        print(f\"Downloading {model_name} model...\")\n",
    "        gpt2.download_gpt2(model_name=model_name)   # model is saved into current directory under /models/124M/"
   ]
  },
  {
   "cell_type": "code",
   "execution_count": 3,
   "id": "0554c019-5323-4d30-a5a2-9901a8f9352b",
   "metadata": {},
   "outputs": [],
   "source": [
    "def download_data():\n",
    "    file_name = \"shakespeare.txt\"\n",
    "    if not os.path.isfile(file_name):\n",
    "        url = \"https://raw.githubusercontent.com/karpathy/char-rnn/master/data/tinyshakespeare/input.txt\"\n",
    "        data = requests.get(url)\n",
    "        with open(file_name, 'w') as f:\n",
    "            f.write(data.text)"
   ]
  },
  {
   "cell_type": "code",
   "execution_count": 4,
   "id": "cc9de96b-32d5-400f-89e5-f42a87721800",
   "metadata": {},
   "outputs": [],
   "source": [
    "def train(model_name, file_name, max_steps):\n",
    "    sess = gpt2.start_tf_sess()\n",
    "    gpt2.finetune(sess,\n",
    "                  file_name,\n",
    "                  model_name=model_name,\n",
    "                  steps=max_steps)\n",
    "    return sess"
   ]
  },
  {
   "cell_type": "code",
   "execution_count": 11,
   "id": "195a0823-701e-4876-b802-aec93bceb719",
   "metadata": {},
   "outputs": [],
   "source": [
    "def run_model(sess, prefix=None):\n",
    "    gpt2.generate(sess, prefix=prefix)"
   ]
  },
  {
   "cell_type": "code",
   "execution_count": 6,
   "id": "bba565cf-76ba-41a2-9e4b-fc069732a11f",
   "metadata": {},
   "outputs": [
    {
     "name": "stdout",
     "output_type": "stream",
     "text": [
      "Loading checkpoint checkpoint/run1/model-200\n",
      "INFO:tensorflow:Restoring parameters from checkpoint/run1/model-200\n"
     ]
    },
    {
     "name": "stderr",
     "output_type": "stream",
     "text": [
      "100%|██████████| 1/1 [00:00<00:00, 864.27it/s]"
     ]
    },
    {
     "name": "stdout",
     "output_type": "stream",
     "text": [
      "Loading dataset...\n",
      "dataset has 1075 tokens\n",
      "Training...\n"
     ]
    },
    {
     "name": "stderr",
     "output_type": "stream",
     "text": [
      "\n"
     ]
    },
    {
     "name": "stdout",
     "output_type": "stream",
     "text": [
      "======== SAMPLE 1 ========\n",
      " Town City,\n",
      "Sleeping in the river Tiber, a very old man of the house,\n",
      "Who by fear will die thereof extinguished.\n",
      "\n",
      "34\n",
      "Between two rivers the shore divided\n",
      "By two men the point will come off:\n",
      "The one will call it a point in peace through them,\n",
      "The other cruel by night through hunger and thirst.\n",
      "\n",
      "35\n",
      "After the quarrel and fire extinguished by water,\n",
      "One day the great flame will be seen burning,\n",
      "Lightning in fury will it be chased out through fluke,\n",
      "Rome and Arabia the lesser part ruined.\n",
      "\n",
      "36\n",
      "The greater part of the house of the dead one burned,\n",
      "Through fire and blood and water he is uninhabited,\n",
      "The greater part driven out, great confusion and death.\n",
      "\n",
      "37\n",
      "By water the greater part burned, great city stained red,\n",
      "The greater part in uproar to put to death the city:\n",
      "The greater part in uproar to put to death the great King.\n",
      "\n",
      "38\n",
      "Great number of the same color to leave Lake Geneva,\n",
      "After Gien-ba-na the great color put to flight:\n",
      "The same in France for the King put into prison,\n",
      "Then all expelled to return to the realm.\n",
      "\n",
      "39\n",
      "Of the two rivers to be received as one great,\n",
      "Near Parma received all praise, praise more than substance:\n",
      "Lake Geneva great praise, praise great praise, praise near to death,\n",
      "Hail and thunder very great praise.\n",
      "\n",
      "40\n",
      "The great Pontiff will be elected, and will he or she\n",
      "By false promise received by falsely appointed ones,\n",
      "He or she will lose almost all reputation.\n",
      "\n",
      "41\n",
      "The red ones red, pale and red with anger,\n",
      "They will be obliged to abandon their seat:\n",
      "The Capitol red with fury, red one drawn out,\n",
      "Red captive changed.\n",
      "\n",
      "42\n",
      "The great King turned aside,\n",
      "When there will be no more red in the realm:\n",
      "The realm red, red ones red with anger,\n",
      "They will be obliged to abandon their seat:\n",
      "Blood Red, White Red, Holy Grail, red out of the gate.\n",
      "\n",
      "43\n",
      "Near the Black Sea a new Lake, watered by days:\n",
      "Near Malta the land will be watered again,\n",
      "By Hesperian citizens and Parma.\n",
      "\n",
      "44\n",
      "Blood and fire mixed together in a well in Malta:\n",
      "Sorbia, Italy and the Northern Bluffs,\n",
      "They will be inundated by Barbarian blood.\n",
      "\n",
      "45\n",
      "Malta and Imola joined in witchcraft,\n",
      "The Sun and Moon will be involved in the conflict:\n",
      "The Sun and Cancer in conflict through Hesperian blood\n",
      "Through Cock and Eagle joined.\n",
      "\n",
      "46\n",
      "The great Ocean facing the face of the earth,\n",
      "One who will be unable to bear his new task:\n",
      "To warn the great army against the enemy,\n",
      "Captive escapede in the shadows.\n",
      "\n",
      "47\n",
      "The Celtic land mixed with its neighbors,\n",
      "It will be subjected by pirates, cruel and inhuman:\n",
      "The great one from Chios, from Cyprus vexed,\n",
      "His route long and treacherous.\n",
      "\n",
      "48\n",
      "The great Ocean by sea quite free,\n",
      "Its course will be influenced by Barbarian hands:\n",
      "To pass over the land made of Arbon,\n",
      "New islands made of marble and wood,\n",
      "They will be submerged and the remainder surprised.\n",
      "\n",
      "49\n",
      "The great Ocean by sea quite free,\n",
      "It turns under Barbarian hands:\n",
      "The course of the great Pontiff will be changed,\n",
      "His arm and leg cut at will.\n",
      "\n",
      "50\n",
      "The great Pontiff turned aside,\n",
      "The course of the great Pontiff turned aside turns loose:\n",
      "The course of the false Militant accused,\n",
      "All faults forgiven except one's having been\n",
      "Liberty and the great one will attain to the throne.\n",
      "\n",
      "51\n",
      "From the depths of the Black Sea will come\n",
      "A marine monster from foreign land:\n",
      "From land of Babylon he will come to warn his forebears,\n",
      "He and his Trojan blood will come to vex the brothers.\n",
      "\n",
      "52\n",
      "A Celtic land will come under the false Satyr,\n",
      "A realm will become much more cruel and foreign:\n",
      "King of Babylon will he rule under a Satyr,\n",
      "One Pontiff will have a great empire under Saturn.\n",
      "\n",
      "53\n",
      "The blood royal will come to a King,\n",
      "A Celtic land will give way to a greater one:\n",
      "By land, sea, blood and fire will Babylon fray,\n",
      "Then through fire and water great floods wash.\n",
      "\n",
      "54\n",
      "The great Monarch fleeing death,\n",
      "Seven years his country badly troubled:\n",
      "The French king will give victory to Morocco,\n",
      "And his army seized by the Arabs.\n",
      "\n",
      "55\n",
      "He who with his great army will enter\n",
      "Of Tunis and Limoges, and Mazararta and the Gulf:\n",
      "He will cause the enemy to leave strongly\n",
      "\n",
      "[201 | 278.07] loss=2.85 avg=2.85\n",
      "[202 | 397.87] loss=1.71 avg=2.28\n",
      "[203 | 506.63] loss=1.42 avg=1.99\n",
      "[204 | 611.19] loss=1.24 avg=1.80\n",
      "[205 | 721.16] loss=1.11 avg=1.66\n",
      "[206 | 825.55] loss=1.02 avg=1.55\n",
      "[207 | 943.27] loss=0.93 avg=1.46\n",
      "[208 | 1059.66] loss=0.86 avg=1.38\n",
      "[209 | 1174.16] loss=0.80 avg=1.31\n",
      "[210 | 1300.01] loss=0.77 avg=1.26\n",
      "[211 | 1410.68] loss=0.71 avg=1.20\n",
      "[212 | 1523.74] loss=0.65 avg=1.16\n",
      "[213 | 1632.45] loss=0.62 avg=1.11\n",
      "[214 | 1739.60] loss=0.56 avg=1.07\n",
      "[215 | 1847.25] loss=0.53 avg=1.03\n",
      "[216 | 1951.92] loss=0.48 avg=0.99\n",
      "[217 | 2060.64] loss=0.43 avg=0.96\n",
      "[218 | 2175.84] loss=0.38 avg=0.92\n",
      "[219 | 2287.76] loss=0.34 avg=0.89\n",
      "[220 | 2404.39] loss=0.30 avg=0.86\n",
      "Saving checkpoint/run1/model-220\n"
     ]
    }
   ],
   "source": [
    "MAX_STEPS = 20\n",
    "\n",
    "file_name = \"capitals.txt\"\n",
    "\n",
    "model_name = \"124M\"\n",
    "download_model(model_name)\n",
    "download_data()\n",
    "sess = train(model_name, file_name, MAX_STEPS)"
   ]
  },
  {
   "cell_type": "code",
   "execution_count": 13,
   "id": "a3e55731-e877-4635-b162-e0831c8b47fc",
   "metadata": {},
   "outputs": [
    {
     "name": "stdout",
     "output_type": "stream",
     "text": [
      "What is the capital of Zimbabwe #Zimbabwe #Harare #Hararean #IslaHargeisa #IslaItalia #IslaMonaco #IslaSaint Kitts and Nevis #Isla Tunisia #Isla Turkey #Isla Qatar #Isla Qatar United Kingdom #Isla Kyrgyzstan #Isla Slovakia #Isla Spain #Isla Uzbekistan #Isla Venezuela #Isla (OLD) Wallis and Futuna Islands #Isla France #Isla Qatar #Isla Qatar Territories #Isla Qatar Source:  Hague-Fouad #Arabyua                                                                                                                                                                                                                                                                                                                                                                                                                                                                                                                                                                                                                                                                                                                                                                                                                                                                                                                                 \n"
     ]
    }
   ],
   "source": [
    "run_model(sess, prefix=\"What is the capital of Zimbabwe?\")"
   ]
  },
  {
   "cell_type": "code",
   "execution_count": 14,
   "id": "2caae888-d5f4-4b35-ba0e-20c38de6dd89",
   "metadata": {},
   "outputs": [
    {
     "name": "stdout",
     "output_type": "stream",
     "text": [
      "What is the capital of Croatia #Croatia #DK #Denmark #Swedish #Denmark #Swedish #Denmark #Denmark #Denmark #Denmark #Denmark #Denmark #Denmark #Denmark #Denmark #Denmark #Denmark #Denmark #Denmark #Denmark #Denmark #Denmark #Denmark #Denmark #Denmark #Denmark #Denmark #Denmark #Denmark #Denmark #Denmark #Denmark #Denmark #Denmark #Denmark #Denmark #Denmark #Denmark #Denmark #Denmark #Denmark #Denmark #Denmark #Denmark #Denmark #Denmark #Denmark #Denmark #Denmark #Denmark #Denmark #Denmark #Denmark #Denmark #Denmark #Denmark #Denmark #Denmark #Denmark #Denmark #Denmark #Denmark #Denmark #Denmark #Denmark #Denmark #Denmark #Denmark #Denmark #Denmark #Denmark #Denmark #Denmark #Denmark #Denmark #Denmark #Denmark #Denmark #Denmark #Denmark #Denmark #Denmark #Denmark #Denmark #Denmark #Denmark #Denmark #Denmark #Denmark #Denmark #Denmark #Denmark #Denmark #Denmark #Denmark #Denmark #Denmark #Denmark #Denmark #Denmark #Denmark #Denmark #Denmark #Denmark #Denmark #Denmark #Denmark #Denmark #Denmark #Denmark #Denmark #Denmark #Denmark #Denmark #Denmark #Denmark #Denmark #Denmark #Denmark #Denmark #Denmark #Denmark #Denmark #Denmark #Denmark #Denmark #Denmark #Denmark #Denmark #Denmark #Denmark #Denmark #Denmark #Denmark #Denmark #Denmark #Denmark #Denmark #Denmark #Denmark #Denmark #Denmark #Denmark #Denmark #Denmark #Denmark #Denmark #Denmark #Denmark #Denmark #Denmark #Denmark #Denmark #Denmark #Denmark #Denmark #Denmark #Denmark #Denmark #Denmark #Denmark #Denmark #Denmark #Denmark #Denmark #Denmark #Denmark #Denmark #Denmark #Denmark #Denmark #Denmark #Denmark #Denmark #Denmark #Denmark #Denmark #Denmark #Denmark #Denmark #Denmark #Denmark #Denmark #Denmark #Denmark #Denmark #Denmark #Denmark #Denmark #Denmark #Denmark #Denmark #Denmark #Denmark #Denmark #Denmark #Denmark #Denmark #Denmark #Denmark #Denmark #Denmark #Denmark #Denmark #Denmark #Denmark #Denmark #Denmark #Denmark #Denmark #Denmark #Denmark #Denmark #Denmark #Denmark #Denmark #Denmark #Denmark #Denmark #Denmark #Denmark #Denmark #Denmark #Denmark #Denmark #Denmark #Denmark #Denmark #Denmark #Denmark #Denmark #Denmark #Denmark #Denmark #Denmark #Denmark #Denmark #Denmark #Denmark #Denmark #Denmark #Denmark #Denmark #Denmark #Denmark #Denmark #Denmark #Denmark #Denmark #Denmark #Denmark #Denmark #Denmark #Denmark #Denmark #Denmark #Denmark #Denmark #Denmark #Denmark #Denmark #Denmark #Denmark #Denmark #Denmark #Denmark #Denmark #Denmark #Denmark #Denmark #Denmark #Denmark #Denmark #Denmark #Denmark #Denmark #Denmark #Denmark #Denmark #Denmark #Denmark #Denmark #Denmark #Denmark #Denmark #Denmark #Denmark #Denmark #Denmark #Denmark #Denmark #Denmark #Denmark #Denmark #Denmark #Denmark #Denmark #Denmark #Denmark #Denmark #Denmark #Denmark #Denmark #Denmark #Denmark #Denmark #Denmark #Denmark #Denmark #Denmark #Denmark #Denmark #Denmark #Denmark #Denmark #Denmark #Denmark #Denmark #Denmark #Denmark #Denmark #Denmark #Denmark #Denmark #Denmark #Denmark #Denmark #Denmark #Denmark #Denmark #Denmark #Denmark #Denmark #Denmark #Denmark #Denmark #Denmark #Denmark #\n"
     ]
    }
   ],
   "source": [
    "run_model(sess, prefix=\"What is the capital of Croatia?\")"
   ]
  },
  {
   "cell_type": "code",
   "execution_count": null,
   "id": "d8ff2799-18d2-4955-8672-c7000921d294",
   "metadata": {},
   "outputs": [],
   "source": []
  }
 ],
 "metadata": {
  "kernelspec": {
   "display_name": "python37",
   "language": "python",
   "name": "python37"
  },
  "language_info": {
   "codemirror_mode": {
    "name": "ipython",
    "version": 3
   },
   "file_extension": ".py",
   "mimetype": "text/x-python",
   "name": "python",
   "nbconvert_exporter": "python",
   "pygments_lexer": "ipython3",
   "version": "3.7.3"
  }
 },
 "nbformat": 4,
 "nbformat_minor": 5
}
