{
 "cells": [
  {
   "cell_type": "markdown",
   "id": "6204e751-adff-4dc7-ba9d-64bc2c1cf63e",
   "metadata": {},
   "source": [
    "# GPT-2\n",
    "\n",
    "Testing package: https://github.com/minimaxir/gpt-2-simple"
   ]
  },
  {
   "cell_type": "code",
   "execution_count": 1,
   "id": "d8d4f361-217b-4dde-9898-4c6019c4e12d",
   "metadata": {},
   "outputs": [],
   "source": [
    "import gpt_2_simple as gpt2\n",
    "import os\n",
    "import requests"
   ]
  },
  {
   "cell_type": "code",
   "execution_count": 2,
   "id": "891ec475-2acf-4d09-8fe7-a1bc0732b803",
   "metadata": {},
   "outputs": [],
   "source": [
    "def download_model(model_name):\n",
    "    if not os.path.isdir(os.path.join(\"models\", model_name)):\n",
    "        print(f\"Downloading {model_name} model...\")\n",
    "        gpt2.download_gpt2(model_name=model_name)   # model is saved into current directory under /models/124M/"
   ]
  },
  {
   "cell_type": "code",
   "execution_count": 3,
   "id": "0554c019-5323-4d30-a5a2-9901a8f9352b",
   "metadata": {},
   "outputs": [],
   "source": [
    "def download_data():\n",
    "    file_name = \"shakespeare.txt\"\n",
    "    if not os.path.isfile(file_name):\n",
    "        url = \"https://raw.githubusercontent.com/karpathy/char-rnn/master/data/tinyshakespeare/input.txt\"\n",
    "        data = requests.get(url)\n",
    "        with open(file_name, 'w') as f:\n",
    "            f.write(data.text)"
   ]
  },
  {
   "cell_type": "code",
   "execution_count": 4,
   "id": "cc9de96b-32d5-400f-89e5-f42a87721800",
   "metadata": {},
   "outputs": [],
   "source": [
    "def train(model_name, file_name, max_steps):\n",
    "    sess = gpt2.start_tf_sess()\n",
    "    gpt2.finetune(sess,\n",
    "                  file_name,\n",
    "                  model_name=model_name,\n",
    "                  steps=max_steps)\n",
    "    return sess"
   ]
  },
  {
   "cell_type": "code",
   "execution_count": 5,
   "id": "195a0823-701e-4876-b802-aec93bceb719",
   "metadata": {},
   "outputs": [],
   "source": [
    "def run_model(sess):\n",
    "    gpt2.generate(sess)"
   ]
  },
  {
   "cell_type": "code",
   "execution_count": 6,
   "id": "bba565cf-76ba-41a2-9e4b-fc069732a11f",
   "metadata": {},
   "outputs": [
    {
     "name": "stdout",
     "output_type": "stream",
     "text": [
      "Loading checkpoint checkpoint/run1/model-127\n",
      "INFO:tensorflow:Restoring parameters from checkpoint/run1/model-127\n"
     ]
    },
    {
     "name": "stderr",
     "output_type": "stream",
     "text": [
      "  0%|          | 0/1 [00:00<?, ?it/s]"
     ]
    },
    {
     "name": "stdout",
     "output_type": "stream",
     "text": [
      "Loading dataset...\n"
     ]
    },
    {
     "name": "stderr",
     "output_type": "stream",
     "text": [
      "100%|██████████| 1/1 [00:00<00:00,  2.64it/s]\n"
     ]
    },
    {
     "name": "stdout",
     "output_type": "stream",
     "text": [
      "dataset has 45221 tokens\n",
      "Training...\n",
      "[128 | 68.77] loss=3.68 avg=3.68\n",
      "[129 | 139.22] loss=3.55 avg=3.62\n",
      "[130 | 206.41] loss=3.71 avg=3.65\n",
      "[131 | 274.31] loss=3.48 avg=3.61\n",
      "[132 | 336.75] loss=3.46 avg=3.58\n",
      "[133 | 400.39] loss=3.49 avg=3.56\n",
      "[134 | 468.60] loss=3.32 avg=3.53\n",
      "[135 | 541.46] loss=3.48 avg=3.52\n",
      "[136 | 609.94] loss=3.40 avg=3.51\n",
      "[137 | 685.41] loss=3.36 avg=3.49\n",
      "[138 | 752.97] loss=3.30 avg=3.47\n",
      "[139 | 817.13] loss=3.34 avg=3.46\n",
      "[140 | 885.46] loss=3.07 avg=3.43\n",
      "[141 | 959.60] loss=3.27 avg=3.42\n",
      "[142 | 1031.53] loss=3.22 avg=3.40\n",
      "[143 | 1105.19] loss=3.25 avg=3.39\n",
      "[144 | 1164.17] loss=2.97 avg=3.37\n",
      "[145 | 1220.13] loss=3.17 avg=3.36\n",
      "[146 | 1275.64] loss=3.06 avg=3.34\n",
      "[147 | 1330.74] loss=3.21 avg=3.33\n",
      "[148 | 1387.02] loss=3.01 avg=3.31\n",
      "[149 | 1455.38] loss=3.29 avg=3.31\n",
      "[150 | 1516.96] loss=3.12 avg=3.30\n",
      "[151 | 1575.39] loss=2.89 avg=3.28\n",
      "[152 | 1633.76] loss=3.10 avg=3.28\n",
      "[153 | 1693.16] loss=3.00 avg=3.26\n",
      "[154 | 1752.34] loss=2.88 avg=3.25\n",
      "[155 | 1811.23] loss=3.23 avg=3.25\n",
      "[156 | 1870.41] loss=3.18 avg=3.24\n",
      "[157 | 1934.78] loss=2.96 avg=3.23\n",
      "[158 | 1995.59] loss=2.84 avg=3.22\n",
      "[159 | 2054.10] loss=2.86 avg=3.21\n",
      "[160 | 2114.50] loss=2.94 avg=3.20\n",
      "[161 | 2172.62] loss=2.64 avg=3.18\n",
      "[162 | 2231.41] loss=2.78 avg=3.16\n",
      "[163 | 2290.65] loss=2.98 avg=3.16\n",
      "[164 | 2348.81] loss=2.81 avg=3.15\n",
      "[165 | 2407.36] loss=2.74 avg=3.13\n",
      "[166 | 2466.84] loss=2.64 avg=3.12\n",
      "[167 | 2526.16] loss=2.70 avg=3.11\n",
      "[168 | 2585.03] loss=2.68 avg=3.09\n",
      "[169 | 2642.99] loss=2.67 avg=3.08\n",
      "[170 | 2700.99] loss=2.71 avg=3.07\n",
      "[171 | 2761.45] loss=2.49 avg=3.05\n",
      "[172 | 2819.68] loss=2.55 avg=3.04\n",
      "[173 | 2879.09] loss=2.63 avg=3.03\n",
      "[174 | 2937.20] loss=2.47 avg=3.01\n",
      "[175 | 2995.97] loss=2.37 avg=3.00\n",
      "[176 | 3056.13] loss=2.51 avg=2.98\n",
      "[177 | 3114.92] loss=2.50 avg=2.97\n",
      "[178 | 3174.47] loss=2.37 avg=2.96\n",
      "[179 | 3243.36] loss=2.02 avg=2.93\n",
      "[180 | 3317.95] loss=2.18 avg=2.92\n",
      "[181 | 3373.42] loss=2.38 avg=2.90\n",
      "[182 | 3427.84] loss=2.28 avg=2.89\n",
      "[183 | 3486.82] loss=2.21 avg=2.87\n",
      "[184 | 3546.65] loss=2.41 avg=2.86\n",
      "[185 | 3608.10] loss=2.33 avg=2.85\n",
      "[186 | 3667.00] loss=2.23 avg=2.84\n",
      "[187 | 3724.50] loss=2.04 avg=2.82\n",
      "[188 | 3786.02] loss=2.50 avg=2.81\n",
      "[189 | 3844.77] loss=1.98 avg=2.79\n",
      "[190 | 3902.95] loss=1.99 avg=2.78\n",
      "[191 | 3962.06] loss=1.80 avg=2.76\n",
      "[192 | 4023.48] loss=2.09 avg=2.74\n",
      "[193 | 4093.34] loss=2.17 avg=2.73\n",
      "[194 | 4161.81] loss=1.93 avg=2.71\n",
      "[195 | 4227.68] loss=1.76 avg=2.69\n",
      "[196 | 4289.34] loss=1.82 avg=2.68\n",
      "[197 | 4349.87] loss=1.98 avg=2.66\n",
      "[198 | 4419.30] loss=1.72 avg=2.64\n",
      "[199 | 4479.33] loss=1.89 avg=2.63\n",
      "[200 | 4542.38] loss=1.58 avg=2.61\n",
      "Saving checkpoint/run1/model-200\n"
     ]
    }
   ],
   "source": [
    "MAX_STEPS = 73\n",
    "\n",
    "file_name = \"nostradamus.txt\"\n",
    "\n",
    "model_name = \"124M\"\n",
    "download_model(model_name)\n",
    "download_data()\n",
    "sess = train(model_name, file_name, MAX_STEPS)"
   ]
  },
  {
   "cell_type": "code",
   "execution_count": 7,
   "id": "17ffcdc6-d85a-4e1e-a249-d841f5574487",
   "metadata": {},
   "outputs": [
    {
     "name": "stdout",
     "output_type": "stream",
     "text": [
      "May he be restored to his high place,\n",
      "Which he will extend far beyond the confines of Reggio.\n",
      "\n",
      "77\n",
      "The two greatest ones of old in Capua,\n",
      "One to reign through the change of Mercury:\n",
      "His reign will be of very great duration,\n",
      "The two greatest ones of old will be closely allied.\n",
      "\n",
      "78\n",
      "Vercelli, Florence, Salona, Tuscon,\n",
      "Of the two most highly placed ones they will be closely allied.\n",
      "Venice will be uninhabited for long:\n",
      "The fire in the ship will put out the light,\n",
      "The great one of Turin will come to make a stop.\n",
      "\n",
      "79\n",
      "Towards the Dardical King by the Agrippa:\n",
      "The two greatest ones of old in Florence,\n",
      "One to reign through the change of Mercury:\n",
      "His reign will be of very long duration,\n",
      "The realm of the great Agrippa.\n",
      "\n",
      "80\n",
      "The great one of Sicily by the Cock at Tours and Aquitaine:\n",
      "Outside Poitiers he will leave it,\n",
      "He will come to change it very little:\n",
      "Through the changes he will come to show little.\n",
      "\n",
      "81\n",
      "The great one of the world by the Celtic King at Montereale:\n",
      "Near the Alps he will change his hue,\n",
      "He will make an end of the Ulquamores, as far as Paris.\n",
      "\n",
      "82\n",
      "The great one of the world through the great Prince of Tunis:\n",
      "Very near the Pyrenees mountains he changes:\n",
      "He will come to stretch his wings far,\n",
      "He will come to occupy the realm of the Crusaders.\n",
      "\n",
      "83\n",
      "The great one of Asia through the great Monarch of Egypt:\n",
      "Through the Pyrenees mountains will he change:\n",
      "He will come to turn Nubian Arabia into Tunis,\n",
      "And he will extend his wings far.\n",
      "\n",
      "84\n",
      "The great one of Asia through the great Roman King of Spain:\n",
      "Through the Alps and the Pyrenees mountains:\n",
      "The great one of Asia through the Macedonian one:\n",
      "Through the Cimbri will he extend his wings far,\n",
      "So that his reign approaches almost complete.\n",
      "\n",
      "85\n",
      "The great one of Asia through the Celtic and English Prince of Spain:\n",
      "Through the Pyrenees mountains will he change:\n",
      "Near the Pyrenees mountains he will change:\n",
      "The great one of Europe through the Frankins long lost:\n",
      "The great Roman Pontiff will he restore.\n",
      "\n",
      "86\n",
      "The great tyrant of Asia Minor,\n",
      "Traitors to the entire Roman people:\n",
      "He will be interpreted as changing his face.\n",
      "\n",
      "87\n",
      "The great Roman Pontiff through those of Crete,\n",
      "Against the Cock and his Cock will he be routed:\n",
      "He will cause the Chalice and the Vestals to tremble,\n",
      "And he who holds the Rubicon to break down.\n",
      "\n",
      "88\n",
      "The great Pontiff through those of Malta,\n",
      "Against the Cock and his Cock at the Garonne:\n",
      "The army of the greatest one of the Gauls\n",
      "Will be lodged in the confines of the Gironde.\n",
      "\n",
      "89\n",
      "The great one of Sicily through the great one of Aegean:\n",
      "Of the two who will be most near the Rhine,\n",
      "The one in the land of Sicily will cause the conflict:\n",
      "The great one of Asia through the three great Barbarians.\n",
      "\n",
      "90\n",
      "The great Pontiff through those of Malta,\n",
      "Against the Cock and his Cock at the Garonne:\n",
      "The army of the great one of the Gauls\n",
      "Will be lodged in the confines of the Gironde.\n",
      "\n",
      "91\n",
      "Through the fault of the great one of Asia Minor,\n",
      "By the Cock at the Garonne and at Gien:\n",
      "By the Latins people a very bad omen\n",
      "Will occur at the Garonne and at Savona.\n",
      "\n",
      "92\n",
      "Through the fault of the great one Wesley,\n",
      "By the Lombard people they will cause them to change:\n",
      "Through the Gauls their leader deceived,\n",
      "The great one of Sabinia will cause them to pause.\n",
      "\n",
      "93\n",
      "Through the fault of the great one of Europe Wesley,\n",
      "By the Latins people they will cause them to trouble:\n",
      "Through the unworthy one of Savonna they will cause disorder.\n",
      "\n",
      "94\n",
      "Through the faults of the great one of Asia Minor,\n",
      "By the fault of the great monk at Rome:\n",
      "Through the faults of the great Pontiff they will cause their trouble,\n",
      "The Church ruined both by the Papacy and the Romans.\n",
      "\n",
      "95\n",
      "Through the faults of the great Swiss people,\n",
      "By the fault of the salt in the pail at Nîmes:\n",
      "By the city scourged, its people dead by sea,\n",
      "The prudent one will cause it to be opened again.\n",
      "\n",
      "96\n",
      "Through the faults of Aquilon the great,\n",
      "By the cold and dry wind at\n"
     ]
    }
   ],
   "source": [
    "run_model(sess)"
   ]
  },
  {
   "cell_type": "code",
   "execution_count": null,
   "id": "ee97e0f7-703f-4e23-be8b-52c1144359f5",
   "metadata": {},
   "outputs": [],
   "source": []
  }
 ],
 "metadata": {
  "kernelspec": {
   "display_name": "python37",
   "language": "python",
   "name": "python37"
  },
  "language_info": {
   "codemirror_mode": {
    "name": "ipython",
    "version": 3
   },
   "file_extension": ".py",
   "mimetype": "text/x-python",
   "name": "python",
   "nbconvert_exporter": "python",
   "pygments_lexer": "ipython3",
   "version": "3.7.3"
  }
 },
 "nbformat": 4,
 "nbformat_minor": 5
}
